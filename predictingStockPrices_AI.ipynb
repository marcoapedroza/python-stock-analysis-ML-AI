{
  "nbformat": 4,
  "nbformat_minor": 0,
  "metadata": {
    "colab": {
      "name": "predictingStockPrices-AI.ipynb",
      "provenance": [],
      "collapsed_sections": [],
      "include_colab_link": true
    },
    "kernelspec": {
      "display_name": "Python 3",
      "language": "python",
      "name": "python3"
    },
    "language_info": {
      "codemirror_mode": {
        "name": "ipython",
        "version": 3
      },
      "file_extension": ".py",
      "mimetype": "text/x-python",
      "name": "python",
      "nbconvert_exporter": "python",
      "pygments_lexer": "ipython3",
      "version": "3.7.7"
    }
  },
  "cells": [
    {
      "cell_type": "markdown",
      "metadata": {
        "id": "view-in-github",
        "colab_type": "text"
      },
      "source": [
        "<a href=\"https://colab.research.google.com/github/marcoapedroza/python-stock-analysis-ML-AI/blob/main/predictingStockPrices_AI.ipynb\" target=\"_parent\"><img src=\"https://colab.research.google.com/assets/colab-badge.svg\" alt=\"Open In Colab\"/></a>"
      ]
    },
    {
      "cell_type": "markdown",
      "metadata": {
        "id": "uEmUfMpv-54p"
      },
      "source": [
        "# Predicting Stock Prices - Deep Learning Model"
      ]
    },
    {
      "cell_type": "markdown",
      "metadata": {
        "id": "Ql3Nc_la_M6g"
      },
      "source": [
        "## Understand the problem statement and business case:\n",
        "*   In this project, I will train a **deep neural network model** to predict future stock prices;\n",
        "*   The AI model will be trained using **historical stock price** data along with the **volume** of transactions;\n",
        "*   I will use a type of neural nets known as **Long Short-Term Memory Networks (LSTM).**"
      ]
    },
    {
      "cell_type": "markdown",
      "metadata": {
        "id": "yX5R-sqZ9-vy"
      },
      "source": [
        "- **LSTM Model** is a **Recurrent Neural Network (RNN)**;\n",
        "- It has a **feedback loop** that is designed to take temporal dimension into consideration;\n",
        "- **Feedback Loop: A hidden layer** that gives an output and feeds itself;\n",
        "- **RNNs** allow us to work with a sequence of **inputs, outputs, and both**."
      ]
    },
    {
      "cell_type": "markdown",
      "metadata": {
        "id": "uOSZMLPB_Svn"
      },
      "source": [
        "### Import datasets and libraries:"
      ]
    },
    {
      "cell_type": "code",
      "metadata": {
        "id": "zKtV3T3--xS1"
      },
      "source": [
        "import pandas as pd\n",
        "import plotly.express as px\n",
        "import seaborn as sns\n",
        "from copy import copy\n",
        "from scipy import stats\n",
        "import matplotlib.pyplot as plt\n",
        "import numpy as np\n",
        "import plotly.figure_factory as ff\n",
        "import yfinance as yf\n",
        "from tensorflow import keras\n",
        "import warnings\n",
        "warnings.filterwarnings('ignore')"
      ],
      "execution_count": null,
      "outputs": []
    },
    {
      "cell_type": "code",
      "metadata": {
        "colab": {
          "base_uri": "https://localhost:8080/",
          "height": 484
        },
        "id": "pJ_EecOe_mYS",
        "outputId": "f5c72a06-88a1-4d41-ebad-33e9f254e43a"
      },
      "source": [
        "tickers = 'ABEV3.SA B3SA3.SA BBDC3.SA BRKM5.SA CCRO3.SA ELET3.SA EMBR3.SA MGLU3.SA LAME4.SA PETR3.SA'\n",
        "ticker = '^BVSP'\n",
        "\n",
        "# Adjusted Close Stock Prices\n",
        "bovespa = yf.download(ticker, start=\"2013-01-01\")['Adj Close']\n",
        "stock_prices = yf.download(tickers, start=\"2013-01-01\")['Adj Close']\n",
        "stock_prices.dropna(how='all', inplace=True)\n",
        "stock_prices = pd.merge(stock_prices, bovespa, on='Date')\n",
        "stock_prices.columns = ['ABEV3', 'B3SA3', 'BBDC3', 'BRKM5', 'CCRO3', 'ELET3', 'EMBR3', 'LAME4', 'MGLU3', 'PETR3', 'BOVESPA']\n",
        "stock_prices"
      ],
      "execution_count": null,
      "outputs": [
        {
          "output_type": "stream",
          "text": [
            "[*********************100%***********************]  1 of 1 completed\n",
            "[*********************100%***********************]  10 of 10 completed\n"
          ],
          "name": "stdout"
        },
        {
          "output_type": "execute_result",
          "data": {
            "text/html": [
              "<div>\n",
              "<style scoped>\n",
              "    .dataframe tbody tr th:only-of-type {\n",
              "        vertical-align: middle;\n",
              "    }\n",
              "\n",
              "    .dataframe tbody tr th {\n",
              "        vertical-align: top;\n",
              "    }\n",
              "\n",
              "    .dataframe thead th {\n",
              "        text-align: right;\n",
              "    }\n",
              "</style>\n",
              "<table border=\"1\" class=\"dataframe\">\n",
              "  <thead>\n",
              "    <tr style=\"text-align: right;\">\n",
              "      <th></th>\n",
              "      <th>ABEV3</th>\n",
              "      <th>B3SA3</th>\n",
              "      <th>BBDC3</th>\n",
              "      <th>BRKM5</th>\n",
              "      <th>CCRO3</th>\n",
              "      <th>ELET3</th>\n",
              "      <th>EMBR3</th>\n",
              "      <th>LAME4</th>\n",
              "      <th>MGLU3</th>\n",
              "      <th>PETR3</th>\n",
              "      <th>BOVESPA</th>\n",
              "    </tr>\n",
              "    <tr>\n",
              "      <th>Date</th>\n",
              "      <th></th>\n",
              "      <th></th>\n",
              "      <th></th>\n",
              "      <th></th>\n",
              "      <th></th>\n",
              "      <th></th>\n",
              "      <th></th>\n",
              "      <th></th>\n",
              "      <th></th>\n",
              "      <th></th>\n",
              "      <th></th>\n",
              "    </tr>\n",
              "  </thead>\n",
              "  <tbody>\n",
              "    <tr>\n",
              "      <th>2013-01-02</th>\n",
              "      <td>12.468795</td>\n",
              "      <td>10.506537</td>\n",
              "      <td>11.001677</td>\n",
              "      <td>9.456411</td>\n",
              "      <td>13.490131</td>\n",
              "      <td>4.073360</td>\n",
              "      <td>13.784053</td>\n",
              "      <td>10.699188</td>\n",
              "      <td>0.362545</td>\n",
              "      <td>17.815228</td>\n",
              "      <td>62550.00000</td>\n",
              "    </tr>\n",
              "    <tr>\n",
              "      <th>2013-01-03</th>\n",
              "      <td>12.689861</td>\n",
              "      <td>10.506537</td>\n",
              "      <td>11.605797</td>\n",
              "      <td>9.657761</td>\n",
              "      <td>13.730900</td>\n",
              "      <td>4.224673</td>\n",
              "      <td>13.624968</td>\n",
              "      <td>10.699188</td>\n",
              "      <td>0.377499</td>\n",
              "      <td>18.479706</td>\n",
              "      <td>63312.00000</td>\n",
              "    </tr>\n",
              "    <tr>\n",
              "      <th>2013-01-04</th>\n",
              "      <td>12.480665</td>\n",
              "      <td>10.312937</td>\n",
              "      <td>11.577574</td>\n",
              "      <td>9.560557</td>\n",
              "      <td>13.971669</td>\n",
              "      <td>4.273094</td>\n",
              "      <td>13.344234</td>\n",
              "      <td>10.699188</td>\n",
              "      <td>0.375242</td>\n",
              "      <td>18.542559</td>\n",
              "      <td>62523.00000</td>\n",
              "    </tr>\n",
              "    <tr>\n",
              "      <th>2013-01-07</th>\n",
              "      <td>12.624581</td>\n",
              "      <td>10.260814</td>\n",
              "      <td>11.304679</td>\n",
              "      <td>9.435583</td>\n",
              "      <td>13.957504</td>\n",
              "      <td>4.230726</td>\n",
              "      <td>13.456529</td>\n",
              "      <td>10.699188</td>\n",
              "      <td>0.366495</td>\n",
              "      <td>18.300117</td>\n",
              "      <td>61933.00000</td>\n",
              "    </tr>\n",
              "    <tr>\n",
              "      <th>2013-01-08</th>\n",
              "      <td>12.609744</td>\n",
              "      <td>10.350169</td>\n",
              "      <td>11.267038</td>\n",
              "      <td>9.414756</td>\n",
              "      <td>13.950422</td>\n",
              "      <td>3.873626</td>\n",
              "      <td>12.885703</td>\n",
              "      <td>10.699188</td>\n",
              "      <td>0.363956</td>\n",
              "      <td>17.779306</td>\n",
              "      <td>61128.00000</td>\n",
              "    </tr>\n",
              "    <tr>\n",
              "      <th>...</th>\n",
              "      <td>...</td>\n",
              "      <td>...</td>\n",
              "      <td>...</td>\n",
              "      <td>...</td>\n",
              "      <td>...</td>\n",
              "      <td>...</td>\n",
              "      <td>...</td>\n",
              "      <td>...</td>\n",
              "      <td>...</td>\n",
              "      <td>...</td>\n",
              "      <td>...</td>\n",
              "    </tr>\n",
              "    <tr>\n",
              "      <th>2021-02-26</th>\n",
              "      <td>14.020000</td>\n",
              "      <td>54.299999</td>\n",
              "      <td>20.572170</td>\n",
              "      <td>31.260000</td>\n",
              "      <td>11.250000</td>\n",
              "      <td>32.410000</td>\n",
              "      <td>12.230000</td>\n",
              "      <td>24.910000</td>\n",
              "      <td>24.180000</td>\n",
              "      <td>22.150000</td>\n",
              "      <td>110035.00000</td>\n",
              "    </tr>\n",
              "    <tr>\n",
              "      <th>2021-03-01</th>\n",
              "      <td>13.770000</td>\n",
              "      <td>54.349998</td>\n",
              "      <td>19.902750</td>\n",
              "      <td>31.780001</td>\n",
              "      <td>10.920000</td>\n",
              "      <td>31.540001</td>\n",
              "      <td>12.210000</td>\n",
              "      <td>24.680000</td>\n",
              "      <td>24.549999</td>\n",
              "      <td>22.010000</td>\n",
              "      <td>110335.00000</td>\n",
              "    </tr>\n",
              "    <tr>\n",
              "      <th>2021-03-02</th>\n",
              "      <td>13.990000</td>\n",
              "      <td>56.009998</td>\n",
              "      <td>20.250000</td>\n",
              "      <td>30.510000</td>\n",
              "      <td>10.880000</td>\n",
              "      <td>31.920000</td>\n",
              "      <td>12.420000</td>\n",
              "      <td>24.250000</td>\n",
              "      <td>24.270000</td>\n",
              "      <td>21.910000</td>\n",
              "      <td>111540.00000</td>\n",
              "    </tr>\n",
              "    <tr>\n",
              "      <th>2021-03-03</th>\n",
              "      <td>14.170000</td>\n",
              "      <td>56.590000</td>\n",
              "      <td>20.660000</td>\n",
              "      <td>29.510000</td>\n",
              "      <td>11.030000</td>\n",
              "      <td>31.719999</td>\n",
              "      <td>12.430000</td>\n",
              "      <td>23.910000</td>\n",
              "      <td>25.120001</td>\n",
              "      <td>20.969999</td>\n",
              "      <td>111184.00000</td>\n",
              "    </tr>\n",
              "    <tr>\n",
              "      <th>2021-03-04</th>\n",
              "      <td>14.640000</td>\n",
              "      <td>55.549999</td>\n",
              "      <td>21.500000</td>\n",
              "      <td>29.910000</td>\n",
              "      <td>11.490000</td>\n",
              "      <td>32.610001</td>\n",
              "      <td>12.710000</td>\n",
              "      <td>24.520000</td>\n",
              "      <td>25.200001</td>\n",
              "      <td>21.850000</td>\n",
              "      <td>113566.40625</td>\n",
              "    </tr>\n",
              "  </tbody>\n",
              "</table>\n",
              "<p>2018 rows × 11 columns</p>\n",
              "</div>"
            ],
            "text/plain": [
              "                ABEV3      B3SA3      BBDC3  ...      MGLU3      PETR3       BOVESPA\n",
              "Date                                         ...                                    \n",
              "2013-01-02  12.468795  10.506537  11.001677  ...   0.362545  17.815228   62550.00000\n",
              "2013-01-03  12.689861  10.506537  11.605797  ...   0.377499  18.479706   63312.00000\n",
              "2013-01-04  12.480665  10.312937  11.577574  ...   0.375242  18.542559   62523.00000\n",
              "2013-01-07  12.624581  10.260814  11.304679  ...   0.366495  18.300117   61933.00000\n",
              "2013-01-08  12.609744  10.350169  11.267038  ...   0.363956  17.779306   61128.00000\n",
              "...               ...        ...        ...  ...        ...        ...           ...\n",
              "2021-02-26  14.020000  54.299999  20.572170  ...  24.180000  22.150000  110035.00000\n",
              "2021-03-01  13.770000  54.349998  19.902750  ...  24.549999  22.010000  110335.00000\n",
              "2021-03-02  13.990000  56.009998  20.250000  ...  24.270000  21.910000  111540.00000\n",
              "2021-03-03  14.170000  56.590000  20.660000  ...  25.120001  20.969999  111184.00000\n",
              "2021-03-04  14.640000  55.549999  21.500000  ...  25.200001  21.850000  113566.40625\n",
              "\n",
              "[2018 rows x 11 columns]"
            ]
          },
          "metadata": {
            "tags": []
          },
          "execution_count": 30
        }
      ]
    },
    {
      "cell_type": "code",
      "metadata": {
        "colab": {
          "base_uri": "https://localhost:8080/"
        },
        "id": "VYPgeFtQ_pLp",
        "outputId": "a8199d7b-69c2-44ff-cc0a-f3cbeab5b3e8"
      },
      "source": [
        "# Checking null values\n",
        "stock_prices.isnull().sum()"
      ],
      "execution_count": null,
      "outputs": [
        {
          "output_type": "execute_result",
          "data": {
            "text/plain": [
              "ABEV3      0\n",
              "B3SA3      0\n",
              "BBDC3      0\n",
              "BRKM5      0\n",
              "CCRO3      0\n",
              "ELET3      0\n",
              "EMBR3      0\n",
              "LAME4      0\n",
              "MGLU3      0\n",
              "PETR3      0\n",
              "BOVESPA    0\n",
              "dtype: int64"
            ]
          },
          "metadata": {
            "tags": []
          },
          "execution_count": 31
        }
      ]
    },
    {
      "cell_type": "code",
      "metadata": {
        "colab": {
          "base_uri": "https://localhost:8080/"
        },
        "id": "-wMxbVzM_vTJ",
        "outputId": "7075118e-af2e-4af6-e51c-c138e3068c77"
      },
      "source": [
        "stock_prices.info()"
      ],
      "execution_count": null,
      "outputs": [
        {
          "output_type": "stream",
          "text": [
            "<class 'pandas.core.frame.DataFrame'>\n",
            "DatetimeIndex: 2018 entries, 2013-01-02 to 2021-03-04\n",
            "Data columns (total 11 columns):\n",
            " #   Column   Non-Null Count  Dtype  \n",
            "---  ------   --------------  -----  \n",
            " 0   ABEV3    2018 non-null   float64\n",
            " 1   B3SA3    2018 non-null   float64\n",
            " 2   BBDC3    2018 non-null   float64\n",
            " 3   BRKM5    2018 non-null   float64\n",
            " 4   CCRO3    2018 non-null   float64\n",
            " 5   ELET3    2018 non-null   float64\n",
            " 6   EMBR3    2018 non-null   float64\n",
            " 7   LAME4    2018 non-null   float64\n",
            " 8   MGLU3    2018 non-null   float64\n",
            " 9   PETR3    2018 non-null   float64\n",
            " 10  BOVESPA  2018 non-null   float64\n",
            "dtypes: float64(11)\n",
            "memory usage: 189.2 KB\n"
          ],
          "name": "stdout"
        }
      ]
    },
    {
      "cell_type": "code",
      "metadata": {
        "colab": {
          "base_uri": "https://localhost:8080/",
          "height": 297
        },
        "id": "uLQQmj9n_xbR",
        "outputId": "0a08fc1b-e55d-405b-fd1b-58a7be342562"
      },
      "source": [
        "stock_prices.describe()"
      ],
      "execution_count": null,
      "outputs": [
        {
          "output_type": "execute_result",
          "data": {
            "text/html": [
              "<div>\n",
              "<style scoped>\n",
              "    .dataframe tbody tr th:only-of-type {\n",
              "        vertical-align: middle;\n",
              "    }\n",
              "\n",
              "    .dataframe tbody tr th {\n",
              "        vertical-align: top;\n",
              "    }\n",
              "\n",
              "    .dataframe thead th {\n",
              "        text-align: right;\n",
              "    }\n",
              "</style>\n",
              "<table border=\"1\" class=\"dataframe\">\n",
              "  <thead>\n",
              "    <tr style=\"text-align: right;\">\n",
              "      <th></th>\n",
              "      <th>ABEV3</th>\n",
              "      <th>B3SA3</th>\n",
              "      <th>BBDC3</th>\n",
              "      <th>BRKM5</th>\n",
              "      <th>CCRO3</th>\n",
              "      <th>ELET3</th>\n",
              "      <th>EMBR3</th>\n",
              "      <th>LAME4</th>\n",
              "      <th>MGLU3</th>\n",
              "      <th>PETR3</th>\n",
              "      <th>BOVESPA</th>\n",
              "    </tr>\n",
              "  </thead>\n",
              "  <tbody>\n",
              "    <tr>\n",
              "      <th>count</th>\n",
              "      <td>2018.000000</td>\n",
              "      <td>2018.000000</td>\n",
              "      <td>2018.000000</td>\n",
              "      <td>2018.000000</td>\n",
              "      <td>2018.000000</td>\n",
              "      <td>2018.000000</td>\n",
              "      <td>2018.000000</td>\n",
              "      <td>2018.000000</td>\n",
              "      <td>2018.000000</td>\n",
              "      <td>2018.000000</td>\n",
              "      <td>2018.000000</td>\n",
              "    </tr>\n",
              "    <tr>\n",
              "      <th>mean</th>\n",
              "      <td>15.383121</td>\n",
              "      <td>22.011867</td>\n",
              "      <td>16.988772</td>\n",
              "      <td>24.137012</td>\n",
              "      <td>12.910782</td>\n",
              "      <td>14.931697</td>\n",
              "      <td>18.185402</td>\n",
              "      <td>16.377329</td>\n",
              "      <td>4.303964</td>\n",
              "      <td>17.681822</td>\n",
              "      <td>70731.557684</td>\n",
              "    </tr>\n",
              "    <tr>\n",
              "      <th>std</th>\n",
              "      <td>2.420674</td>\n",
              "      <td>15.484590</td>\n",
              "      <td>5.495871</td>\n",
              "      <td>12.633479</td>\n",
              "      <td>2.000848</td>\n",
              "      <td>10.755015</td>\n",
              "      <td>4.800130</td>\n",
              "      <td>5.468622</td>\n",
              "      <td>6.809264</td>\n",
              "      <td>6.648659</td>\n",
              "      <td>21828.284796</td>\n",
              "    </tr>\n",
              "    <tr>\n",
              "      <th>min</th>\n",
              "      <td>10.694901</td>\n",
              "      <td>7.134462</td>\n",
              "      <td>8.493078</td>\n",
              "      <td>7.464851</td>\n",
              "      <td>6.946203</td>\n",
              "      <td>2.880558</td>\n",
              "      <td>6.030000</td>\n",
              "      <td>8.767794</td>\n",
              "      <td>0.029213</td>\n",
              "      <td>5.541526</td>\n",
              "      <td>37497.000000</td>\n",
              "    </tr>\n",
              "    <tr>\n",
              "      <th>25%</th>\n",
              "      <td>12.901473</td>\n",
              "      <td>9.715415</td>\n",
              "      <td>12.293642</td>\n",
              "      <td>12.247512</td>\n",
              "      <td>11.705986</td>\n",
              "      <td>4.831934</td>\n",
              "      <td>16.104088</td>\n",
              "      <td>12.594509</td>\n",
              "      <td>0.209049</td>\n",
              "      <td>12.939808</td>\n",
              "      <td>52442.500000</td>\n",
              "    </tr>\n",
              "    <tr>\n",
              "      <th>50%</th>\n",
              "      <td>15.737720</td>\n",
              "      <td>16.564059</td>\n",
              "      <td>15.874840</td>\n",
              "      <td>22.024253</td>\n",
              "      <td>13.013364</td>\n",
              "      <td>13.092043</td>\n",
              "      <td>18.506442</td>\n",
              "      <td>15.358346</td>\n",
              "      <td>0.470104</td>\n",
              "      <td>15.851011</td>\n",
              "      <td>62840.500000</td>\n",
              "    </tr>\n",
              "    <tr>\n",
              "      <th>75%</th>\n",
              "      <td>16.943798</td>\n",
              "      <td>29.620212</td>\n",
              "      <td>20.524171</td>\n",
              "      <td>32.287373</td>\n",
              "      <td>14.192291</td>\n",
              "      <td>21.412553</td>\n",
              "      <td>21.276763</td>\n",
              "      <td>18.445795</td>\n",
              "      <td>5.225330</td>\n",
              "      <td>22.303133</td>\n",
              "      <td>86945.500000</td>\n",
              "    </tr>\n",
              "    <tr>\n",
              "      <th>max</th>\n",
              "      <td>22.276297</td>\n",
              "      <td>65.891556</td>\n",
              "      <td>31.260302</td>\n",
              "      <td>55.835045</td>\n",
              "      <td>19.331476</td>\n",
              "      <td>40.054550</td>\n",
              "      <td>29.471241</td>\n",
              "      <td>36.209534</td>\n",
              "      <td>27.421442</td>\n",
              "      <td>32.011372</td>\n",
              "      <td>125077.000000</td>\n",
              "    </tr>\n",
              "  </tbody>\n",
              "</table>\n",
              "</div>"
            ],
            "text/plain": [
              "             ABEV3        B3SA3  ...        PETR3        BOVESPA\n",
              "count  2018.000000  2018.000000  ...  2018.000000    2018.000000\n",
              "mean     15.383121    22.011867  ...    17.681822   70731.557684\n",
              "std       2.420674    15.484590  ...     6.648659   21828.284796\n",
              "min      10.694901     7.134462  ...     5.541526   37497.000000\n",
              "25%      12.901473     9.715415  ...    12.939808   52442.500000\n",
              "50%      15.737720    16.564059  ...    15.851011   62840.500000\n",
              "75%      16.943798    29.620212  ...    22.303133   86945.500000\n",
              "max      22.276297    65.891556  ...    32.011372  125077.000000\n",
              "\n",
              "[8 rows x 11 columns]"
            ]
          },
          "metadata": {
            "tags": []
          },
          "execution_count": 33
        }
      ]
    },
    {
      "cell_type": "code",
      "metadata": {
        "colab": {
          "base_uri": "https://localhost:8080/",
          "height": 450
        },
        "id": "qwaQ8jpo_0Oh",
        "outputId": "d0b74f73-bc7d-4bb6-c34d-568ff4dc6fbf"
      },
      "source": [
        "ticker_list = ['ABEV3.SA', 'B3SA3.SA', 'BBDC3.SA', 'BRKM5.SA', 'CCRO3.SA', 'ELET3.SA', 'EMBR3.SA', 'LAME4.SA', 'MGLU3.SA', 'PETR3.SA', '^BVSP']\n",
        "stock_volumes = {}\n",
        "for i in ticker_list:\n",
        "  stock = yf.Ticker(i)\n",
        "  stock_volumes[i] = stock.history(start=\"2013-01-01\")['Volume']\n",
        "\n",
        "stock_volumes = pd.DataFrame(stock_volumes)\n",
        "stock_volumes.columns = ['ABEV3', 'B3SA3', 'BBDC3', 'BRKM5', 'CCRO3', 'ELET3', 'EMBR3', 'LAME4', 'MGLU3', 'PETR3', 'BOVESPA']\n",
        "stock_volumes"
      ],
      "execution_count": null,
      "outputs": [
        {
          "output_type": "execute_result",
          "data": {
            "text/html": [
              "<div>\n",
              "<style scoped>\n",
              "    .dataframe tbody tr th:only-of-type {\n",
              "        vertical-align: middle;\n",
              "    }\n",
              "\n",
              "    .dataframe tbody tr th {\n",
              "        vertical-align: top;\n",
              "    }\n",
              "\n",
              "    .dataframe thead th {\n",
              "        text-align: right;\n",
              "    }\n",
              "</style>\n",
              "<table border=\"1\" class=\"dataframe\">\n",
              "  <thead>\n",
              "    <tr style=\"text-align: right;\">\n",
              "      <th></th>\n",
              "      <th>ABEV3</th>\n",
              "      <th>B3SA3</th>\n",
              "      <th>BBDC3</th>\n",
              "      <th>BRKM5</th>\n",
              "      <th>CCRO3</th>\n",
              "      <th>ELET3</th>\n",
              "      <th>EMBR3</th>\n",
              "      <th>LAME4</th>\n",
              "      <th>MGLU3</th>\n",
              "      <th>PETR3</th>\n",
              "      <th>BOVESPA</th>\n",
              "    </tr>\n",
              "    <tr>\n",
              "      <th>Date</th>\n",
              "      <th></th>\n",
              "      <th></th>\n",
              "      <th></th>\n",
              "      <th></th>\n",
              "      <th></th>\n",
              "      <th></th>\n",
              "      <th></th>\n",
              "      <th></th>\n",
              "      <th></th>\n",
              "      <th></th>\n",
              "      <th></th>\n",
              "    </tr>\n",
              "  </thead>\n",
              "  <tbody>\n",
              "    <tr>\n",
              "      <th>2013-01-02</th>\n",
              "      <td>1126114.0</td>\n",
              "      <td>11064300.0</td>\n",
              "      <td>2602296.0</td>\n",
              "      <td>2804100.0</td>\n",
              "      <td>3288600.0</td>\n",
              "      <td>3071866.0</td>\n",
              "      <td>2206900.0</td>\n",
              "      <td>0.0</td>\n",
              "      <td>23622400.0</td>\n",
              "      <td>10258500.0</td>\n",
              "      <td>3739800.0</td>\n",
              "    </tr>\n",
              "    <tr>\n",
              "      <th>2013-01-03</th>\n",
              "      <td>1032105.0</td>\n",
              "      <td>8380900.0</td>\n",
              "      <td>4885249.0</td>\n",
              "      <td>2414300.0</td>\n",
              "      <td>2501600.0</td>\n",
              "      <td>3234228.0</td>\n",
              "      <td>2323400.0</td>\n",
              "      <td>0.0</td>\n",
              "      <td>30777600.0</td>\n",
              "      <td>7823900.0</td>\n",
              "      <td>3355800.0</td>\n",
              "    </tr>\n",
              "    <tr>\n",
              "      <th>2013-01-04</th>\n",
              "      <td>1488651.0</td>\n",
              "      <td>13990200.0</td>\n",
              "      <td>2992734.0</td>\n",
              "      <td>2541200.0</td>\n",
              "      <td>4681500.0</td>\n",
              "      <td>9874150.0</td>\n",
              "      <td>2179500.0</td>\n",
              "      <td>0.0</td>\n",
              "      <td>17756800.0</td>\n",
              "      <td>16028100.0</td>\n",
              "      <td>6233800.0</td>\n",
              "    </tr>\n",
              "    <tr>\n",
              "      <th>2013-01-07</th>\n",
              "      <td>1223124.0</td>\n",
              "      <td>7149400.0</td>\n",
              "      <td>2409758.0</td>\n",
              "      <td>1717400.0</td>\n",
              "      <td>3609400.0</td>\n",
              "      <td>4051739.0</td>\n",
              "      <td>1242600.0</td>\n",
              "      <td>0.0</td>\n",
              "      <td>23110400.0</td>\n",
              "      <td>10473900.0</td>\n",
              "      <td>3985800.0</td>\n",
              "    </tr>\n",
              "    <tr>\n",
              "      <th>2013-01-08</th>\n",
              "      <td>1103112.0</td>\n",
              "      <td>12690100.0</td>\n",
              "      <td>3090168.0</td>\n",
              "      <td>1309400.0</td>\n",
              "      <td>4516000.0</td>\n",
              "      <td>3794841.0</td>\n",
              "      <td>3511500.0</td>\n",
              "      <td>0.0</td>\n",
              "      <td>27945600.0</td>\n",
              "      <td>10505300.0</td>\n",
              "      <td>3840600.0</td>\n",
              "    </tr>\n",
              "    <tr>\n",
              "      <th>...</th>\n",
              "      <td>...</td>\n",
              "      <td>...</td>\n",
              "      <td>...</td>\n",
              "      <td>...</td>\n",
              "      <td>...</td>\n",
              "      <td>...</td>\n",
              "      <td>...</td>\n",
              "      <td>...</td>\n",
              "      <td>...</td>\n",
              "      <td>...</td>\n",
              "      <td>...</td>\n",
              "    </tr>\n",
              "    <tr>\n",
              "      <th>2021-02-26</th>\n",
              "      <td>33969400.0</td>\n",
              "      <td>29567900.0</td>\n",
              "      <td>10127100.0</td>\n",
              "      <td>4101200.0</td>\n",
              "      <td>19692800.0</td>\n",
              "      <td>8549300.0</td>\n",
              "      <td>17922400.0</td>\n",
              "      <td>13418000.0</td>\n",
              "      <td>45690100.0</td>\n",
              "      <td>47419800.0</td>\n",
              "      <td>14618500.0</td>\n",
              "    </tr>\n",
              "    <tr>\n",
              "      <th>2021-03-01</th>\n",
              "      <td>19850200.0</td>\n",
              "      <td>14192200.0</td>\n",
              "      <td>6306500.0</td>\n",
              "      <td>5013800.0</td>\n",
              "      <td>8929400.0</td>\n",
              "      <td>9211600.0</td>\n",
              "      <td>14282400.0</td>\n",
              "      <td>8992500.0</td>\n",
              "      <td>22131200.0</td>\n",
              "      <td>40852500.0</td>\n",
              "      <td>11239900.0</td>\n",
              "    </tr>\n",
              "    <tr>\n",
              "      <th>2021-03-02</th>\n",
              "      <td>42904000.0</td>\n",
              "      <td>35949300.0</td>\n",
              "      <td>10606200.0</td>\n",
              "      <td>4770600.0</td>\n",
              "      <td>17453500.0</td>\n",
              "      <td>10829700.0</td>\n",
              "      <td>16942600.0</td>\n",
              "      <td>14144900.0</td>\n",
              "      <td>35351400.0</td>\n",
              "      <td>52848600.0</td>\n",
              "      <td>14823200.0</td>\n",
              "    </tr>\n",
              "    <tr>\n",
              "      <th>2021-03-03</th>\n",
              "      <td>40193500.0</td>\n",
              "      <td>31255500.0</td>\n",
              "      <td>11874800.0</td>\n",
              "      <td>6160000.0</td>\n",
              "      <td>14031200.0</td>\n",
              "      <td>8120500.0</td>\n",
              "      <td>18422000.0</td>\n",
              "      <td>22545000.0</td>\n",
              "      <td>47195300.0</td>\n",
              "      <td>55664000.0</td>\n",
              "      <td>15144300.0</td>\n",
              "    </tr>\n",
              "    <tr>\n",
              "      <th>2021-03-04</th>\n",
              "      <td>8309900.0</td>\n",
              "      <td>10830000.0</td>\n",
              "      <td>2819700.0</td>\n",
              "      <td>1468100.0</td>\n",
              "      <td>4521200.0</td>\n",
              "      <td>3561900.0</td>\n",
              "      <td>6772600.0</td>\n",
              "      <td>4743900.0</td>\n",
              "      <td>10553600.0</td>\n",
              "      <td>12381300.0</td>\n",
              "      <td>0.0</td>\n",
              "    </tr>\n",
              "  </tbody>\n",
              "</table>\n",
              "<p>2025 rows × 11 columns</p>\n",
              "</div>"
            ],
            "text/plain": [
              "                 ABEV3       B3SA3  ...       PETR3     BOVESPA\n",
              "Date                                ...                        \n",
              "2013-01-02   1126114.0  11064300.0  ...  10258500.0   3739800.0\n",
              "2013-01-03   1032105.0   8380900.0  ...   7823900.0   3355800.0\n",
              "2013-01-04   1488651.0  13990200.0  ...  16028100.0   6233800.0\n",
              "2013-01-07   1223124.0   7149400.0  ...  10473900.0   3985800.0\n",
              "2013-01-08   1103112.0  12690100.0  ...  10505300.0   3840600.0\n",
              "...                ...         ...  ...         ...         ...\n",
              "2021-02-26  33969400.0  29567900.0  ...  47419800.0  14618500.0\n",
              "2021-03-01  19850200.0  14192200.0  ...  40852500.0  11239900.0\n",
              "2021-03-02  42904000.0  35949300.0  ...  52848600.0  14823200.0\n",
              "2021-03-03  40193500.0  31255500.0  ...  55664000.0  15144300.0\n",
              "2021-03-04   8309900.0  10830000.0  ...  12381300.0         0.0\n",
              "\n",
              "[2025 rows x 11 columns]"
            ]
          },
          "metadata": {
            "tags": []
          },
          "execution_count": 34
        }
      ]
    },
    {
      "cell_type": "code",
      "metadata": {
        "colab": {
          "base_uri": "https://localhost:8080/"
        },
        "id": "aRfRD5_m_96Q",
        "outputId": "8af1b858-7463-4792-a054-26d305a508e3"
      },
      "source": [
        "stock_volumes.isna().sum()"
      ],
      "execution_count": null,
      "outputs": [
        {
          "output_type": "execute_result",
          "data": {
            "text/plain": [
              "ABEV3      1\n",
              "B3SA3      1\n",
              "BBDC3      1\n",
              "BRKM5      1\n",
              "CCRO3      1\n",
              "ELET3      1\n",
              "EMBR3      1\n",
              "LAME4      1\n",
              "MGLU3      1\n",
              "PETR3      1\n",
              "BOVESPA    7\n",
              "dtype: int64"
            ]
          },
          "metadata": {
            "tags": []
          },
          "execution_count": 35
        }
      ]
    },
    {
      "cell_type": "code",
      "metadata": {
        "colab": {
          "base_uri": "https://localhost:8080/",
          "height": 450
        },
        "id": "kITVMV3GABFv",
        "outputId": "32ef8b70-0c8b-4502-82c3-d43b9dafac19"
      },
      "source": [
        "stock_volumes = stock_volumes.dropna()\n",
        "stock_volumes"
      ],
      "execution_count": null,
      "outputs": [
        {
          "output_type": "execute_result",
          "data": {
            "text/html": [
              "<div>\n",
              "<style scoped>\n",
              "    .dataframe tbody tr th:only-of-type {\n",
              "        vertical-align: middle;\n",
              "    }\n",
              "\n",
              "    .dataframe tbody tr th {\n",
              "        vertical-align: top;\n",
              "    }\n",
              "\n",
              "    .dataframe thead th {\n",
              "        text-align: right;\n",
              "    }\n",
              "</style>\n",
              "<table border=\"1\" class=\"dataframe\">\n",
              "  <thead>\n",
              "    <tr style=\"text-align: right;\">\n",
              "      <th></th>\n",
              "      <th>ABEV3</th>\n",
              "      <th>B3SA3</th>\n",
              "      <th>BBDC3</th>\n",
              "      <th>BRKM5</th>\n",
              "      <th>CCRO3</th>\n",
              "      <th>ELET3</th>\n",
              "      <th>EMBR3</th>\n",
              "      <th>LAME4</th>\n",
              "      <th>MGLU3</th>\n",
              "      <th>PETR3</th>\n",
              "      <th>BOVESPA</th>\n",
              "    </tr>\n",
              "    <tr>\n",
              "      <th>Date</th>\n",
              "      <th></th>\n",
              "      <th></th>\n",
              "      <th></th>\n",
              "      <th></th>\n",
              "      <th></th>\n",
              "      <th></th>\n",
              "      <th></th>\n",
              "      <th></th>\n",
              "      <th></th>\n",
              "      <th></th>\n",
              "      <th></th>\n",
              "    </tr>\n",
              "  </thead>\n",
              "  <tbody>\n",
              "    <tr>\n",
              "      <th>2013-01-02</th>\n",
              "      <td>1126114.0</td>\n",
              "      <td>11064300.0</td>\n",
              "      <td>2602296.0</td>\n",
              "      <td>2804100.0</td>\n",
              "      <td>3288600.0</td>\n",
              "      <td>3071866.0</td>\n",
              "      <td>2206900.0</td>\n",
              "      <td>0.0</td>\n",
              "      <td>23622400.0</td>\n",
              "      <td>10258500.0</td>\n",
              "      <td>3739800.0</td>\n",
              "    </tr>\n",
              "    <tr>\n",
              "      <th>2013-01-03</th>\n",
              "      <td>1032105.0</td>\n",
              "      <td>8380900.0</td>\n",
              "      <td>4885249.0</td>\n",
              "      <td>2414300.0</td>\n",
              "      <td>2501600.0</td>\n",
              "      <td>3234228.0</td>\n",
              "      <td>2323400.0</td>\n",
              "      <td>0.0</td>\n",
              "      <td>30777600.0</td>\n",
              "      <td>7823900.0</td>\n",
              "      <td>3355800.0</td>\n",
              "    </tr>\n",
              "    <tr>\n",
              "      <th>2013-01-04</th>\n",
              "      <td>1488651.0</td>\n",
              "      <td>13990200.0</td>\n",
              "      <td>2992734.0</td>\n",
              "      <td>2541200.0</td>\n",
              "      <td>4681500.0</td>\n",
              "      <td>9874150.0</td>\n",
              "      <td>2179500.0</td>\n",
              "      <td>0.0</td>\n",
              "      <td>17756800.0</td>\n",
              "      <td>16028100.0</td>\n",
              "      <td>6233800.0</td>\n",
              "    </tr>\n",
              "    <tr>\n",
              "      <th>2013-01-07</th>\n",
              "      <td>1223124.0</td>\n",
              "      <td>7149400.0</td>\n",
              "      <td>2409758.0</td>\n",
              "      <td>1717400.0</td>\n",
              "      <td>3609400.0</td>\n",
              "      <td>4051739.0</td>\n",
              "      <td>1242600.0</td>\n",
              "      <td>0.0</td>\n",
              "      <td>23110400.0</td>\n",
              "      <td>10473900.0</td>\n",
              "      <td>3985800.0</td>\n",
              "    </tr>\n",
              "    <tr>\n",
              "      <th>2013-01-08</th>\n",
              "      <td>1103112.0</td>\n",
              "      <td>12690100.0</td>\n",
              "      <td>3090168.0</td>\n",
              "      <td>1309400.0</td>\n",
              "      <td>4516000.0</td>\n",
              "      <td>3794841.0</td>\n",
              "      <td>3511500.0</td>\n",
              "      <td>0.0</td>\n",
              "      <td>27945600.0</td>\n",
              "      <td>10505300.0</td>\n",
              "      <td>3840600.0</td>\n",
              "    </tr>\n",
              "    <tr>\n",
              "      <th>...</th>\n",
              "      <td>...</td>\n",
              "      <td>...</td>\n",
              "      <td>...</td>\n",
              "      <td>...</td>\n",
              "      <td>...</td>\n",
              "      <td>...</td>\n",
              "      <td>...</td>\n",
              "      <td>...</td>\n",
              "      <td>...</td>\n",
              "      <td>...</td>\n",
              "      <td>...</td>\n",
              "    </tr>\n",
              "    <tr>\n",
              "      <th>2021-02-26</th>\n",
              "      <td>33969400.0</td>\n",
              "      <td>29567900.0</td>\n",
              "      <td>10127100.0</td>\n",
              "      <td>4101200.0</td>\n",
              "      <td>19692800.0</td>\n",
              "      <td>8549300.0</td>\n",
              "      <td>17922400.0</td>\n",
              "      <td>13418000.0</td>\n",
              "      <td>45690100.0</td>\n",
              "      <td>47419800.0</td>\n",
              "      <td>14618500.0</td>\n",
              "    </tr>\n",
              "    <tr>\n",
              "      <th>2021-03-01</th>\n",
              "      <td>19850200.0</td>\n",
              "      <td>14192200.0</td>\n",
              "      <td>6306500.0</td>\n",
              "      <td>5013800.0</td>\n",
              "      <td>8929400.0</td>\n",
              "      <td>9211600.0</td>\n",
              "      <td>14282400.0</td>\n",
              "      <td>8992500.0</td>\n",
              "      <td>22131200.0</td>\n",
              "      <td>40852500.0</td>\n",
              "      <td>11239900.0</td>\n",
              "    </tr>\n",
              "    <tr>\n",
              "      <th>2021-03-02</th>\n",
              "      <td>42904000.0</td>\n",
              "      <td>35949300.0</td>\n",
              "      <td>10606200.0</td>\n",
              "      <td>4770600.0</td>\n",
              "      <td>17453500.0</td>\n",
              "      <td>10829700.0</td>\n",
              "      <td>16942600.0</td>\n",
              "      <td>14144900.0</td>\n",
              "      <td>35351400.0</td>\n",
              "      <td>52848600.0</td>\n",
              "      <td>14823200.0</td>\n",
              "    </tr>\n",
              "    <tr>\n",
              "      <th>2021-03-03</th>\n",
              "      <td>40193500.0</td>\n",
              "      <td>31255500.0</td>\n",
              "      <td>11874800.0</td>\n",
              "      <td>6160000.0</td>\n",
              "      <td>14031200.0</td>\n",
              "      <td>8120500.0</td>\n",
              "      <td>18422000.0</td>\n",
              "      <td>22545000.0</td>\n",
              "      <td>47195300.0</td>\n",
              "      <td>55664000.0</td>\n",
              "      <td>15144300.0</td>\n",
              "    </tr>\n",
              "    <tr>\n",
              "      <th>2021-03-04</th>\n",
              "      <td>8309900.0</td>\n",
              "      <td>10830000.0</td>\n",
              "      <td>2819700.0</td>\n",
              "      <td>1468100.0</td>\n",
              "      <td>4521200.0</td>\n",
              "      <td>3561900.0</td>\n",
              "      <td>6772600.0</td>\n",
              "      <td>4743900.0</td>\n",
              "      <td>10553600.0</td>\n",
              "      <td>12381300.0</td>\n",
              "      <td>0.0</td>\n",
              "    </tr>\n",
              "  </tbody>\n",
              "</table>\n",
              "<p>2018 rows × 11 columns</p>\n",
              "</div>"
            ],
            "text/plain": [
              "                 ABEV3       B3SA3  ...       PETR3     BOVESPA\n",
              "Date                                ...                        \n",
              "2013-01-02   1126114.0  11064300.0  ...  10258500.0   3739800.0\n",
              "2013-01-03   1032105.0   8380900.0  ...   7823900.0   3355800.0\n",
              "2013-01-04   1488651.0  13990200.0  ...  16028100.0   6233800.0\n",
              "2013-01-07   1223124.0   7149400.0  ...  10473900.0   3985800.0\n",
              "2013-01-08   1103112.0  12690100.0  ...  10505300.0   3840600.0\n",
              "...                ...         ...  ...         ...         ...\n",
              "2021-02-26  33969400.0  29567900.0  ...  47419800.0  14618500.0\n",
              "2021-03-01  19850200.0  14192200.0  ...  40852500.0  11239900.0\n",
              "2021-03-02  42904000.0  35949300.0  ...  52848600.0  14823200.0\n",
              "2021-03-03  40193500.0  31255500.0  ...  55664000.0  15144300.0\n",
              "2021-03-04   8309900.0  10830000.0  ...  12381300.0         0.0\n",
              "\n",
              "[2018 rows x 11 columns]"
            ]
          },
          "metadata": {
            "tags": []
          },
          "execution_count": 36
        }
      ]
    },
    {
      "cell_type": "code",
      "metadata": {
        "colab": {
          "base_uri": "https://localhost:8080/",
          "height": 297
        },
        "id": "VgtgA7s0AEIX",
        "outputId": "f0d9403d-f715-4866-988c-5ec78e27d8b7"
      },
      "source": [
        "stock_volumes.describe()"
      ],
      "execution_count": null,
      "outputs": [
        {
          "output_type": "execute_result",
          "data": {
            "text/html": [
              "<div>\n",
              "<style scoped>\n",
              "    .dataframe tbody tr th:only-of-type {\n",
              "        vertical-align: middle;\n",
              "    }\n",
              "\n",
              "    .dataframe tbody tr th {\n",
              "        vertical-align: top;\n",
              "    }\n",
              "\n",
              "    .dataframe thead th {\n",
              "        text-align: right;\n",
              "    }\n",
              "</style>\n",
              "<table border=\"1\" class=\"dataframe\">\n",
              "  <thead>\n",
              "    <tr style=\"text-align: right;\">\n",
              "      <th></th>\n",
              "      <th>ABEV3</th>\n",
              "      <th>B3SA3</th>\n",
              "      <th>BBDC3</th>\n",
              "      <th>BRKM5</th>\n",
              "      <th>CCRO3</th>\n",
              "      <th>ELET3</th>\n",
              "      <th>EMBR3</th>\n",
              "      <th>LAME4</th>\n",
              "      <th>MGLU3</th>\n",
              "      <th>PETR3</th>\n",
              "      <th>BOVESPA</th>\n",
              "    </tr>\n",
              "  </thead>\n",
              "  <tbody>\n",
              "    <tr>\n",
              "      <th>count</th>\n",
              "      <td>2.018000e+03</td>\n",
              "      <td>2.018000e+03</td>\n",
              "      <td>2.018000e+03</td>\n",
              "      <td>2.018000e+03</td>\n",
              "      <td>2.018000e+03</td>\n",
              "      <td>2.018000e+03</td>\n",
              "      <td>2.018000e+03</td>\n",
              "      <td>2.018000e+03</td>\n",
              "      <td>2.018000e+03</td>\n",
              "      <td>2.018000e+03</td>\n",
              "      <td>2.018000e+03</td>\n",
              "    </tr>\n",
              "    <tr>\n",
              "      <th>mean</th>\n",
              "      <td>1.548507e+07</td>\n",
              "      <td>1.193593e+07</td>\n",
              "      <td>3.250898e+06</td>\n",
              "      <td>2.153238e+06</td>\n",
              "      <td>6.526745e+06</td>\n",
              "      <td>3.369251e+06</td>\n",
              "      <td>4.358928e+06</td>\n",
              "      <td>4.581355e+06</td>\n",
              "      <td>4.054534e+07</td>\n",
              "      <td>1.418708e+07</td>\n",
              "      <td>4.721757e+06</td>\n",
              "    </tr>\n",
              "    <tr>\n",
              "      <th>std</th>\n",
              "      <td>1.447456e+07</td>\n",
              "      <td>9.097548e+06</td>\n",
              "      <td>2.537588e+06</td>\n",
              "      <td>2.085193e+06</td>\n",
              "      <td>5.532530e+06</td>\n",
              "      <td>3.070226e+06</td>\n",
              "      <td>6.083609e+06</td>\n",
              "      <td>3.999642e+06</td>\n",
              "      <td>3.148674e+07</td>\n",
              "      <td>1.345056e+07</td>\n",
              "      <td>2.584210e+06</td>\n",
              "    </tr>\n",
              "    <tr>\n",
              "      <th>min</th>\n",
              "      <td>0.000000e+00</td>\n",
              "      <td>0.000000e+00</td>\n",
              "      <td>0.000000e+00</td>\n",
              "      <td>0.000000e+00</td>\n",
              "      <td>0.000000e+00</td>\n",
              "      <td>0.000000e+00</td>\n",
              "      <td>0.000000e+00</td>\n",
              "      <td>0.000000e+00</td>\n",
              "      <td>0.000000e+00</td>\n",
              "      <td>0.000000e+00</td>\n",
              "      <td>0.000000e+00</td>\n",
              "    </tr>\n",
              "    <tr>\n",
              "      <th>25%</th>\n",
              "      <td>8.658622e+06</td>\n",
              "      <td>7.421600e+06</td>\n",
              "      <td>1.874830e+06</td>\n",
              "      <td>1.225575e+06</td>\n",
              "      <td>3.840450e+06</td>\n",
              "      <td>1.661731e+06</td>\n",
              "      <td>1.768975e+06</td>\n",
              "      <td>2.282546e+06</td>\n",
              "      <td>2.201840e+07</td>\n",
              "      <td>7.563800e+06</td>\n",
              "      <td>3.194525e+06</td>\n",
              "    </tr>\n",
              "    <tr>\n",
              "      <th>50%</th>\n",
              "      <td>1.269940e+07</td>\n",
              "      <td>1.016950e+07</td>\n",
              "      <td>2.625311e+06</td>\n",
              "      <td>1.704650e+06</td>\n",
              "      <td>5.367000e+06</td>\n",
              "      <td>2.642903e+06</td>\n",
              "      <td>2.514100e+06</td>\n",
              "      <td>3.306794e+06</td>\n",
              "      <td>3.383060e+07</td>\n",
              "      <td>1.111720e+07</td>\n",
              "      <td>3.902400e+06</td>\n",
              "    </tr>\n",
              "    <tr>\n",
              "      <th>75%</th>\n",
              "      <td>1.953888e+07</td>\n",
              "      <td>1.404008e+07</td>\n",
              "      <td>3.960135e+06</td>\n",
              "      <td>2.494400e+06</td>\n",
              "      <td>7.744225e+06</td>\n",
              "      <td>4.081362e+06</td>\n",
              "      <td>3.902050e+06</td>\n",
              "      <td>5.594413e+06</td>\n",
              "      <td>4.981490e+07</td>\n",
              "      <td>1.654972e+07</td>\n",
              "      <td>5.188125e+06</td>\n",
              "    </tr>\n",
              "    <tr>\n",
              "      <th>max</th>\n",
              "      <td>2.876952e+08</td>\n",
              "      <td>2.072703e+08</td>\n",
              "      <td>6.112154e+07</td>\n",
              "      <td>5.481326e+07</td>\n",
              "      <td>1.250700e+08</td>\n",
              "      <td>4.753220e+07</td>\n",
              "      <td>1.254731e+08</td>\n",
              "      <td>6.414020e+07</td>\n",
              "      <td>4.304640e+08</td>\n",
              "      <td>3.104194e+08</td>\n",
              "      <td>2.176870e+07</td>\n",
              "    </tr>\n",
              "  </tbody>\n",
              "</table>\n",
              "</div>"
            ],
            "text/plain": [
              "              ABEV3         B3SA3  ...         PETR3       BOVESPA\n",
              "count  2.018000e+03  2.018000e+03  ...  2.018000e+03  2.018000e+03\n",
              "mean   1.548507e+07  1.193593e+07  ...  1.418708e+07  4.721757e+06\n",
              "std    1.447456e+07  9.097548e+06  ...  1.345056e+07  2.584210e+06\n",
              "min    0.000000e+00  0.000000e+00  ...  0.000000e+00  0.000000e+00\n",
              "25%    8.658622e+06  7.421600e+06  ...  7.563800e+06  3.194525e+06\n",
              "50%    1.269940e+07  1.016950e+07  ...  1.111720e+07  3.902400e+06\n",
              "75%    1.953888e+07  1.404008e+07  ...  1.654972e+07  5.188125e+06\n",
              "max    2.876952e+08  2.072703e+08  ...  3.104194e+08  2.176870e+07\n",
              "\n",
              "[8 rows x 11 columns]"
            ]
          },
          "metadata": {
            "tags": []
          },
          "execution_count": 37
        }
      ]
    },
    {
      "cell_type": "markdown",
      "metadata": {
        "id": "8fsvHx1dAPDT"
      },
      "source": [
        "# Preparing the data before training the AI model:\n",
        "\n",
        "\n",
        "\n",
        "*   Data set is divided into 70% for training and 30% for testing:\n",
        " * Training Set: used for model training;\n",
        " * Testing Set: used for testing trained model. It has never been seen by the trained model before."
      ]
    },
    {
      "cell_type": "code",
      "metadata": {
        "id": "FUBEJ4p4AI6f"
      },
      "source": [
        "# Function to concatenate the stock price, and volume in one dataframe\n",
        "def concat_stock(price, volume, name):\n",
        "  return pd.DataFrame({'Close': price[name], 'Volume': volume[name]})"
      ],
      "execution_count": null,
      "outputs": []
    },
    {
      "cell_type": "code",
      "metadata": {
        "id": "Tjy8Fa3aBuPz"
      },
      "source": [
        "# Today, the target stock price will be tomorrow's price\n",
        "# Function that returns a target data for AI/ML model\n",
        "def target(data):\n",
        "  # 1 day window\n",
        "  n = 1\n",
        "  # Create a column containing the prices for the 'next 1' days\n",
        "  # Shifts my data by n number of samples, backwards\n",
        "  data['Target'] = data[['Close']].shift(-n)\n",
        "\n",
        "  return data"
      ],
      "execution_count": null,
      "outputs": []
    },
    {
      "cell_type": "code",
      "metadata": {
        "colab": {
          "base_uri": "https://localhost:8080/",
          "height": 450
        },
        "id": "BA_QDN1MBwDq",
        "outputId": "6b25c87e-168a-4d53-8324-119c4dca7b03"
      },
      "source": [
        "# Testing the function and getting individual stock prices and volumes for CCRO3\n",
        "grupoCCR = concat_stock(stock_prices, stock_volumes, 'CCRO3')\n",
        "grupoCCR"
      ],
      "execution_count": null,
      "outputs": [
        {
          "output_type": "execute_result",
          "data": {
            "text/html": [
              "<div>\n",
              "<style scoped>\n",
              "    .dataframe tbody tr th:only-of-type {\n",
              "        vertical-align: middle;\n",
              "    }\n",
              "\n",
              "    .dataframe tbody tr th {\n",
              "        vertical-align: top;\n",
              "    }\n",
              "\n",
              "    .dataframe thead th {\n",
              "        text-align: right;\n",
              "    }\n",
              "</style>\n",
              "<table border=\"1\" class=\"dataframe\">\n",
              "  <thead>\n",
              "    <tr style=\"text-align: right;\">\n",
              "      <th></th>\n",
              "      <th>Close</th>\n",
              "      <th>Volume</th>\n",
              "    </tr>\n",
              "    <tr>\n",
              "      <th>Date</th>\n",
              "      <th></th>\n",
              "      <th></th>\n",
              "    </tr>\n",
              "  </thead>\n",
              "  <tbody>\n",
              "    <tr>\n",
              "      <th>2013-01-02</th>\n",
              "      <td>13.490131</td>\n",
              "      <td>3288600.0</td>\n",
              "    </tr>\n",
              "    <tr>\n",
              "      <th>2013-01-03</th>\n",
              "      <td>13.730900</td>\n",
              "      <td>2501600.0</td>\n",
              "    </tr>\n",
              "    <tr>\n",
              "      <th>2013-01-04</th>\n",
              "      <td>13.971669</td>\n",
              "      <td>4681500.0</td>\n",
              "    </tr>\n",
              "    <tr>\n",
              "      <th>2013-01-07</th>\n",
              "      <td>13.957504</td>\n",
              "      <td>3609400.0</td>\n",
              "    </tr>\n",
              "    <tr>\n",
              "      <th>2013-01-08</th>\n",
              "      <td>13.950422</td>\n",
              "      <td>4516000.0</td>\n",
              "    </tr>\n",
              "    <tr>\n",
              "      <th>...</th>\n",
              "      <td>...</td>\n",
              "      <td>...</td>\n",
              "    </tr>\n",
              "    <tr>\n",
              "      <th>2021-02-26</th>\n",
              "      <td>11.250000</td>\n",
              "      <td>19692800.0</td>\n",
              "    </tr>\n",
              "    <tr>\n",
              "      <th>2021-03-01</th>\n",
              "      <td>10.920000</td>\n",
              "      <td>8929400.0</td>\n",
              "    </tr>\n",
              "    <tr>\n",
              "      <th>2021-03-02</th>\n",
              "      <td>10.880000</td>\n",
              "      <td>17453500.0</td>\n",
              "    </tr>\n",
              "    <tr>\n",
              "      <th>2021-03-03</th>\n",
              "      <td>11.030000</td>\n",
              "      <td>14031200.0</td>\n",
              "    </tr>\n",
              "    <tr>\n",
              "      <th>2021-03-04</th>\n",
              "      <td>11.490000</td>\n",
              "      <td>4521200.0</td>\n",
              "    </tr>\n",
              "  </tbody>\n",
              "</table>\n",
              "<p>2018 rows × 2 columns</p>\n",
              "</div>"
            ],
            "text/plain": [
              "                Close      Volume\n",
              "Date                             \n",
              "2013-01-02  13.490131   3288600.0\n",
              "2013-01-03  13.730900   2501600.0\n",
              "2013-01-04  13.971669   4681500.0\n",
              "2013-01-07  13.957504   3609400.0\n",
              "2013-01-08  13.950422   4516000.0\n",
              "...               ...         ...\n",
              "2021-02-26  11.250000  19692800.0\n",
              "2021-03-01  10.920000   8929400.0\n",
              "2021-03-02  10.880000  17453500.0\n",
              "2021-03-03  11.030000  14031200.0\n",
              "2021-03-04  11.490000   4521200.0\n",
              "\n",
              "[2018 rows x 2 columns]"
            ]
          },
          "metadata": {
            "tags": []
          },
          "execution_count": 40
        }
      ]
    },
    {
      "cell_type": "code",
      "metadata": {
        "colab": {
          "base_uri": "https://localhost:8080/"
        },
        "id": "f3vAdJgQCc5O",
        "outputId": "646d7e7c-fdeb-486f-ac1d-449bf3399cc5"
      },
      "source": [
        "# Getting the close and volume data as training data (input) - PRICE AND VOLUME\n",
        "trainingCCR = grupoCCR.values\n",
        "trainingCCR"
      ],
      "execution_count": null,
      "outputs": [
        {
          "output_type": "execute_result",
          "data": {
            "text/plain": [
              "array([[1.34901314e+01, 3.28860000e+06],\n",
              "       [1.37308998e+01, 2.50160000e+06],\n",
              "       [1.39716692e+01, 4.68150000e+06],\n",
              "       ...,\n",
              "       [1.08800001e+01, 1.74535000e+07],\n",
              "       [1.10299997e+01, 1.40312000e+07],\n",
              "       [1.14899998e+01, 4.52120000e+06]])"
            ]
          },
          "metadata": {
            "tags": []
          },
          "execution_count": 41
        }
      ]
    },
    {
      "cell_type": "code",
      "metadata": {
        "colab": {
          "base_uri": "https://localhost:8080/"
        },
        "id": "8RK-lvnRCg2M",
        "outputId": "61bb0a82-b28b-47c2-b5b7-f3e5b366c75a"
      },
      "source": [
        "# Normalize\n",
        "from sklearn.preprocessing import MinMaxScaler\n",
        "sc = MinMaxScaler(feature_range=(0, 1))\n",
        "trainingCCR_set_scaled = sc.fit_transform(trainingCCR)\n",
        "trainingCCR_set_scaled"
      ],
      "execution_count": null,
      "outputs": [
        {
          "output_type": "execute_result",
          "data": {
            "text/plain": [
              "array([[0.52836366, 0.02629407],\n",
              "       [0.54780356, 0.0200016 ],\n",
              "       [0.56724353, 0.03743103],\n",
              "       ...,\n",
              "       [0.31761891, 0.13954983],\n",
              "       [0.32973004, 0.11218676],\n",
              "       [0.36687092, 0.03614935]])"
            ]
          },
          "metadata": {
            "tags": []
          },
          "execution_count": 42
        }
      ]
    },
    {
      "cell_type": "code",
      "metadata": {
        "colab": {
          "base_uri": "https://localhost:8080/"
        },
        "id": "yviDN9IECkDU",
        "outputId": "ed6657b5-fb16-40ce-bc29-9fb66dabd3e3"
      },
      "source": [
        "# Creating the training and testing data, training data contains present day and previous day values\n",
        "X = []\n",
        "y = []\n",
        "\n",
        "\n",
        "for i in range(1, len(grupoCCR)):\n",
        "\n",
        "  X.append(trainingCCR_set_scaled[i-1:i, 0])\n",
        "  y.append(trainingCCR_set_scaled[i, 0])\n",
        "\n",
        "X[0:5]"
      ],
      "execution_count": null,
      "outputs": [
        {
          "output_type": "execute_result",
          "data": {
            "text/plain": [
              "[array([0.52836366]),\n",
              " array([0.54780356]),\n",
              " array([0.56724353]),\n",
              " array([0.56609984]),\n",
              " array([0.56552803])]"
            ]
          },
          "metadata": {
            "tags": []
          },
          "execution_count": 43
        }
      ]
    },
    {
      "cell_type": "code",
      "metadata": {
        "colab": {
          "base_uri": "https://localhost:8080/"
        },
        "id": "DUwODXVpCpSt",
        "outputId": "d27f8c66-c1c2-4daa-fa74-7fb42e147e78"
      },
      "source": [
        "y[0:5]"
      ],
      "execution_count": null,
      "outputs": [
        {
          "output_type": "execute_result",
          "data": {
            "text/plain": [
              "[0.5478035558909363,\n",
              " 0.5672435300187112,\n",
              " 0.5660998390686,\n",
              " 0.5655280320938793,\n",
              " 0.5672435300187112]"
            ]
          },
          "metadata": {
            "tags": []
          },
          "execution_count": 44
        }
      ]
    },
    {
      "cell_type": "code",
      "metadata": {
        "colab": {
          "base_uri": "https://localhost:8080/"
        },
        "id": "9SDumenlCsaP",
        "outputId": "2534789f-5cc6-43e2-88e7-5504ce2617cf"
      },
      "source": [
        "# To convert the data into array format\n",
        "X = np.asarray(X)\n",
        "y = np.asarray(y)\n",
        "print(f'X shape:{X.shape} \\ny shape:{y.shape}')"
      ],
      "execution_count": null,
      "outputs": [
        {
          "output_type": "stream",
          "text": [
            "X shape:(2017, 1) \n",
            "y shape:(2017,)\n"
          ],
          "name": "stdout"
        }
      ]
    },
    {
      "cell_type": "code",
      "metadata": {
        "colab": {
          "base_uri": "https://localhost:8080/"
        },
        "id": "QNLUcX3LCsXr",
        "outputId": "3c230491-aa74-4ba2-f7cf-43dfe57edab7"
      },
      "source": [
        "# Splitting the data training - testing\n",
        "split = int(0.7 * len(X))\n",
        "X_train = X[:split]\n",
        "y_train = y[:split]\n",
        "X_test = X[split:]\n",
        "y_test = y[split:]\n",
        "print(f'X_train shape:{X_train.shape} \\ny_train shape:{y_train.shape}')"
      ],
      "execution_count": null,
      "outputs": [
        {
          "output_type": "stream",
          "text": [
            "X_train shape:(1411, 1) \n",
            "y_train shape:(1411,)\n"
          ],
          "name": "stdout"
        }
      ]
    },
    {
      "cell_type": "code",
      "metadata": {
        "colab": {
          "base_uri": "https://localhost:8080/"
        },
        "id": "9vgxuq8KJTDQ",
        "outputId": "a4648b12-519f-41ab-dced-0386d0697811"
      },
      "source": [
        "print(f'X_test shape:{X_test.shape} \\ny_test shape:{y_test.shape}')"
      ],
      "execution_count": null,
      "outputs": [
        {
          "output_type": "stream",
          "text": [
            "X_test shape:(606, 1) \n",
            "y_test shape:(606,)\n"
          ],
          "name": "stdout"
        }
      ]
    },
    {
      "cell_type": "code",
      "metadata": {
        "colab": {
          "base_uri": "https://localhost:8080/"
        },
        "id": "bxmqodF1CsUZ",
        "outputId": "a7058a29-3958-46eb-d03a-4eee288ca93e"
      },
      "source": [
        "# Reshaping the dimention - 1D --> 3D array - to feed in the LSMT\n",
        "X_train = np.reshape(X_train, (X_train.shape[0], X_train.shape[1], 1))\n",
        "X_test = np.reshape(X_test, (X_test.shape[0], X_test.shape[1], 1))\n",
        "X_train.shape, X_test.shape"
      ],
      "execution_count": null,
      "outputs": [
        {
          "output_type": "execute_result",
          "data": {
            "text/plain": [
              "((1411, 1, 1), (606, 1, 1))"
            ]
          },
          "metadata": {
            "tags": []
          },
          "execution_count": 48
        }
      ]
    },
    {
      "cell_type": "code",
      "metadata": {
        "colab": {
          "base_uri": "https://localhost:8080/"
        },
        "id": "FLVC9n7rCsRr",
        "outputId": "64d0a07e-4a16-4d41-860a-6107a061eb08"
      },
      "source": [
        "# Creating the model\n",
        "inputs = keras.layers.Input(shape = (X_train.shape[1], X_train.shape[2]))\n",
        "\n",
        "x = keras.layers.LSTM(150, return_sequences=True)(inputs)\n",
        "x = keras.layers.LSTM(150, return_sequences=True)(x)\n",
        "x = keras.layers.LSTM(150, return_sequences=True)(x)\n",
        "\n",
        "outputs = keras.layers.Dense(1, activation='linear')(x)\n",
        "\n",
        "model = keras.Model(inputs = inputs, outputs = outputs)\n",
        "model.compile(optimizer = 'adam', loss = 'mse')\n",
        "model.summary()"
      ],
      "execution_count": null,
      "outputs": [
        {
          "output_type": "stream",
          "text": [
            "Model: \"model_1\"\n",
            "_________________________________________________________________\n",
            "Layer (type)                 Output Shape              Param #   \n",
            "=================================================================\n",
            "input_2 (InputLayer)         [(None, 1, 1)]            0         \n",
            "_________________________________________________________________\n",
            "lstm_3 (LSTM)                (None, 1, 150)            91200     \n",
            "_________________________________________________________________\n",
            "lstm_4 (LSTM)                (None, 1, 150)            180600    \n",
            "_________________________________________________________________\n",
            "lstm_5 (LSTM)                (None, 1, 150)            180600    \n",
            "_________________________________________________________________\n",
            "dense_1 (Dense)              (None, 1, 1)              151       \n",
            "=================================================================\n",
            "Total params: 452,551\n",
            "Trainable params: 452,551\n",
            "Non-trainable params: 0\n",
            "_________________________________________________________________\n"
          ],
          "name": "stdout"
        }
      ]
    },
    {
      "cell_type": "code",
      "metadata": {
        "colab": {
          "base_uri": "https://localhost:8080/"
        },
        "id": "nhxeOP40CsOD",
        "outputId": "5ed29501-9106-482e-aed5-68d3fbd7b1fd"
      },
      "source": [
        "# Training the model\n",
        "history = model.fit(X_train, y_train, epochs=20, batch_size=32, validation_split=0.2)"
      ],
      "execution_count": null,
      "outputs": [
        {
          "output_type": "stream",
          "text": [
            "Epoch 1/20\n",
            "36/36 [==============================] - 7s 56ms/step - loss: 0.1657 - val_loss: 0.0240\n",
            "Epoch 2/20\n",
            "36/36 [==============================] - 0s 12ms/step - loss: 0.0076 - val_loss: 0.0204\n",
            "Epoch 3/20\n",
            "36/36 [==============================] - 0s 13ms/step - loss: 0.0053 - val_loss: 0.0152\n",
            "Epoch 4/20\n",
            "36/36 [==============================] - 0s 13ms/step - loss: 0.0037 - val_loss: 0.0090\n",
            "Epoch 5/20\n",
            "36/36 [==============================] - 0s 12ms/step - loss: 0.0022 - val_loss: 0.0037\n",
            "Epoch 6/20\n",
            "36/36 [==============================] - 0s 13ms/step - loss: 9.4768e-04 - val_loss: 0.0011\n",
            "Epoch 7/20\n",
            "36/36 [==============================] - 0s 13ms/step - loss: 6.1042e-04 - val_loss: 7.0251e-04\n",
            "Epoch 8/20\n",
            "36/36 [==============================] - 0s 12ms/step - loss: 5.9435e-04 - val_loss: 6.1038e-04\n",
            "Epoch 9/20\n",
            "36/36 [==============================] - 0s 12ms/step - loss: 5.2180e-04 - val_loss: 5.9677e-04\n",
            "Epoch 10/20\n",
            "36/36 [==============================] - 0s 12ms/step - loss: 6.4642e-04 - val_loss: 7.0233e-04\n",
            "Epoch 11/20\n",
            "36/36 [==============================] - 0s 12ms/step - loss: 5.9026e-04 - val_loss: 7.1833e-04\n",
            "Epoch 12/20\n",
            "36/36 [==============================] - 0s 13ms/step - loss: 5.6460e-04 - val_loss: 7.3955e-04\n",
            "Epoch 13/20\n",
            "36/36 [==============================] - 0s 12ms/step - loss: 5.4666e-04 - val_loss: 7.4479e-04\n",
            "Epoch 14/20\n",
            "36/36 [==============================] - 0s 13ms/step - loss: 5.1394e-04 - val_loss: 7.2779e-04\n",
            "Epoch 15/20\n",
            "36/36 [==============================] - 0s 13ms/step - loss: 5.2127e-04 - val_loss: 5.8787e-04\n",
            "Epoch 16/20\n",
            "36/36 [==============================] - 0s 12ms/step - loss: 5.4741e-04 - val_loss: 6.6321e-04\n",
            "Epoch 17/20\n",
            "36/36 [==============================] - 0s 12ms/step - loss: 5.7395e-04 - val_loss: 5.5336e-04\n",
            "Epoch 18/20\n",
            "36/36 [==============================] - 0s 12ms/step - loss: 5.5562e-04 - val_loss: 7.2668e-04\n",
            "Epoch 19/20\n",
            "36/36 [==============================] - 0s 12ms/step - loss: 5.3872e-04 - val_loss: 6.1538e-04\n",
            "Epoch 20/20\n",
            "36/36 [==============================] - 0s 12ms/step - loss: 5.2912e-04 - val_loss: 6.8647e-04\n"
          ],
          "name": "stdout"
        }
      ]
    },
    {
      "cell_type": "code",
      "metadata": {
        "id": "TwJ6iIl9CsDr"
      },
      "source": [
        "# Making a prediction\n",
        "predicted = model.predict(X)"
      ],
      "execution_count": null,
      "outputs": []
    },
    {
      "cell_type": "code",
      "metadata": {
        "id": "nlar3tMFDW29"
      },
      "source": [
        "df_predicted = grupoCCR[1:][['Close']]\n",
        "\n",
        "\n",
        "# trainingCCR_set_scaled - where the original prices were\n",
        "close = []\n",
        "\n",
        "for i in trainingCCR_set_scaled:\n",
        "  close.append(i[0])\n",
        "\n",
        "\n",
        "# To append the predicted values to a list\n",
        "test_predicted = []\n",
        "\n",
        "for i in predicted:\n",
        "  test_predicted.append(i[0][0])\n"
      ],
      "execution_count": null,
      "outputs": []
    },
    {
      "cell_type": "code",
      "metadata": {
        "colab": {
          "base_uri": "https://localhost:8080/",
          "height": 450
        },
        "id": "kh5tk8zrDW1Z",
        "outputId": "3e0f7b77-338e-44c9-cec1-9d58d1035f1e"
      },
      "source": [
        "df_predicted['Close'] = close[1:]\n",
        "df_predicted['Predictions'] = test_predicted\n",
        "df_predicted"
      ],
      "execution_count": null,
      "outputs": [
        {
          "output_type": "execute_result",
          "data": {
            "text/html": [
              "<div>\n",
              "<style scoped>\n",
              "    .dataframe tbody tr th:only-of-type {\n",
              "        vertical-align: middle;\n",
              "    }\n",
              "\n",
              "    .dataframe tbody tr th {\n",
              "        vertical-align: top;\n",
              "    }\n",
              "\n",
              "    .dataframe thead th {\n",
              "        text-align: right;\n",
              "    }\n",
              "</style>\n",
              "<table border=\"1\" class=\"dataframe\">\n",
              "  <thead>\n",
              "    <tr style=\"text-align: right;\">\n",
              "      <th></th>\n",
              "      <th>Close</th>\n",
              "      <th>Predictions</th>\n",
              "    </tr>\n",
              "    <tr>\n",
              "      <th>Date</th>\n",
              "      <th></th>\n",
              "      <th></th>\n",
              "    </tr>\n",
              "  </thead>\n",
              "  <tbody>\n",
              "    <tr>\n",
              "      <th>2013-01-03</th>\n",
              "      <td>0.547804</td>\n",
              "      <td>0.530223</td>\n",
              "    </tr>\n",
              "    <tr>\n",
              "      <th>2013-01-04</th>\n",
              "      <td>0.567244</td>\n",
              "      <td>0.550071</td>\n",
              "    </tr>\n",
              "    <tr>\n",
              "      <th>2013-01-07</th>\n",
              "      <td>0.566100</td>\n",
              "      <td>0.570087</td>\n",
              "    </tr>\n",
              "    <tr>\n",
              "      <th>2013-01-08</th>\n",
              "      <td>0.565528</td>\n",
              "      <td>0.568905</td>\n",
              "    </tr>\n",
              "    <tr>\n",
              "      <th>2013-01-09</th>\n",
              "      <td>0.567244</td>\n",
              "      <td>0.568314</td>\n",
              "    </tr>\n",
              "    <tr>\n",
              "      <th>...</th>\n",
              "      <td>...</td>\n",
              "      <td>...</td>\n",
              "    </tr>\n",
              "    <tr>\n",
              "      <th>2021-02-26</th>\n",
              "      <td>0.347493</td>\n",
              "      <td>0.371113</td>\n",
              "    </tr>\n",
              "    <tr>\n",
              "      <th>2021-03-01</th>\n",
              "      <td>0.320849</td>\n",
              "      <td>0.353656</td>\n",
              "    </tr>\n",
              "    <tr>\n",
              "      <th>2021-03-02</th>\n",
              "      <td>0.317619</td>\n",
              "      <td>0.328877</td>\n",
              "    </tr>\n",
              "    <tr>\n",
              "      <th>2021-03-03</th>\n",
              "      <td>0.329730</td>\n",
              "      <td>0.325895</td>\n",
              "    </tr>\n",
              "    <tr>\n",
              "      <th>2021-03-04</th>\n",
              "      <td>0.366871</td>\n",
              "      <td>0.337102</td>\n",
              "    </tr>\n",
              "  </tbody>\n",
              "</table>\n",
              "<p>2017 rows × 2 columns</p>\n",
              "</div>"
            ],
            "text/plain": [
              "               Close  Predictions\n",
              "Date                             \n",
              "2013-01-03  0.547804     0.530223\n",
              "2013-01-04  0.567244     0.550071\n",
              "2013-01-07  0.566100     0.570087\n",
              "2013-01-08  0.565528     0.568905\n",
              "2013-01-09  0.567244     0.568314\n",
              "...              ...          ...\n",
              "2021-02-26  0.347493     0.371113\n",
              "2021-03-01  0.320849     0.353656\n",
              "2021-03-02  0.317619     0.328877\n",
              "2021-03-03  0.329730     0.325895\n",
              "2021-03-04  0.366871     0.337102\n",
              "\n",
              "[2017 rows x 2 columns]"
            ]
          },
          "metadata": {
            "tags": []
          },
          "execution_count": 53
        }
      ]
    },
    {
      "cell_type": "code",
      "metadata": {
        "id": "nPg9Gp8SL83A"
      },
      "source": [
        "# Function to plot interactive plots using Plotly Express\n",
        "def interactive_plot(df, title):\n",
        "  fig = px.line(title = title)\n",
        "  for i in df.columns:\n",
        "    fig.add_scatter(x = df.index, y = df[i], name = i)\n",
        "  \n",
        "  fig.show()"
      ],
      "execution_count": null,
      "outputs": []
    },
    {
      "cell_type": "code",
      "metadata": {
        "colab": {
          "base_uri": "https://localhost:8080/",
          "height": 542
        },
        "id": "FjNXZSQDDWze",
        "outputId": "a50fa0ca-9c99-43df-e97f-df9213f136de"
      },
      "source": [
        "interactive_plot(df_predicted, 'Original Price vs. LSTM Predictions')"
      ],
      "execution_count": null,
      "outputs": [
        {
          "output_type": "display_data",
          "data": {
            "text/html": [
              "<html>\n",
              "<head><meta charset=\"utf-8\" /></head>\n",
              "<body>\n",
              "    <div>\n",
              "            <script src=\"https://cdnjs.cloudflare.com/ajax/libs/mathjax/2.7.5/MathJax.js?config=TeX-AMS-MML_SVG\"></script><script type=\"text/javascript\">if (window.MathJax) {MathJax.Hub.Config({SVG: {font: \"STIX-Web\"}});}</script>\n",
              "                <script type=\"text/javascript\">window.PlotlyConfig = {MathJaxConfig: 'local'};</script>\n",
              "        <script src=\"https://cdn.plot.ly/plotly-latest.min.js\"></script>    \n",
              "            <div id=\"0016b090-d4b7-4120-8f31-6656b5760555\" class=\"plotly-graph-div\" style=\"height:525px; width:100%;\"></div>\n",
              "            <script type=\"text/javascript\">\n",
              "                \n",
              "                    window.PLOTLYENV=window.PLOTLYENV || {};\n",
              "                    \n",
              "                if (document.getElementById(\"0016b090-d4b7-4120-8f31-6656b5760555\")) {\n",
              "                    Plotly.newPlot(\n",
              "                        '0016b090-d4b7-4120-8f31-6656b5760555',\n",
              "                        [{\"name\": \"Close\", \"type\": \"scatter\", \"x\": [\"2013-01-03T00:00:00\", \"2013-01-04T00:00:00\", \"2013-01-07T00:00:00\", \"2013-01-08T00:00:00\", \"2013-01-09T00:00:00\", \"2013-01-10T00:00:00\", \"2013-01-11T00:00:00\", \"2013-01-14T00:00:00\", \"2013-01-15T00:00:00\", \"2013-01-16T00:00:00\", \"2013-01-17T00:00:00\", \"2013-01-18T00:00:00\", \"2013-01-21T00:00:00\", \"2013-01-22T00:00:00\", \"2013-01-23T00:00:00\", \"2013-01-24T00:00:00\", \"2013-01-28T00:00:00\", \"2013-01-29T00:00:00\", \"2013-01-30T00:00:00\", \"2013-01-31T00:00:00\", \"2013-02-01T00:00:00\", \"2013-02-04T00:00:00\", \"2013-02-05T00:00:00\", \"2013-02-06T00:00:00\", \"2013-02-07T00:00:00\", \"2013-02-08T00:00:00\", \"2013-02-13T00:00:00\", \"2013-02-14T00:00:00\", \"2013-02-15T00:00:00\", \"2013-02-18T00:00:00\", \"2013-02-19T00:00:00\", \"2013-02-20T00:00:00\", \"2013-02-21T00:00:00\", \"2013-02-22T00:00:00\", \"2013-02-25T00:00:00\", \"2013-02-26T00:00:00\", \"2013-02-27T00:00:00\", \"2013-02-28T00:00:00\", \"2013-03-01T00:00:00\", \"2013-03-04T00:00:00\", \"2013-03-05T00:00:00\", \"2013-03-06T00:00:00\", \"2013-03-07T00:00:00\", \"2013-03-08T00:00:00\", \"2013-03-11T00:00:00\", \"2013-03-12T00:00:00\", \"2013-03-13T00:00:00\", \"2013-03-14T00:00:00\", \"2013-03-15T00:00:00\", \"2013-03-18T00:00:00\", \"2013-03-19T00:00:00\", \"2013-03-20T00:00:00\", \"2013-03-21T00:00:00\", \"2013-03-22T00:00:00\", \"2013-03-25T00:00:00\", \"2013-03-26T00:00:00\", \"2013-03-27T00:00:00\", \"2013-03-28T00:00:00\", \"2013-04-01T00:00:00\", \"2013-04-02T00:00:00\", \"2013-04-03T00:00:00\", \"2013-04-04T00:00:00\", \"2013-04-05T00:00:00\", \"2013-04-08T00:00:00\", \"2013-04-09T00:00:00\", \"2013-04-10T00:00:00\", \"2013-04-11T00:00:00\", \"2013-04-12T00:00:00\", \"2013-04-15T00:00:00\", \"2013-04-16T00:00:00\", \"2013-04-17T00:00:00\", \"2013-04-18T00:00:00\", \"2013-04-19T00:00:00\", \"2013-04-22T00:00:00\", \"2013-04-23T00:00:00\", \"2013-04-24T00:00:00\", \"2013-04-25T00:00:00\", \"2013-04-26T00:00:00\", \"2013-04-29T00:00:00\", \"2013-04-30T00:00:00\", \"2013-05-02T00:00:00\", \"2013-05-03T00:00:00\", \"2013-05-06T00:00:00\", \"2013-05-07T00:00:00\", \"2013-05-08T00:00:00\", \"2013-05-09T00:00:00\", \"2013-05-10T00:00:00\", \"2013-05-13T00:00:00\", \"2013-05-14T00:00:00\", \"2013-05-15T00:00:00\", \"2013-05-16T00:00:00\", \"2013-05-17T00:00:00\", \"2013-05-20T00:00:00\", \"2013-05-21T00:00:00\", \"2013-05-22T00:00:00\", \"2013-05-23T00:00:00\", \"2013-05-24T00:00:00\", \"2013-05-27T00:00:00\", \"2013-05-28T00:00:00\", \"2013-05-29T00:00:00\", \"2013-05-31T00:00:00\", \"2013-06-03T00:00:00\", \"2013-06-04T00:00:00\", \"2013-06-05T00:00:00\", \"2013-06-06T00:00:00\", \"2013-06-07T00:00:00\", \"2013-06-10T00:00:00\", \"2013-06-11T00:00:00\", \"2013-06-12T00:00:00\", \"2013-06-13T00:00:00\", \"2013-06-14T00:00:00\", \"2013-06-17T00:00:00\", \"2013-06-18T00:00:00\", \"2013-06-19T00:00:00\", \"2013-06-20T00:00:00\", \"2013-06-21T00:00:00\", \"2013-06-24T00:00:00\", \"2013-06-25T00:00:00\", \"2013-06-26T00:00:00\", \"2013-06-27T00:00:00\", \"2013-06-28T00:00:00\", \"2013-07-01T00:00:00\", \"2013-07-02T00:00:00\", \"2013-07-03T00:00:00\", \"2013-07-04T00:00:00\", \"2013-07-05T00:00:00\", \"2013-07-08T00:00:00\", \"2013-07-10T00:00:00\", \"2013-07-11T00:00:00\", \"2013-07-12T00:00:00\", \"2013-07-15T00:00:00\", \"2013-07-16T00:00:00\", \"2013-07-17T00:00:00\", \"2013-07-18T00:00:00\", \"2013-07-19T00:00:00\", \"2013-07-22T00:00:00\", \"2013-07-23T00:00:00\", \"2013-07-24T00:00:00\", \"2013-07-25T00:00:00\", \"2013-07-26T00:00:00\", \"2013-07-29T00:00:00\", \"2013-07-30T00:00:00\", \"2013-07-31T00:00:00\", \"2013-08-01T00:00:00\", \"2013-08-02T00:00:00\", \"2013-08-05T00:00:00\", \"2013-08-06T00:00:00\", \"2013-08-07T00:00:00\", \"2013-08-08T00:00:00\", \"2013-08-09T00:00:00\", \"2013-08-12T00:00:00\", \"2013-08-13T00:00:00\", \"2013-08-14T00:00:00\", \"2013-08-15T00:00:00\", \"2013-08-16T00:00:00\", \"2013-08-19T00:00:00\", \"2013-08-20T00:00:00\", \"2013-08-21T00:00:00\", \"2013-08-22T00:00:00\", \"2013-08-23T00:00:00\", \"2013-08-26T00:00:00\", \"2013-08-27T00:00:00\", \"2013-08-28T00:00:00\", \"2013-08-29T00:00:00\", \"2013-08-30T00:00:00\", \"2013-09-02T00:00:00\", \"2013-09-03T00:00:00\", \"2013-09-04T00:00:00\", \"2013-09-05T00:00:00\", \"2013-09-06T00:00:00\", \"2013-09-09T00:00:00\", \"2013-09-10T00:00:00\", \"2013-09-11T00:00:00\", \"2013-09-12T00:00:00\", \"2013-09-13T00:00:00\", \"2013-09-16T00:00:00\", \"2013-09-17T00:00:00\", \"2013-09-18T00:00:00\", \"2013-09-19T00:00:00\", \"2013-09-20T00:00:00\", \"2013-09-23T00:00:00\", \"2013-09-24T00:00:00\", \"2013-09-25T00:00:00\", \"2013-09-26T00:00:00\", \"2013-09-27T00:00:00\", \"2013-09-30T00:00:00\", \"2013-10-01T00:00:00\", \"2013-10-02T00:00:00\", \"2013-10-03T00:00:00\", \"2013-10-04T00:00:00\", \"2013-10-07T00:00:00\", \"2013-10-08T00:00:00\", \"2013-10-09T00:00:00\", \"2013-10-10T00:00:00\", \"2013-10-11T00:00:00\", \"2013-10-14T00:00:00\", \"2013-10-15T00:00:00\", \"2013-10-16T00:00:00\", \"2013-10-17T00:00:00\", \"2013-10-18T00:00:00\", \"2013-10-21T00:00:00\", \"2013-10-22T00:00:00\", \"2013-10-23T00:00:00\", \"2013-10-24T00:00:00\", \"2013-10-25T00:00:00\", \"2013-10-28T00:00:00\", \"2013-10-29T00:00:00\", \"2013-10-30T00:00:00\", \"2013-10-31T00:00:00\", \"2013-11-01T00:00:00\", \"2013-11-04T00:00:00\", \"2013-11-05T00:00:00\", \"2013-11-06T00:00:00\", \"2013-11-07T00:00:00\", \"2013-11-08T00:00:00\", \"2013-11-11T00:00:00\", \"2013-11-12T00:00:00\", \"2013-11-13T00:00:00\", \"2013-11-14T00:00:00\", \"2013-11-18T00:00:00\", \"2013-11-19T00:00:00\", \"2013-11-21T00:00:00\", \"2013-11-22T00:00:00\", \"2013-11-25T00:00:00\", \"2013-11-26T00:00:00\", \"2013-11-27T00:00:00\", \"2013-11-28T00:00:00\", \"2013-11-29T00:00:00\", \"2013-12-02T00:00:00\", \"2013-12-03T00:00:00\", \"2013-12-04T00:00:00\", \"2013-12-05T00:00:00\", \"2013-12-06T00:00:00\", \"2013-12-09T00:00:00\", \"2013-12-10T00:00:00\", \"2013-12-11T00:00:00\", \"2013-12-12T00:00:00\", \"2013-12-13T00:00:00\", \"2013-12-16T00:00:00\", \"2013-12-17T00:00:00\", \"2013-12-18T00:00:00\", \"2013-12-19T00:00:00\", \"2013-12-20T00:00:00\", \"2013-12-23T00:00:00\", \"2013-12-26T00:00:00\", \"2013-12-27T00:00:00\", \"2013-12-30T00:00:00\", \"2014-01-02T00:00:00\", \"2014-01-03T00:00:00\", \"2014-01-06T00:00:00\", \"2014-01-07T00:00:00\", \"2014-01-08T00:00:00\", \"2014-01-09T00:00:00\", \"2014-01-10T00:00:00\", \"2014-01-13T00:00:00\", \"2014-01-14T00:00:00\", \"2014-01-15T00:00:00\", \"2014-01-16T00:00:00\", \"2014-01-17T00:00:00\", \"2014-01-20T00:00:00\", \"2014-01-21T00:00:00\", \"2014-01-22T00:00:00\", \"2014-01-23T00:00:00\", \"2014-01-24T00:00:00\", \"2014-01-27T00:00:00\", \"2014-01-28T00:00:00\", \"2014-01-29T00:00:00\", \"2014-01-30T00:00:00\", \"2014-01-31T00:00:00\", \"2014-02-03T00:00:00\", \"2014-02-04T00:00:00\", \"2014-02-05T00:00:00\", \"2014-02-06T00:00:00\", \"2014-02-07T00:00:00\", \"2014-02-10T00:00:00\", \"2014-02-11T00:00:00\", \"2014-02-12T00:00:00\", \"2014-02-13T00:00:00\", \"2014-02-14T00:00:00\", \"2014-02-17T00:00:00\", \"2014-02-18T00:00:00\", \"2014-02-19T00:00:00\", \"2014-02-20T00:00:00\", \"2014-02-21T00:00:00\", \"2014-02-24T00:00:00\", \"2014-02-25T00:00:00\", \"2014-02-26T00:00:00\", \"2014-02-27T00:00:00\", \"2014-02-28T00:00:00\", \"2014-03-05T00:00:00\", \"2014-03-06T00:00:00\", \"2014-03-07T00:00:00\", \"2014-03-10T00:00:00\", \"2014-03-11T00:00:00\", \"2014-03-12T00:00:00\", \"2014-03-13T00:00:00\", \"2014-03-14T00:00:00\", \"2014-03-17T00:00:00\", \"2014-03-18T00:00:00\", \"2014-03-19T00:00:00\", \"2014-03-20T00:00:00\", \"2014-03-21T00:00:00\", \"2014-03-24T00:00:00\", \"2014-03-25T00:00:00\", \"2014-03-26T00:00:00\", \"2014-03-27T00:00:00\", \"2014-03-28T00:00:00\", \"2014-03-31T00:00:00\", \"2014-04-01T00:00:00\", \"2014-04-02T00:00:00\", \"2014-04-03T00:00:00\", \"2014-04-04T00:00:00\", \"2014-04-07T00:00:00\", \"2014-04-08T00:00:00\", \"2014-04-09T00:00:00\", \"2014-04-10T00:00:00\", \"2014-04-11T00:00:00\", \"2014-04-14T00:00:00\", \"2014-04-15T00:00:00\", \"2014-04-16T00:00:00\", \"2014-04-17T00:00:00\", \"2014-04-22T00:00:00\", \"2014-04-23T00:00:00\", \"2014-04-24T00:00:00\", \"2014-04-25T00:00:00\", \"2014-04-28T00:00:00\", \"2014-04-29T00:00:00\", \"2014-04-30T00:00:00\", \"2014-05-02T00:00:00\", \"2014-05-05T00:00:00\", \"2014-05-06T00:00:00\", \"2014-05-07T00:00:00\", \"2014-05-08T00:00:00\", \"2014-05-09T00:00:00\", \"2014-05-12T00:00:00\", \"2014-05-13T00:00:00\", \"2014-05-14T00:00:00\", \"2014-05-15T00:00:00\", \"2014-05-16T00:00:00\", \"2014-05-19T00:00:00\", \"2014-05-20T00:00:00\", \"2014-05-21T00:00:00\", \"2014-05-22T00:00:00\", \"2014-05-23T00:00:00\", \"2014-05-26T00:00:00\", \"2014-05-27T00:00:00\", \"2014-05-28T00:00:00\", \"2014-05-29T00:00:00\", \"2014-05-30T00:00:00\", \"2014-06-02T00:00:00\", \"2014-06-03T00:00:00\", \"2014-06-04T00:00:00\", \"2014-06-05T00:00:00\", \"2014-06-06T00:00:00\", \"2014-06-09T00:00:00\", \"2014-06-10T00:00:00\", \"2014-06-11T00:00:00\", \"2014-06-13T00:00:00\", \"2014-06-16T00:00:00\", \"2014-06-17T00:00:00\", \"2014-06-18T00:00:00\", \"2014-06-20T00:00:00\", \"2014-06-23T00:00:00\", \"2014-06-24T00:00:00\", \"2014-06-25T00:00:00\", \"2014-06-26T00:00:00\", \"2014-06-27T00:00:00\", \"2014-06-30T00:00:00\", \"2014-07-01T00:00:00\", \"2014-07-02T00:00:00\", \"2014-07-03T00:00:00\", \"2014-07-04T00:00:00\", \"2014-07-07T00:00:00\", \"2014-07-08T00:00:00\", \"2014-07-10T00:00:00\", \"2014-07-11T00:00:00\", \"2014-07-14T00:00:00\", \"2014-07-15T00:00:00\", \"2014-07-16T00:00:00\", \"2014-07-17T00:00:00\", \"2014-07-18T00:00:00\", \"2014-07-21T00:00:00\", \"2014-07-22T00:00:00\", \"2014-07-23T00:00:00\", \"2014-07-24T00:00:00\", \"2014-07-25T00:00:00\", \"2014-07-28T00:00:00\", \"2014-07-29T00:00:00\", \"2014-07-30T00:00:00\", \"2014-07-31T00:00:00\", \"2014-08-01T00:00:00\", \"2014-08-04T00:00:00\", \"2014-08-05T00:00:00\", \"2014-08-06T00:00:00\", \"2014-08-07T00:00:00\", \"2014-08-08T00:00:00\", \"2014-08-11T00:00:00\", \"2014-08-12T00:00:00\", \"2014-08-13T00:00:00\", \"2014-08-14T00:00:00\", \"2014-08-15T00:00:00\", \"2014-08-18T00:00:00\", \"2014-08-19T00:00:00\", \"2014-08-20T00:00:00\", \"2014-08-21T00:00:00\", \"2014-08-22T00:00:00\", \"2014-08-25T00:00:00\", \"2014-08-26T00:00:00\", \"2014-08-27T00:00:00\", \"2014-08-28T00:00:00\", \"2014-08-29T00:00:00\", \"2014-09-01T00:00:00\", \"2014-09-02T00:00:00\", \"2014-09-03T00:00:00\", \"2014-09-04T00:00:00\", \"2014-09-05T00:00:00\", \"2014-09-08T00:00:00\", \"2014-09-09T00:00:00\", \"2014-09-10T00:00:00\", \"2014-09-11T00:00:00\", \"2014-09-12T00:00:00\", \"2014-09-15T00:00:00\", \"2014-09-16T00:00:00\", \"2014-09-17T00:00:00\", \"2014-09-18T00:00:00\", \"2014-09-19T00:00:00\", \"2014-09-22T00:00:00\", \"2014-09-23T00:00:00\", \"2014-09-24T00:00:00\", \"2014-09-25T00:00:00\", \"2014-09-26T00:00:00\", \"2014-09-29T00:00:00\", \"2014-09-30T00:00:00\", \"2014-10-01T00:00:00\", \"2014-10-02T00:00:00\", \"2014-10-03T00:00:00\", \"2014-10-06T00:00:00\", \"2014-10-07T00:00:00\", \"2014-10-08T00:00:00\", \"2014-10-09T00:00:00\", \"2014-10-10T00:00:00\", \"2014-10-13T00:00:00\", \"2014-10-14T00:00:00\", \"2014-10-15T00:00:00\", \"2014-10-16T00:00:00\", \"2014-10-17T00:00:00\", \"2014-10-20T00:00:00\", \"2014-10-21T00:00:00\", \"2014-10-22T00:00:00\", \"2014-10-23T00:00:00\", \"2014-10-24T00:00:00\", \"2014-10-27T00:00:00\", \"2014-10-28T00:00:00\", \"2014-10-29T00:00:00\", \"2014-10-30T00:00:00\", \"2014-10-31T00:00:00\", \"2014-11-03T00:00:00\", \"2014-11-04T00:00:00\", \"2014-11-05T00:00:00\", \"2014-11-06T00:00:00\", \"2014-11-07T00:00:00\", \"2014-11-10T00:00:00\", \"2014-11-11T00:00:00\", \"2014-11-12T00:00:00\", \"2014-11-13T00:00:00\", \"2014-11-14T00:00:00\", \"2014-11-17T00:00:00\", \"2014-11-18T00:00:00\", \"2014-11-19T00:00:00\", \"2014-11-21T00:00:00\", \"2014-11-24T00:00:00\", \"2014-11-25T00:00:00\", \"2014-11-26T00:00:00\", \"2014-11-27T00:00:00\", \"2014-11-28T00:00:00\", \"2014-12-01T00:00:00\", \"2014-12-02T00:00:00\", \"2014-12-03T00:00:00\", \"2014-12-04T00:00:00\", \"2014-12-05T00:00:00\", \"2014-12-08T00:00:00\", \"2014-12-09T00:00:00\", \"2014-12-10T00:00:00\", \"2014-12-11T00:00:00\", \"2014-12-12T00:00:00\", \"2014-12-15T00:00:00\", \"2014-12-16T00:00:00\", \"2014-12-17T00:00:00\", \"2014-12-18T00:00:00\", \"2014-12-19T00:00:00\", \"2014-12-22T00:00:00\", \"2014-12-23T00:00:00\", \"2014-12-26T00:00:00\", \"2014-12-29T00:00:00\", \"2014-12-30T00:00:00\", \"2015-01-02T00:00:00\", \"2015-01-05T00:00:00\", \"2015-01-06T00:00:00\", \"2015-01-07T00:00:00\", \"2015-01-08T00:00:00\", \"2015-01-09T00:00:00\", \"2015-01-12T00:00:00\", \"2015-01-13T00:00:00\", \"2015-01-14T00:00:00\", \"2015-01-15T00:00:00\", \"2015-01-16T00:00:00\", \"2015-01-19T00:00:00\", \"2015-01-20T00:00:00\", \"2015-01-21T00:00:00\", \"2015-01-22T00:00:00\", \"2015-01-23T00:00:00\", \"2015-01-26T00:00:00\", \"2015-01-27T00:00:00\", \"2015-01-28T00:00:00\", \"2015-01-29T00:00:00\", \"2015-01-30T00:00:00\", \"2015-02-02T00:00:00\", \"2015-02-03T00:00:00\", \"2015-02-04T00:00:00\", \"2015-02-05T00:00:00\", \"2015-02-06T00:00:00\", \"2015-02-09T00:00:00\", \"2015-02-10T00:00:00\", \"2015-02-11T00:00:00\", \"2015-02-12T00:00:00\", \"2015-02-13T00:00:00\", \"2015-02-18T00:00:00\", \"2015-02-19T00:00:00\", \"2015-02-20T00:00:00\", \"2015-02-23T00:00:00\", \"2015-02-24T00:00:00\", \"2015-02-25T00:00:00\", \"2015-02-26T00:00:00\", \"2015-02-27T00:00:00\", \"2015-03-02T00:00:00\", \"2015-03-03T00:00:00\", \"2015-03-04T00:00:00\", \"2015-03-05T00:00:00\", \"2015-03-06T00:00:00\", \"2015-03-09T00:00:00\", \"2015-03-10T00:00:00\", \"2015-03-11T00:00:00\", \"2015-03-12T00:00:00\", \"2015-03-13T00:00:00\", \"2015-03-16T00:00:00\", \"2015-03-17T00:00:00\", \"2015-03-18T00:00:00\", \"2015-03-19T00:00:00\", \"2015-03-20T00:00:00\", \"2015-03-23T00:00:00\", \"2015-03-24T00:00:00\", \"2015-03-25T00:00:00\", \"2015-03-26T00:00:00\", \"2015-03-27T00:00:00\", \"2015-03-30T00:00:00\", \"2015-03-31T00:00:00\", \"2015-04-01T00:00:00\", \"2015-04-02T00:00:00\", \"2015-04-06T00:00:00\", \"2015-04-07T00:00:00\", \"2015-04-08T00:00:00\", \"2015-04-09T00:00:00\", \"2015-04-10T00:00:00\", \"2015-04-13T00:00:00\", \"2015-04-14T00:00:00\", \"2015-04-15T00:00:00\", \"2015-04-16T00:00:00\", \"2015-04-17T00:00:00\", \"2015-04-20T00:00:00\", \"2015-04-22T00:00:00\", \"2015-04-23T00:00:00\", \"2015-04-24T00:00:00\", \"2015-04-27T00:00:00\", \"2015-04-28T00:00:00\", \"2015-04-29T00:00:00\", \"2015-04-30T00:00:00\", \"2015-05-04T00:00:00\", \"2015-05-05T00:00:00\", \"2015-05-06T00:00:00\", \"2015-05-07T00:00:00\", \"2015-05-08T00:00:00\", \"2015-05-11T00:00:00\", \"2015-05-12T00:00:00\", \"2015-05-13T00:00:00\", \"2015-05-14T00:00:00\", \"2015-05-15T00:00:00\", \"2015-05-18T00:00:00\", \"2015-05-19T00:00:00\", \"2015-05-20T00:00:00\", \"2015-05-21T00:00:00\", \"2015-05-22T00:00:00\", \"2015-05-25T00:00:00\", \"2015-05-26T00:00:00\", \"2015-05-27T00:00:00\", \"2015-05-28T00:00:00\", \"2015-05-29T00:00:00\", \"2015-06-01T00:00:00\", \"2015-06-02T00:00:00\", \"2015-06-03T00:00:00\", \"2015-06-05T00:00:00\", \"2015-06-08T00:00:00\", \"2015-06-09T00:00:00\", \"2015-06-10T00:00:00\", \"2015-06-11T00:00:00\", \"2015-06-12T00:00:00\", \"2015-06-15T00:00:00\", \"2015-06-16T00:00:00\", \"2015-06-17T00:00:00\", \"2015-06-18T00:00:00\", \"2015-06-19T00:00:00\", \"2015-06-22T00:00:00\", \"2015-06-23T00:00:00\", \"2015-06-24T00:00:00\", \"2015-06-25T00:00:00\", \"2015-06-26T00:00:00\", \"2015-06-29T00:00:00\", \"2015-06-30T00:00:00\", \"2015-07-01T00:00:00\", \"2015-07-02T00:00:00\", \"2015-07-03T00:00:00\", \"2015-07-06T00:00:00\", \"2015-07-07T00:00:00\", \"2015-07-08T00:00:00\", \"2015-07-10T00:00:00\", \"2015-07-13T00:00:00\", \"2015-07-14T00:00:00\", \"2015-07-15T00:00:00\", \"2015-07-16T00:00:00\", \"2015-07-17T00:00:00\", \"2015-07-20T00:00:00\", \"2015-07-21T00:00:00\", \"2015-07-22T00:00:00\", \"2015-07-23T00:00:00\", \"2015-07-24T00:00:00\", \"2015-07-27T00:00:00\", \"2015-07-28T00:00:00\", \"2015-07-29T00:00:00\", \"2015-07-30T00:00:00\", \"2015-07-31T00:00:00\", \"2015-08-03T00:00:00\", \"2015-08-04T00:00:00\", \"2015-08-05T00:00:00\", \"2015-08-06T00:00:00\", \"2015-08-07T00:00:00\", \"2015-08-10T00:00:00\", \"2015-08-11T00:00:00\", \"2015-08-12T00:00:00\", \"2015-08-13T00:00:00\", \"2015-08-14T00:00:00\", \"2015-08-17T00:00:00\", \"2015-08-18T00:00:00\", \"2015-08-19T00:00:00\", \"2015-08-20T00:00:00\", \"2015-08-21T00:00:00\", \"2015-08-24T00:00:00\", \"2015-08-25T00:00:00\", \"2015-08-26T00:00:00\", \"2015-08-27T00:00:00\", \"2015-08-28T00:00:00\", \"2015-08-31T00:00:00\", \"2015-09-01T00:00:00\", \"2015-09-02T00:00:00\", \"2015-09-03T00:00:00\", \"2015-09-04T00:00:00\", \"2015-09-08T00:00:00\", \"2015-09-09T00:00:00\", \"2015-09-10T00:00:00\", \"2015-09-11T00:00:00\", \"2015-09-14T00:00:00\", \"2015-09-15T00:00:00\", \"2015-09-16T00:00:00\", \"2015-09-17T00:00:00\", \"2015-09-18T00:00:00\", \"2015-09-21T00:00:00\", \"2015-09-22T00:00:00\", \"2015-09-23T00:00:00\", \"2015-09-24T00:00:00\", \"2015-09-25T00:00:00\", \"2015-09-28T00:00:00\", \"2015-09-29T00:00:00\", \"2015-09-30T00:00:00\", \"2015-10-01T00:00:00\", \"2015-10-02T00:00:00\", \"2015-10-05T00:00:00\", \"2015-10-06T00:00:00\", \"2015-10-07T00:00:00\", \"2015-10-08T00:00:00\", \"2015-10-09T00:00:00\", \"2015-10-13T00:00:00\", \"2015-10-14T00:00:00\", \"2015-10-15T00:00:00\", \"2015-10-16T00:00:00\", \"2015-10-19T00:00:00\", \"2015-10-20T00:00:00\", \"2015-10-21T00:00:00\", \"2015-10-22T00:00:00\", \"2015-10-23T00:00:00\", \"2015-10-26T00:00:00\", \"2015-10-27T00:00:00\", \"2015-10-28T00:00:00\", \"2015-10-29T00:00:00\", \"2015-10-30T00:00:00\", \"2015-11-03T00:00:00\", \"2015-11-04T00:00:00\", \"2015-11-05T00:00:00\", \"2015-11-06T00:00:00\", \"2015-11-09T00:00:00\", \"2015-11-10T00:00:00\", \"2015-11-11T00:00:00\", \"2015-11-12T00:00:00\", \"2015-11-13T00:00:00\", \"2015-11-16T00:00:00\", \"2015-11-17T00:00:00\", \"2015-11-18T00:00:00\", \"2015-11-19T00:00:00\", \"2015-11-23T00:00:00\", \"2015-11-24T00:00:00\", \"2015-11-25T00:00:00\", \"2015-11-26T00:00:00\", \"2015-11-27T00:00:00\", \"2015-11-30T00:00:00\", \"2015-12-01T00:00:00\", \"2015-12-02T00:00:00\", \"2015-12-03T00:00:00\", \"2015-12-04T00:00:00\", \"2015-12-07T00:00:00\", \"2015-12-08T00:00:00\", \"2015-12-09T00:00:00\", \"2015-12-10T00:00:00\", \"2015-12-11T00:00:00\", \"2015-12-14T00:00:00\", \"2015-12-15T00:00:00\", \"2015-12-16T00:00:00\", \"2015-12-17T00:00:00\", \"2015-12-18T00:00:00\", \"2015-12-21T00:00:00\", \"2015-12-22T00:00:00\", \"2015-12-23T00:00:00\", \"2015-12-28T00:00:00\", \"2015-12-29T00:00:00\", \"2015-12-30T00:00:00\", \"2016-01-04T00:00:00\", \"2016-01-05T00:00:00\", \"2016-01-06T00:00:00\", \"2016-01-07T00:00:00\", \"2016-01-08T00:00:00\", \"2016-01-11T00:00:00\", \"2016-01-12T00:00:00\", \"2016-01-13T00:00:00\", \"2016-01-14T00:00:00\", \"2016-01-15T00:00:00\", \"2016-01-18T00:00:00\", \"2016-01-19T00:00:00\", \"2016-01-20T00:00:00\", \"2016-01-21T00:00:00\", \"2016-01-22T00:00:00\", \"2016-01-26T00:00:00\", \"2016-01-27T00:00:00\", \"2016-01-28T00:00:00\", \"2016-01-29T00:00:00\", \"2016-02-01T00:00:00\", \"2016-02-02T00:00:00\", \"2016-02-03T00:00:00\", \"2016-02-04T00:00:00\", \"2016-02-05T00:00:00\", \"2016-02-10T00:00:00\", \"2016-02-11T00:00:00\", \"2016-02-12T00:00:00\", \"2016-02-15T00:00:00\", \"2016-02-16T00:00:00\", \"2016-02-17T00:00:00\", \"2016-02-18T00:00:00\", \"2016-02-19T00:00:00\", \"2016-02-22T00:00:00\", \"2016-02-23T00:00:00\", \"2016-02-24T00:00:00\", \"2016-02-25T00:00:00\", \"2016-02-26T00:00:00\", \"2016-02-29T00:00:00\", \"2016-03-01T00:00:00\", \"2016-03-02T00:00:00\", \"2016-03-03T00:00:00\", \"2016-03-04T00:00:00\", \"2016-03-07T00:00:00\", \"2016-03-08T00:00:00\", \"2016-03-09T00:00:00\", \"2016-03-10T00:00:00\", \"2016-03-11T00:00:00\", \"2016-03-14T00:00:00\", \"2016-03-15T00:00:00\", \"2016-03-16T00:00:00\", \"2016-03-17T00:00:00\", \"2016-03-18T00:00:00\", \"2016-03-21T00:00:00\", \"2016-03-22T00:00:00\", \"2016-03-23T00:00:00\", \"2016-03-24T00:00:00\", \"2016-03-28T00:00:00\", \"2016-03-29T00:00:00\", \"2016-03-30T00:00:00\", \"2016-03-31T00:00:00\", \"2016-04-01T00:00:00\", \"2016-04-04T00:00:00\", \"2016-04-05T00:00:00\", \"2016-04-06T00:00:00\", \"2016-04-07T00:00:00\", \"2016-04-08T00:00:00\", \"2016-04-11T00:00:00\", \"2016-04-12T00:00:00\", \"2016-04-13T00:00:00\", \"2016-04-14T00:00:00\", \"2016-04-15T00:00:00\", \"2016-04-18T00:00:00\", \"2016-04-19T00:00:00\", \"2016-04-20T00:00:00\", \"2016-04-22T00:00:00\", \"2016-04-25T00:00:00\", \"2016-04-26T00:00:00\", \"2016-04-27T00:00:00\", \"2016-04-28T00:00:00\", \"2016-04-29T00:00:00\", \"2016-05-02T00:00:00\", \"2016-05-03T00:00:00\", \"2016-05-04T00:00:00\", \"2016-05-05T00:00:00\", \"2016-05-06T00:00:00\", \"2016-05-09T00:00:00\", \"2016-05-10T00:00:00\", \"2016-05-11T00:00:00\", \"2016-05-12T00:00:00\", \"2016-05-13T00:00:00\", \"2016-05-16T00:00:00\", \"2016-05-17T00:00:00\", \"2016-05-18T00:00:00\", \"2016-05-19T00:00:00\", \"2016-05-20T00:00:00\", \"2016-05-23T00:00:00\", \"2016-05-24T00:00:00\", \"2016-05-25T00:00:00\", \"2016-05-27T00:00:00\", \"2016-05-30T00:00:00\", \"2016-05-31T00:00:00\", \"2016-06-01T00:00:00\", \"2016-06-02T00:00:00\", \"2016-06-03T00:00:00\", \"2016-06-06T00:00:00\", \"2016-06-07T00:00:00\", \"2016-06-08T00:00:00\", \"2016-06-09T00:00:00\", \"2016-06-10T00:00:00\", \"2016-06-13T00:00:00\", \"2016-06-14T00:00:00\", \"2016-06-15T00:00:00\", \"2016-06-16T00:00:00\", \"2016-06-17T00:00:00\", \"2016-06-20T00:00:00\", \"2016-06-21T00:00:00\", \"2016-06-22T00:00:00\", \"2016-06-23T00:00:00\", \"2016-06-24T00:00:00\", \"2016-06-27T00:00:00\", \"2016-06-28T00:00:00\", \"2016-06-29T00:00:00\", \"2016-06-30T00:00:00\", \"2016-07-01T00:00:00\", \"2016-07-04T00:00:00\", \"2016-07-05T00:00:00\", \"2016-07-06T00:00:00\", \"2016-07-07T00:00:00\", \"2016-07-08T00:00:00\", \"2016-07-11T00:00:00\", \"2016-07-12T00:00:00\", \"2016-07-13T00:00:00\", \"2016-07-14T00:00:00\", \"2016-07-15T00:00:00\", \"2016-07-18T00:00:00\", \"2016-07-19T00:00:00\", \"2016-07-20T00:00:00\", \"2016-07-21T00:00:00\", \"2016-07-22T00:00:00\", \"2016-07-25T00:00:00\", \"2016-07-26T00:00:00\", \"2016-07-27T00:00:00\", \"2016-07-28T00:00:00\", \"2016-07-29T00:00:00\", \"2016-08-01T00:00:00\", \"2016-08-02T00:00:00\", \"2016-08-03T00:00:00\", \"2016-08-04T00:00:00\", \"2016-08-05T00:00:00\", \"2016-08-08T00:00:00\", \"2016-08-09T00:00:00\", \"2016-08-10T00:00:00\", \"2016-08-11T00:00:00\", \"2016-08-12T00:00:00\", \"2016-08-15T00:00:00\", \"2016-08-16T00:00:00\", \"2016-08-17T00:00:00\", \"2016-08-18T00:00:00\", \"2016-08-19T00:00:00\", \"2016-08-22T00:00:00\", \"2016-08-23T00:00:00\", \"2016-08-24T00:00:00\", \"2016-08-25T00:00:00\", \"2016-08-26T00:00:00\", \"2016-08-29T00:00:00\", \"2016-08-30T00:00:00\", \"2016-08-31T00:00:00\", \"2016-09-01T00:00:00\", \"2016-09-02T00:00:00\", \"2016-09-05T00:00:00\", \"2016-09-06T00:00:00\", \"2016-09-08T00:00:00\", \"2016-09-09T00:00:00\", \"2016-09-12T00:00:00\", \"2016-09-13T00:00:00\", \"2016-09-14T00:00:00\", \"2016-09-15T00:00:00\", \"2016-09-16T00:00:00\", \"2016-09-19T00:00:00\", \"2016-09-20T00:00:00\", \"2016-09-21T00:00:00\", \"2016-09-22T00:00:00\", \"2016-09-23T00:00:00\", \"2016-09-26T00:00:00\", \"2016-09-27T00:00:00\", \"2016-09-28T00:00:00\", \"2016-09-29T00:00:00\", \"2016-09-30T00:00:00\", \"2016-10-03T00:00:00\", \"2016-10-04T00:00:00\", \"2016-10-05T00:00:00\", \"2016-10-06T00:00:00\", \"2016-10-07T00:00:00\", \"2016-10-10T00:00:00\", \"2016-10-11T00:00:00\", \"2016-10-13T00:00:00\", \"2016-10-14T00:00:00\", \"2016-10-17T00:00:00\", \"2016-10-18T00:00:00\", \"2016-10-19T00:00:00\", \"2016-10-20T00:00:00\", \"2016-10-21T00:00:00\", \"2016-10-24T00:00:00\", \"2016-10-25T00:00:00\", \"2016-10-26T00:00:00\", \"2016-10-27T00:00:00\", \"2016-10-28T00:00:00\", \"2016-10-31T00:00:00\", \"2016-11-01T00:00:00\", \"2016-11-03T00:00:00\", \"2016-11-04T00:00:00\", \"2016-11-07T00:00:00\", \"2016-11-08T00:00:00\", \"2016-11-09T00:00:00\", \"2016-11-10T00:00:00\", \"2016-11-11T00:00:00\", \"2016-11-14T00:00:00\", \"2016-11-16T00:00:00\", \"2016-11-17T00:00:00\", \"2016-11-18T00:00:00\", \"2016-11-21T00:00:00\", \"2016-11-22T00:00:00\", \"2016-11-23T00:00:00\", \"2016-11-24T00:00:00\", \"2016-11-25T00:00:00\", \"2016-11-28T00:00:00\", \"2016-11-29T00:00:00\", \"2016-11-30T00:00:00\", \"2016-12-01T00:00:00\", \"2016-12-02T00:00:00\", \"2016-12-05T00:00:00\", \"2016-12-06T00:00:00\", \"2016-12-07T00:00:00\", \"2016-12-08T00:00:00\", \"2016-12-09T00:00:00\", \"2016-12-12T00:00:00\", \"2016-12-13T00:00:00\", \"2016-12-14T00:00:00\", \"2016-12-15T00:00:00\", \"2016-12-16T00:00:00\", \"2016-12-19T00:00:00\", \"2016-12-20T00:00:00\", \"2016-12-21T00:00:00\", \"2016-12-22T00:00:00\", \"2016-12-23T00:00:00\", \"2016-12-26T00:00:00\", \"2016-12-27T00:00:00\", \"2016-12-28T00:00:00\", \"2016-12-29T00:00:00\", \"2017-01-02T00:00:00\", \"2017-01-03T00:00:00\", \"2017-01-04T00:00:00\", \"2017-01-05T00:00:00\", \"2017-01-06T00:00:00\", \"2017-01-09T00:00:00\", \"2017-01-10T00:00:00\", \"2017-01-11T00:00:00\", \"2017-01-12T00:00:00\", \"2017-01-13T00:00:00\", \"2017-01-16T00:00:00\", \"2017-01-17T00:00:00\", \"2017-01-18T00:00:00\", \"2017-01-19T00:00:00\", \"2017-01-20T00:00:00\", \"2017-01-23T00:00:00\", \"2017-01-24T00:00:00\", \"2017-01-26T00:00:00\", \"2017-01-27T00:00:00\", \"2017-01-30T00:00:00\", \"2017-01-31T00:00:00\", \"2017-02-01T00:00:00\", \"2017-02-02T00:00:00\", \"2017-02-03T00:00:00\", \"2017-02-06T00:00:00\", \"2017-02-07T00:00:00\", \"2017-02-08T00:00:00\", \"2017-02-09T00:00:00\", \"2017-02-10T00:00:00\", \"2017-02-13T00:00:00\", \"2017-02-14T00:00:00\", \"2017-02-15T00:00:00\", \"2017-02-16T00:00:00\", \"2017-02-17T00:00:00\", \"2017-02-20T00:00:00\", \"2017-02-21T00:00:00\", \"2017-02-22T00:00:00\", \"2017-02-23T00:00:00\", \"2017-02-24T00:00:00\", \"2017-03-01T00:00:00\", \"2017-03-02T00:00:00\", \"2017-03-03T00:00:00\", \"2017-03-06T00:00:00\", \"2017-03-07T00:00:00\", \"2017-03-08T00:00:00\", \"2017-03-09T00:00:00\", \"2017-03-10T00:00:00\", \"2017-03-13T00:00:00\", \"2017-03-14T00:00:00\", \"2017-03-15T00:00:00\", \"2017-03-16T00:00:00\", \"2017-03-17T00:00:00\", \"2017-03-20T00:00:00\", \"2017-03-21T00:00:00\", \"2017-03-22T00:00:00\", \"2017-03-23T00:00:00\", \"2017-03-24T00:00:00\", \"2017-03-27T00:00:00\", \"2017-03-28T00:00:00\", \"2017-03-29T00:00:00\", \"2017-03-30T00:00:00\", \"2017-03-31T00:00:00\", \"2017-04-03T00:00:00\", \"2017-04-04T00:00:00\", \"2017-04-05T00:00:00\", \"2017-04-06T00:00:00\", \"2017-04-07T00:00:00\", \"2017-04-10T00:00:00\", \"2017-04-11T00:00:00\", \"2017-04-12T00:00:00\", \"2017-04-13T00:00:00\", \"2017-04-17T00:00:00\", \"2017-04-18T00:00:00\", \"2017-04-19T00:00:00\", \"2017-04-20T00:00:00\", \"2017-04-24T00:00:00\", \"2017-04-25T00:00:00\", \"2017-04-26T00:00:00\", \"2017-04-27T00:00:00\", \"2017-04-28T00:00:00\", \"2017-05-02T00:00:00\", \"2017-05-03T00:00:00\", \"2017-05-04T00:00:00\", \"2017-05-05T00:00:00\", \"2017-05-08T00:00:00\", \"2017-05-09T00:00:00\", \"2017-05-10T00:00:00\", \"2017-05-11T00:00:00\", \"2017-05-12T00:00:00\", \"2017-05-15T00:00:00\", \"2017-05-16T00:00:00\", \"2017-05-17T00:00:00\", \"2017-05-18T00:00:00\", \"2017-05-19T00:00:00\", \"2017-05-22T00:00:00\", \"2017-05-23T00:00:00\", \"2017-05-24T00:00:00\", \"2017-05-25T00:00:00\", \"2017-05-26T00:00:00\", \"2017-05-29T00:00:00\", \"2017-05-30T00:00:00\", \"2017-05-31T00:00:00\", \"2017-06-01T00:00:00\", \"2017-06-02T00:00:00\", \"2017-06-05T00:00:00\", \"2017-06-06T00:00:00\", \"2017-06-07T00:00:00\", \"2017-06-08T00:00:00\", \"2017-06-09T00:00:00\", \"2017-06-12T00:00:00\", \"2017-06-13T00:00:00\", \"2017-06-14T00:00:00\", \"2017-06-16T00:00:00\", \"2017-06-19T00:00:00\", \"2017-06-20T00:00:00\", \"2017-06-21T00:00:00\", \"2017-06-22T00:00:00\", \"2017-06-23T00:00:00\", \"2017-06-26T00:00:00\", \"2017-06-27T00:00:00\", \"2017-06-28T00:00:00\", \"2017-06-29T00:00:00\", \"2017-06-30T00:00:00\", \"2017-07-03T00:00:00\", \"2017-07-04T00:00:00\", \"2017-07-05T00:00:00\", \"2017-07-06T00:00:00\", \"2017-07-07T00:00:00\", \"2017-07-10T00:00:00\", \"2017-07-11T00:00:00\", \"2017-07-12T00:00:00\", \"2017-07-13T00:00:00\", \"2017-07-14T00:00:00\", \"2017-07-17T00:00:00\", \"2017-07-18T00:00:00\", \"2017-07-19T00:00:00\", \"2017-07-20T00:00:00\", \"2017-07-21T00:00:00\", \"2017-07-24T00:00:00\", \"2017-07-25T00:00:00\", \"2017-07-26T00:00:00\", \"2017-07-27T00:00:00\", \"2017-07-28T00:00:00\", \"2017-07-31T00:00:00\", \"2017-08-01T00:00:00\", \"2017-08-02T00:00:00\", \"2017-08-03T00:00:00\", \"2017-08-04T00:00:00\", \"2017-08-07T00:00:00\", \"2017-08-08T00:00:00\", \"2017-08-09T00:00:00\", \"2017-08-10T00:00:00\", \"2017-08-11T00:00:00\", \"2017-08-14T00:00:00\", \"2017-08-15T00:00:00\", \"2017-08-16T00:00:00\", \"2017-08-17T00:00:00\", \"2017-08-18T00:00:00\", \"2017-08-21T00:00:00\", \"2017-08-22T00:00:00\", \"2017-08-23T00:00:00\", \"2017-08-24T00:00:00\", \"2017-08-25T00:00:00\", \"2017-08-28T00:00:00\", \"2017-08-29T00:00:00\", \"2017-08-30T00:00:00\", \"2017-08-31T00:00:00\", \"2017-09-01T00:00:00\", \"2017-09-04T00:00:00\", \"2017-09-05T00:00:00\", \"2017-09-06T00:00:00\", \"2017-09-08T00:00:00\", \"2017-09-11T00:00:00\", \"2017-09-12T00:00:00\", \"2017-09-13T00:00:00\", \"2017-09-14T00:00:00\", \"2017-09-15T00:00:00\", \"2017-09-18T00:00:00\", \"2017-09-19T00:00:00\", \"2017-09-20T00:00:00\", \"2017-09-21T00:00:00\", \"2017-09-22T00:00:00\", \"2017-09-25T00:00:00\", \"2017-09-26T00:00:00\", \"2017-09-27T00:00:00\", \"2017-09-28T00:00:00\", \"2017-09-29T00:00:00\", \"2017-10-02T00:00:00\", \"2017-10-03T00:00:00\", \"2017-10-04T00:00:00\", \"2017-10-05T00:00:00\", \"2017-10-06T00:00:00\", \"2017-10-09T00:00:00\", \"2017-10-10T00:00:00\", \"2017-10-11T00:00:00\", \"2017-10-13T00:00:00\", \"2017-10-16T00:00:00\", \"2017-10-17T00:00:00\", \"2017-10-18T00:00:00\", \"2017-10-19T00:00:00\", \"2017-10-20T00:00:00\", \"2017-10-23T00:00:00\", \"2017-10-24T00:00:00\", \"2017-10-25T00:00:00\", \"2017-10-26T00:00:00\", \"2017-10-27T00:00:00\", \"2017-10-30T00:00:00\", \"2017-10-31T00:00:00\", \"2017-11-01T00:00:00\", \"2017-11-03T00:00:00\", \"2017-11-06T00:00:00\", \"2017-11-07T00:00:00\", \"2017-11-08T00:00:00\", \"2017-11-09T00:00:00\", \"2017-11-10T00:00:00\", \"2017-11-13T00:00:00\", \"2017-11-14T00:00:00\", \"2017-11-15T00:00:00\", \"2017-11-16T00:00:00\", \"2017-11-17T00:00:00\", \"2017-11-21T00:00:00\", \"2017-11-22T00:00:00\", \"2017-11-23T00:00:00\", \"2017-11-24T00:00:00\", \"2017-11-27T00:00:00\", \"2017-11-28T00:00:00\", \"2017-11-29T00:00:00\", \"2017-11-30T00:00:00\", \"2017-12-01T00:00:00\", \"2017-12-04T00:00:00\", \"2017-12-05T00:00:00\", \"2017-12-06T00:00:00\", \"2017-12-07T00:00:00\", \"2017-12-08T00:00:00\", \"2017-12-11T00:00:00\", \"2017-12-12T00:00:00\", \"2017-12-13T00:00:00\", \"2017-12-14T00:00:00\", \"2017-12-15T00:00:00\", \"2017-12-18T00:00:00\", \"2017-12-19T00:00:00\", \"2017-12-20T00:00:00\", \"2017-12-21T00:00:00\", \"2017-12-22T00:00:00\", \"2017-12-26T00:00:00\", \"2017-12-27T00:00:00\", \"2017-12-28T00:00:00\", \"2017-12-29T00:00:00\", \"2018-01-02T00:00:00\", \"2018-01-03T00:00:00\", \"2018-01-04T00:00:00\", \"2018-01-05T00:00:00\", \"2018-01-08T00:00:00\", \"2018-01-09T00:00:00\", \"2018-01-10T00:00:00\", \"2018-01-11T00:00:00\", \"2018-01-12T00:00:00\", \"2018-01-15T00:00:00\", \"2018-01-16T00:00:00\", \"2018-01-17T00:00:00\", \"2018-01-18T00:00:00\", \"2018-01-19T00:00:00\", \"2018-01-22T00:00:00\", \"2018-01-23T00:00:00\", \"2018-01-24T00:00:00\", \"2018-01-25T00:00:00\", \"2018-01-26T00:00:00\", \"2018-01-29T00:00:00\", \"2018-01-30T00:00:00\", \"2018-01-31T00:00:00\", \"2018-02-01T00:00:00\", \"2018-02-02T00:00:00\", \"2018-02-05T00:00:00\", \"2018-02-06T00:00:00\", \"2018-02-07T00:00:00\", \"2018-02-08T00:00:00\", \"2018-02-09T00:00:00\", \"2018-02-15T00:00:00\", \"2018-02-16T00:00:00\", \"2018-02-19T00:00:00\", \"2018-02-20T00:00:00\", \"2018-02-21T00:00:00\", \"2018-02-22T00:00:00\", \"2018-02-23T00:00:00\", \"2018-02-26T00:00:00\", \"2018-02-27T00:00:00\", \"2018-02-28T00:00:00\", \"2018-03-01T00:00:00\", \"2018-03-02T00:00:00\", \"2018-03-05T00:00:00\", \"2018-03-06T00:00:00\", \"2018-03-07T00:00:00\", \"2018-03-08T00:00:00\", \"2018-03-09T00:00:00\", \"2018-03-12T00:00:00\", \"2018-03-13T00:00:00\", \"2018-03-14T00:00:00\", \"2018-03-15T00:00:00\", \"2018-03-16T00:00:00\", \"2018-03-19T00:00:00\", \"2018-03-20T00:00:00\", \"2018-03-21T00:00:00\", \"2018-03-22T00:00:00\", \"2018-03-23T00:00:00\", \"2018-03-26T00:00:00\", \"2018-03-27T00:00:00\", \"2018-03-28T00:00:00\", \"2018-03-29T00:00:00\", \"2018-04-02T00:00:00\", \"2018-04-03T00:00:00\", \"2018-04-04T00:00:00\", \"2018-04-05T00:00:00\", \"2018-04-06T00:00:00\", \"2018-04-09T00:00:00\", \"2018-04-10T00:00:00\", \"2018-04-11T00:00:00\", \"2018-04-12T00:00:00\", \"2018-04-13T00:00:00\", \"2018-04-16T00:00:00\", \"2018-04-17T00:00:00\", \"2018-04-18T00:00:00\", \"2018-04-19T00:00:00\", \"2018-04-20T00:00:00\", \"2018-04-23T00:00:00\", \"2018-04-24T00:00:00\", \"2018-04-25T00:00:00\", \"2018-04-26T00:00:00\", \"2018-04-27T00:00:00\", \"2018-04-30T00:00:00\", \"2018-05-02T00:00:00\", \"2018-05-03T00:00:00\", \"2018-05-04T00:00:00\", \"2018-05-07T00:00:00\", \"2018-05-08T00:00:00\", \"2018-05-09T00:00:00\", \"2018-05-10T00:00:00\", \"2018-05-11T00:00:00\", \"2018-05-14T00:00:00\", \"2018-05-15T00:00:00\", \"2018-05-16T00:00:00\", \"2018-05-17T00:00:00\", \"2018-05-18T00:00:00\", \"2018-05-21T00:00:00\", \"2018-05-22T00:00:00\", \"2018-05-23T00:00:00\", \"2018-05-24T00:00:00\", \"2018-05-25T00:00:00\", \"2018-05-28T00:00:00\", \"2018-05-29T00:00:00\", \"2018-05-30T00:00:00\", \"2018-06-01T00:00:00\", \"2018-06-04T00:00:00\", \"2018-06-05T00:00:00\", \"2018-06-06T00:00:00\", \"2018-06-07T00:00:00\", \"2018-06-08T00:00:00\", \"2018-06-11T00:00:00\", \"2018-06-12T00:00:00\", \"2018-06-13T00:00:00\", \"2018-06-14T00:00:00\", \"2018-06-15T00:00:00\", \"2018-06-18T00:00:00\", \"2018-06-19T00:00:00\", \"2018-06-20T00:00:00\", \"2018-06-21T00:00:00\", \"2018-06-22T00:00:00\", \"2018-06-25T00:00:00\", \"2018-06-26T00:00:00\", \"2018-06-27T00:00:00\", \"2018-06-28T00:00:00\", \"2018-06-29T00:00:00\", \"2018-07-02T00:00:00\", \"2018-07-03T00:00:00\", \"2018-07-04T00:00:00\", \"2018-07-05T00:00:00\", \"2018-07-06T00:00:00\", \"2018-07-10T00:00:00\", \"2018-07-11T00:00:00\", \"2018-07-12T00:00:00\", \"2018-07-13T00:00:00\", \"2018-07-16T00:00:00\", \"2018-07-17T00:00:00\", \"2018-07-18T00:00:00\", \"2018-07-19T00:00:00\", \"2018-07-20T00:00:00\", \"2018-07-23T00:00:00\", \"2018-07-24T00:00:00\", \"2018-07-25T00:00:00\", \"2018-07-26T00:00:00\", \"2018-07-27T00:00:00\", \"2018-07-30T00:00:00\", \"2018-07-31T00:00:00\", \"2018-08-01T00:00:00\", \"2018-08-02T00:00:00\", \"2018-08-03T00:00:00\", \"2018-08-06T00:00:00\", \"2018-08-07T00:00:00\", \"2018-08-08T00:00:00\", \"2018-08-09T00:00:00\", \"2018-08-10T00:00:00\", \"2018-08-13T00:00:00\", \"2018-08-14T00:00:00\", \"2018-08-15T00:00:00\", \"2018-08-16T00:00:00\", \"2018-08-17T00:00:00\", \"2018-08-20T00:00:00\", \"2018-08-21T00:00:00\", \"2018-08-22T00:00:00\", \"2018-08-23T00:00:00\", \"2018-08-24T00:00:00\", \"2018-08-27T00:00:00\", \"2018-08-28T00:00:00\", \"2018-08-29T00:00:00\", \"2018-08-30T00:00:00\", \"2018-08-31T00:00:00\", \"2018-09-03T00:00:00\", \"2018-09-04T00:00:00\", \"2018-09-05T00:00:00\", \"2018-09-06T00:00:00\", \"2018-09-10T00:00:00\", \"2018-09-11T00:00:00\", \"2018-09-12T00:00:00\", \"2018-09-13T00:00:00\", \"2018-09-14T00:00:00\", \"2018-09-17T00:00:00\", \"2018-09-18T00:00:00\", \"2018-09-19T00:00:00\", \"2018-09-20T00:00:00\", \"2018-09-21T00:00:00\", \"2018-09-24T00:00:00\", \"2018-09-25T00:00:00\", \"2018-09-26T00:00:00\", \"2018-09-27T00:00:00\", \"2018-09-28T00:00:00\", \"2018-10-01T00:00:00\", \"2018-10-02T00:00:00\", \"2018-10-03T00:00:00\", \"2018-10-04T00:00:00\", \"2018-10-05T00:00:00\", \"2018-10-08T00:00:00\", \"2018-10-09T00:00:00\", \"2018-10-10T00:00:00\", \"2018-10-11T00:00:00\", \"2018-10-15T00:00:00\", \"2018-10-16T00:00:00\", \"2018-10-17T00:00:00\", \"2018-10-18T00:00:00\", \"2018-10-19T00:00:00\", \"2018-10-22T00:00:00\", \"2018-10-23T00:00:00\", \"2018-10-24T00:00:00\", \"2018-10-25T00:00:00\", \"2018-10-26T00:00:00\", \"2018-10-29T00:00:00\", \"2018-10-30T00:00:00\", \"2018-10-31T00:00:00\", \"2018-11-01T00:00:00\", \"2018-11-05T00:00:00\", \"2018-11-06T00:00:00\", \"2018-11-07T00:00:00\", \"2018-11-08T00:00:00\", \"2018-11-09T00:00:00\", \"2018-11-12T00:00:00\", \"2018-11-13T00:00:00\", \"2018-11-14T00:00:00\", \"2018-11-16T00:00:00\", \"2018-11-19T00:00:00\", \"2018-11-21T00:00:00\", \"2018-11-22T00:00:00\", \"2018-11-23T00:00:00\", \"2018-11-26T00:00:00\", \"2018-11-27T00:00:00\", \"2018-11-28T00:00:00\", \"2018-11-29T00:00:00\", \"2018-11-30T00:00:00\", \"2018-12-03T00:00:00\", \"2018-12-04T00:00:00\", \"2018-12-05T00:00:00\", \"2018-12-06T00:00:00\", \"2018-12-07T00:00:00\", \"2018-12-10T00:00:00\", \"2018-12-11T00:00:00\", \"2018-12-12T00:00:00\", \"2018-12-13T00:00:00\", \"2018-12-14T00:00:00\", \"2018-12-17T00:00:00\", \"2018-12-18T00:00:00\", \"2018-12-19T00:00:00\", \"2018-12-20T00:00:00\", \"2018-12-21T00:00:00\", \"2018-12-26T00:00:00\", \"2018-12-27T00:00:00\", \"2018-12-28T00:00:00\", \"2019-01-02T00:00:00\", \"2019-01-03T00:00:00\", \"2019-01-04T00:00:00\", \"2019-01-07T00:00:00\", \"2019-01-08T00:00:00\", \"2019-01-09T00:00:00\", \"2019-01-10T00:00:00\", \"2019-01-11T00:00:00\", \"2019-01-14T00:00:00\", \"2019-01-15T00:00:00\", \"2019-01-16T00:00:00\", \"2019-01-17T00:00:00\", \"2019-01-18T00:00:00\", \"2019-01-21T00:00:00\", \"2019-01-22T00:00:00\", \"2019-01-23T00:00:00\", \"2019-01-24T00:00:00\", \"2019-01-28T00:00:00\", \"2019-01-29T00:00:00\", \"2019-01-30T00:00:00\", \"2019-01-31T00:00:00\", \"2019-02-01T00:00:00\", \"2019-02-04T00:00:00\", \"2019-02-05T00:00:00\", \"2019-02-06T00:00:00\", \"2019-02-07T00:00:00\", \"2019-02-08T00:00:00\", \"2019-02-11T00:00:00\", \"2019-02-12T00:00:00\", \"2019-02-13T00:00:00\", \"2019-02-14T00:00:00\", \"2019-02-15T00:00:00\", \"2019-02-18T00:00:00\", \"2019-02-19T00:00:00\", \"2019-02-20T00:00:00\", \"2019-02-21T00:00:00\", \"2019-02-22T00:00:00\", \"2019-02-25T00:00:00\", \"2019-02-26T00:00:00\", \"2019-02-27T00:00:00\", \"2019-02-28T00:00:00\", \"2019-03-01T00:00:00\", \"2019-03-07T00:00:00\", \"2019-03-08T00:00:00\", \"2019-03-11T00:00:00\", \"2019-03-12T00:00:00\", \"2019-03-13T00:00:00\", \"2019-03-14T00:00:00\", \"2019-03-15T00:00:00\", \"2019-03-18T00:00:00\", \"2019-03-19T00:00:00\", \"2019-03-20T00:00:00\", \"2019-03-21T00:00:00\", \"2019-03-22T00:00:00\", \"2019-03-25T00:00:00\", \"2019-03-26T00:00:00\", \"2019-03-27T00:00:00\", \"2019-03-28T00:00:00\", \"2019-03-29T00:00:00\", \"2019-04-01T00:00:00\", \"2019-04-02T00:00:00\", \"2019-04-03T00:00:00\", \"2019-04-04T00:00:00\", \"2019-04-05T00:00:00\", \"2019-04-08T00:00:00\", \"2019-04-09T00:00:00\", \"2019-04-10T00:00:00\", \"2019-04-11T00:00:00\", \"2019-04-12T00:00:00\", \"2019-04-15T00:00:00\", \"2019-04-16T00:00:00\", \"2019-04-17T00:00:00\", \"2019-04-18T00:00:00\", \"2019-04-22T00:00:00\", \"2019-04-23T00:00:00\", \"2019-04-24T00:00:00\", \"2019-04-25T00:00:00\", \"2019-04-26T00:00:00\", \"2019-04-29T00:00:00\", \"2019-04-30T00:00:00\", \"2019-05-02T00:00:00\", \"2019-05-03T00:00:00\", \"2019-05-06T00:00:00\", \"2019-05-07T00:00:00\", \"2019-05-08T00:00:00\", \"2019-05-09T00:00:00\", \"2019-05-10T00:00:00\", \"2019-05-13T00:00:00\", \"2019-05-14T00:00:00\", \"2019-05-15T00:00:00\", \"2019-05-16T00:00:00\", \"2019-05-17T00:00:00\", \"2019-05-20T00:00:00\", \"2019-05-21T00:00:00\", \"2019-05-22T00:00:00\", \"2019-05-23T00:00:00\", \"2019-05-24T00:00:00\", \"2019-05-27T00:00:00\", \"2019-05-28T00:00:00\", \"2019-05-29T00:00:00\", \"2019-05-30T00:00:00\", \"2019-05-31T00:00:00\", \"2019-06-03T00:00:00\", \"2019-06-04T00:00:00\", \"2019-06-05T00:00:00\", \"2019-06-06T00:00:00\", \"2019-06-07T00:00:00\", \"2019-06-10T00:00:00\", \"2019-06-11T00:00:00\", \"2019-06-12T00:00:00\", \"2019-06-13T00:00:00\", \"2019-06-14T00:00:00\", \"2019-06-17T00:00:00\", \"2019-06-18T00:00:00\", \"2019-06-19T00:00:00\", \"2019-06-21T00:00:00\", \"2019-06-24T00:00:00\", \"2019-06-25T00:00:00\", \"2019-06-26T00:00:00\", \"2019-06-27T00:00:00\", \"2019-06-28T00:00:00\", \"2019-07-01T00:00:00\", \"2019-07-02T00:00:00\", \"2019-07-03T00:00:00\", \"2019-07-04T00:00:00\", \"2019-07-05T00:00:00\", \"2019-07-08T00:00:00\", \"2019-07-10T00:00:00\", \"2019-07-11T00:00:00\", \"2019-07-12T00:00:00\", \"2019-07-15T00:00:00\", \"2019-07-16T00:00:00\", \"2019-07-17T00:00:00\", \"2019-07-18T00:00:00\", \"2019-07-19T00:00:00\", \"2019-07-22T00:00:00\", \"2019-07-23T00:00:00\", \"2019-07-24T00:00:00\", \"2019-07-25T00:00:00\", \"2019-07-26T00:00:00\", \"2019-07-29T00:00:00\", \"2019-07-30T00:00:00\", \"2019-07-31T00:00:00\", \"2019-08-01T00:00:00\", \"2019-08-02T00:00:00\", \"2019-08-05T00:00:00\", \"2019-08-06T00:00:00\", \"2019-08-07T00:00:00\", \"2019-08-08T00:00:00\", \"2019-08-09T00:00:00\", \"2019-08-12T00:00:00\", \"2019-08-13T00:00:00\", \"2019-08-14T00:00:00\", \"2019-08-15T00:00:00\", \"2019-08-16T00:00:00\", \"2019-08-19T00:00:00\", \"2019-08-20T00:00:00\", \"2019-08-21T00:00:00\", \"2019-08-22T00:00:00\", \"2019-08-23T00:00:00\", \"2019-08-26T00:00:00\", \"2019-08-27T00:00:00\", \"2019-08-28T00:00:00\", \"2019-08-29T00:00:00\", \"2019-08-30T00:00:00\", \"2019-09-02T00:00:00\", \"2019-09-03T00:00:00\", \"2019-09-04T00:00:00\", \"2019-09-05T00:00:00\", \"2019-09-06T00:00:00\", \"2019-09-09T00:00:00\", \"2019-09-10T00:00:00\", \"2019-09-11T00:00:00\", \"2019-09-12T00:00:00\", \"2019-09-13T00:00:00\", \"2019-09-16T00:00:00\", \"2019-09-17T00:00:00\", \"2019-09-18T00:00:00\", \"2019-09-19T00:00:00\", \"2019-09-20T00:00:00\", \"2019-09-23T00:00:00\", \"2019-09-24T00:00:00\", \"2019-09-25T00:00:00\", \"2019-09-26T00:00:00\", \"2019-09-27T00:00:00\", \"2019-09-30T00:00:00\", \"2019-10-01T00:00:00\", \"2019-10-02T00:00:00\", \"2019-10-03T00:00:00\", \"2019-10-04T00:00:00\", \"2019-10-07T00:00:00\", \"2019-10-08T00:00:00\", \"2019-10-09T00:00:00\", \"2019-10-10T00:00:00\", \"2019-10-11T00:00:00\", \"2019-10-14T00:00:00\", \"2019-10-15T00:00:00\", \"2019-10-16T00:00:00\", \"2019-10-17T00:00:00\", \"2019-10-18T00:00:00\", \"2019-10-21T00:00:00\", \"2019-10-22T00:00:00\", \"2019-10-23T00:00:00\", \"2019-10-24T00:00:00\", \"2019-10-25T00:00:00\", \"2019-10-28T00:00:00\", \"2019-10-29T00:00:00\", \"2019-10-30T00:00:00\", \"2019-10-31T00:00:00\", \"2019-11-01T00:00:00\", \"2019-11-04T00:00:00\", \"2019-11-05T00:00:00\", \"2019-11-06T00:00:00\", \"2019-11-07T00:00:00\", \"2019-11-08T00:00:00\", \"2019-11-11T00:00:00\", \"2019-11-12T00:00:00\", \"2019-11-13T00:00:00\", \"2019-11-14T00:00:00\", \"2019-11-18T00:00:00\", \"2019-11-19T00:00:00\", \"2019-11-21T00:00:00\", \"2019-11-22T00:00:00\", \"2019-11-25T00:00:00\", \"2019-11-26T00:00:00\", \"2019-11-27T00:00:00\", \"2019-11-28T00:00:00\", \"2019-11-29T00:00:00\", \"2019-12-02T00:00:00\", \"2019-12-03T00:00:00\", \"2019-12-04T00:00:00\", \"2019-12-05T00:00:00\", \"2019-12-06T00:00:00\", \"2019-12-09T00:00:00\", \"2019-12-10T00:00:00\", \"2019-12-11T00:00:00\", \"2019-12-12T00:00:00\", \"2019-12-13T00:00:00\", \"2019-12-16T00:00:00\", \"2019-12-17T00:00:00\", \"2019-12-18T00:00:00\", \"2019-12-19T00:00:00\", \"2019-12-20T00:00:00\", \"2019-12-23T00:00:00\", \"2019-12-26T00:00:00\", \"2019-12-27T00:00:00\", \"2019-12-30T00:00:00\", \"2020-01-02T00:00:00\", \"2020-01-03T00:00:00\", \"2020-01-06T00:00:00\", \"2020-01-07T00:00:00\", \"2020-01-08T00:00:00\", \"2020-01-09T00:00:00\", \"2020-01-10T00:00:00\", \"2020-01-13T00:00:00\", \"2020-01-14T00:00:00\", \"2020-01-15T00:00:00\", \"2020-01-16T00:00:00\", \"2020-01-17T00:00:00\", \"2020-01-20T00:00:00\", \"2020-01-21T00:00:00\", \"2020-01-22T00:00:00\", \"2020-01-23T00:00:00\", \"2020-01-24T00:00:00\", \"2020-01-27T00:00:00\", \"2020-01-28T00:00:00\", \"2020-01-29T00:00:00\", \"2020-01-30T00:00:00\", \"2020-01-31T00:00:00\", \"2020-02-03T00:00:00\", \"2020-02-04T00:00:00\", \"2020-02-05T00:00:00\", \"2020-02-06T00:00:00\", \"2020-02-07T00:00:00\", \"2020-02-10T00:00:00\", \"2020-02-11T00:00:00\", \"2020-02-12T00:00:00\", \"2020-02-13T00:00:00\", \"2020-02-14T00:00:00\", \"2020-02-17T00:00:00\", \"2020-02-18T00:00:00\", \"2020-02-19T00:00:00\", \"2020-02-20T00:00:00\", \"2020-02-21T00:00:00\", \"2020-02-27T00:00:00\", \"2020-02-28T00:00:00\", \"2020-03-02T00:00:00\", \"2020-03-03T00:00:00\", \"2020-03-04T00:00:00\", \"2020-03-05T00:00:00\", \"2020-03-06T00:00:00\", \"2020-03-09T00:00:00\", \"2020-03-10T00:00:00\", \"2020-03-11T00:00:00\", \"2020-03-12T00:00:00\", \"2020-03-13T00:00:00\", \"2020-03-16T00:00:00\", \"2020-03-17T00:00:00\", \"2020-03-18T00:00:00\", \"2020-03-19T00:00:00\", \"2020-03-20T00:00:00\", \"2020-03-23T00:00:00\", \"2020-03-24T00:00:00\", \"2020-03-25T00:00:00\", \"2020-03-26T00:00:00\", \"2020-03-27T00:00:00\", \"2020-03-30T00:00:00\", \"2020-03-31T00:00:00\", \"2020-04-01T00:00:00\", \"2020-04-02T00:00:00\", \"2020-04-03T00:00:00\", \"2020-04-06T00:00:00\", \"2020-04-07T00:00:00\", \"2020-04-08T00:00:00\", \"2020-04-09T00:00:00\", \"2020-04-13T00:00:00\", \"2020-04-14T00:00:00\", \"2020-04-15T00:00:00\", \"2020-04-16T00:00:00\", \"2020-04-17T00:00:00\", \"2020-04-20T00:00:00\", \"2020-04-22T00:00:00\", \"2020-04-23T00:00:00\", \"2020-04-24T00:00:00\", \"2020-04-27T00:00:00\", \"2020-04-28T00:00:00\", \"2020-04-29T00:00:00\", \"2020-04-30T00:00:00\", \"2020-05-04T00:00:00\", \"2020-05-05T00:00:00\", \"2020-05-06T00:00:00\", \"2020-05-07T00:00:00\", \"2020-05-08T00:00:00\", \"2020-05-11T00:00:00\", \"2020-05-12T00:00:00\", \"2020-05-13T00:00:00\", \"2020-05-14T00:00:00\", \"2020-05-15T00:00:00\", \"2020-05-18T00:00:00\", \"2020-05-19T00:00:00\", \"2020-05-20T00:00:00\", \"2020-05-21T00:00:00\", \"2020-05-22T00:00:00\", \"2020-05-25T00:00:00\", \"2020-05-26T00:00:00\", \"2020-05-27T00:00:00\", \"2020-05-28T00:00:00\", \"2020-05-29T00:00:00\", \"2020-06-01T00:00:00\", \"2020-06-02T00:00:00\", \"2020-06-03T00:00:00\", \"2020-06-04T00:00:00\", \"2020-06-05T00:00:00\", \"2020-06-08T00:00:00\", \"2020-06-09T00:00:00\", \"2020-06-10T00:00:00\", \"2020-06-12T00:00:00\", \"2020-06-15T00:00:00\", \"2020-06-16T00:00:00\", \"2020-06-17T00:00:00\", \"2020-06-18T00:00:00\", \"2020-06-19T00:00:00\", \"2020-06-22T00:00:00\", \"2020-06-23T00:00:00\", \"2020-06-24T00:00:00\", \"2020-06-25T00:00:00\", \"2020-06-26T00:00:00\", \"2020-06-29T00:00:00\", \"2020-06-30T00:00:00\", \"2020-07-01T00:00:00\", \"2020-07-02T00:00:00\", \"2020-07-03T00:00:00\", \"2020-07-06T00:00:00\", \"2020-07-07T00:00:00\", \"2020-07-08T00:00:00\", \"2020-07-09T00:00:00\", \"2020-07-10T00:00:00\", \"2020-07-13T00:00:00\", \"2020-07-14T00:00:00\", \"2020-07-15T00:00:00\", \"2020-07-16T00:00:00\", \"2020-07-17T00:00:00\", \"2020-07-20T00:00:00\", \"2020-07-21T00:00:00\", \"2020-07-22T00:00:00\", \"2020-07-23T00:00:00\", \"2020-07-24T00:00:00\", \"2020-07-27T00:00:00\", \"2020-07-28T00:00:00\", \"2020-07-29T00:00:00\", \"2020-07-30T00:00:00\", \"2020-07-31T00:00:00\", \"2020-08-03T00:00:00\", \"2020-08-04T00:00:00\", \"2020-08-05T00:00:00\", \"2020-08-06T00:00:00\", \"2020-08-07T00:00:00\", \"2020-08-10T00:00:00\", \"2020-08-11T00:00:00\", \"2020-08-12T00:00:00\", \"2020-08-13T00:00:00\", \"2020-08-14T00:00:00\", \"2020-08-17T00:00:00\", \"2020-08-18T00:00:00\", \"2020-08-19T00:00:00\", \"2020-08-20T00:00:00\", \"2020-08-21T00:00:00\", \"2020-08-24T00:00:00\", \"2020-08-25T00:00:00\", \"2020-08-26T00:00:00\", \"2020-08-27T00:00:00\", \"2020-08-28T00:00:00\", \"2020-08-31T00:00:00\", \"2020-09-01T00:00:00\", \"2020-09-02T00:00:00\", \"2020-09-03T00:00:00\", \"2020-09-04T00:00:00\", \"2020-09-08T00:00:00\", \"2020-09-09T00:00:00\", \"2020-09-10T00:00:00\", \"2020-09-11T00:00:00\", \"2020-09-14T00:00:00\", \"2020-09-15T00:00:00\", \"2020-09-16T00:00:00\", \"2020-09-17T00:00:00\", \"2020-09-18T00:00:00\", \"2020-09-21T00:00:00\", \"2020-09-22T00:00:00\", \"2020-09-23T00:00:00\", \"2020-09-24T00:00:00\", \"2020-09-25T00:00:00\", \"2020-09-28T00:00:00\", \"2020-09-29T00:00:00\", \"2020-09-30T00:00:00\", \"2020-10-01T00:00:00\", \"2020-10-02T00:00:00\", \"2020-10-05T00:00:00\", \"2020-10-06T00:00:00\", \"2020-10-07T00:00:00\", \"2020-10-08T00:00:00\", \"2020-10-09T00:00:00\", \"2020-10-13T00:00:00\", \"2020-10-14T00:00:00\", \"2020-10-15T00:00:00\", \"2020-10-16T00:00:00\", \"2020-10-19T00:00:00\", \"2020-10-20T00:00:00\", \"2020-10-21T00:00:00\", \"2020-10-22T00:00:00\", \"2020-10-23T00:00:00\", \"2020-10-26T00:00:00\", \"2020-10-27T00:00:00\", \"2020-10-28T00:00:00\", \"2020-10-29T00:00:00\", \"2020-10-30T00:00:00\", \"2020-11-03T00:00:00\", \"2020-11-04T00:00:00\", \"2020-11-05T00:00:00\", \"2020-11-06T00:00:00\", \"2020-11-09T00:00:00\", \"2020-11-10T00:00:00\", \"2020-11-11T00:00:00\", \"2020-11-12T00:00:00\", \"2020-11-13T00:00:00\", \"2020-11-16T00:00:00\", \"2020-11-17T00:00:00\", \"2020-11-18T00:00:00\", \"2020-11-19T00:00:00\", \"2020-11-23T00:00:00\", \"2020-11-24T00:00:00\", \"2020-11-25T00:00:00\", \"2020-11-26T00:00:00\", \"2020-11-27T00:00:00\", \"2020-11-30T00:00:00\", \"2020-12-01T00:00:00\", \"2020-12-02T00:00:00\", \"2020-12-03T00:00:00\", \"2020-12-04T00:00:00\", \"2020-12-07T00:00:00\", \"2020-12-08T00:00:00\", \"2020-12-09T00:00:00\", \"2020-12-10T00:00:00\", \"2020-12-11T00:00:00\", \"2020-12-14T00:00:00\", \"2020-12-15T00:00:00\", \"2020-12-16T00:00:00\", \"2020-12-17T00:00:00\", \"2020-12-18T00:00:00\", \"2020-12-21T00:00:00\", \"2020-12-22T00:00:00\", \"2020-12-23T00:00:00\", \"2020-12-28T00:00:00\", \"2020-12-29T00:00:00\", \"2020-12-30T00:00:00\", \"2021-01-04T00:00:00\", \"2021-01-05T00:00:00\", \"2021-01-06T00:00:00\", \"2021-01-07T00:00:00\", \"2021-01-08T00:00:00\", \"2021-01-11T00:00:00\", \"2021-01-12T00:00:00\", \"2021-01-13T00:00:00\", \"2021-01-14T00:00:00\", \"2021-01-15T00:00:00\", \"2021-01-18T00:00:00\", \"2021-01-19T00:00:00\", \"2021-01-20T00:00:00\", \"2021-01-21T00:00:00\", \"2021-01-22T00:00:00\", \"2021-01-26T00:00:00\", \"2021-01-27T00:00:00\", \"2021-01-28T00:00:00\", \"2021-01-29T00:00:00\", \"2021-02-01T00:00:00\", \"2021-02-02T00:00:00\", \"2021-02-03T00:00:00\", \"2021-02-04T00:00:00\", \"2021-02-05T00:00:00\", \"2021-02-08T00:00:00\", \"2021-02-09T00:00:00\", \"2021-02-10T00:00:00\", \"2021-02-11T00:00:00\", \"2021-02-12T00:00:00\", \"2021-02-18T00:00:00\", \"2021-02-19T00:00:00\", \"2021-02-22T00:00:00\", \"2021-02-23T00:00:00\", \"2021-02-24T00:00:00\", \"2021-02-25T00:00:00\", \"2021-02-26T00:00:00\", \"2021-03-01T00:00:00\", \"2021-03-02T00:00:00\", \"2021-03-03T00:00:00\", \"2021-03-04T00:00:00\"], \"y\": [0.5478035558909363, 0.5672435300187112, 0.5660998390686, 0.5655280320938793, 0.5672435300187112, 0.5695306039162541, 0.5701024878916446, 0.5735327137346095, 0.5741046747106701, 0.5964031447073589, 0.5889704240426891, 0.5821094333520701, 0.5883988480699781, 0.5883988480699781, 0.6404292787347249, 0.598118565631521, 0.5975469126581402, 0.6112693560433976, 0.6112693560433976, 0.6141280829143213, 0.6284221792729597, 0.6570104489909062, 0.6398573947593343, 0.6798809569643255, 0.677022153092732, 0.6610126358099314, 0.6655867836050174, 0.6655867836050174, 0.6032645204013275, 0.5912572669382224, 0.5941163788124956, 0.6026928674279467, 0.5769635555829334, 0.5769635555829334, 0.5769635555829334, 0.5826808553234414, 0.5815373953753397, 0.5741046747106701, 0.5792506294804766, 0.5769635555829334, 0.5695306039162541, 0.5620975752489047, 0.555236353556276, 0.5666718000446603, 0.5666718000446603, 0.5603823083260825, 0.5598107323533715, 0.5609540383001331, 0.5438011380699012, 0.5432292540945106, 0.5598107323533715, 0.5598107323533715, 0.5512342437379204, 0.5346531504824091, 0.5655280320938793, 0.5735327137346095, 0.5861116201710955, 0.5861116201710955, 0.6032645204013275, 0.5998342175576928, 0.6335679030407565, 0.6112693560433976, 0.598118565631521, 0.619273960683458, 0.6015493304791751, 0.6084103981704642, 0.5964031447073589, 0.5701024878916446, 0.5472319029175553, 0.5649565331218381, 0.5540929706088443, 0.5558082375316665, 0.5573608790396477, 0.5613748469611685, 0.5917673193756786, 0.5866063494752404, 0.5734172127297507, 0.5734172127297507, 0.5499062901847246, 0.5711232087719164, 0.572843788740962, 0.5671093178510652, 0.5739907137192094, 0.6118374669859629, 0.6003688332088489, 0.6089705010433591, 0.6055300341112967, 0.5929144753559356, 0.5934874373407047, 0.6147048949325858, 0.5992221392326113, 0.6124111219767611, 0.6089705010433591, 0.6118374669859629, 0.5963545572846484, 0.5894735464198538, 0.5716968637627148, 0.5745639067059883, 0.5694032448082299, 0.5596548059968122, 0.5596548059968122, 0.5573608790396477, 0.5745639067059883, 0.5630954269302143, 0.5344233804834101, 0.5143530788717862, 0.5040312160715797, 0.49256258229446603, 0.476506171603693, 0.48682788040255953, 0.46618438580415644, 0.48568118642632185, 0.48052006252454393, 0.4512746690896211, 0.4398062663145169, 0.4031059760219914, 0.3709935396437949, 0.39966550908992904, 0.4208827356798004, 0.45242182506987805, 0.4535688270487953, 0.4334983714358315, 0.39679823514464574, 0.39049041726663014, 0.3927841902224549, 0.4208827356798004, 0.40769352193364083, 0.40597332696794464, 0.42317635463428527, 0.39106407225742856, 0.4025325520332027, 0.40597332696794464, 0.41686845975559983, 0.43120452147933686, 0.430631174491218, 0.4340715644226104, 0.430631174491218, 0.44267330925779047, 0.4650373838252392, 0.4650373838252392, 0.46389061284833166, 0.4713452787039246, 0.46561080781402786, 0.4684783127613209, 0.4621701868806257, 0.4570093709815276, 0.4484077031470174, 0.42661689856701746, 0.42547028159144984, 0.45242182506987805, 0.4334983714358315, 0.4535688270487953, 0.43579199039031635, 0.4151481877892337, 0.410560872879594, 0.43865926433559965, 0.4197358107015531, 0.4082669459224295, 0.41686845975559983, 0.4248966266006514, 0.4248966266006514, 0.4134279928235375, 0.42547028159144984, 0.43923268832438833, 0.4340715644226104, 0.43693891536856366, 0.430631174491218, 0.436365491379775, 0.4484077031470174, 0.46331726586021305, 0.48224064249358956, 0.47363897465907956, 0.4839607604586159, 0.49428262325882233, 0.49428262325882233, 0.4713452787039246, 0.46733131078240386, 0.5114859589278425, 0.5223812457168376, 0.4914155803155488, 0.48969515434784283, 0.4965765502159868, 0.48281406648237846, 0.4776530195812704, 0.49254833717053337, 0.47288652411275967, 0.508039331942188, 0.5086353941279288, 0.4883775958850841, 0.5032729904750172, 0.5026771592912859, 0.5056560072072628, 0.5134017355950996, 0.5169764916954777, 0.5193596624290632, 0.5110183338595046, 0.4961230162702416, 0.48599450215216866, 0.4967190784559826, 0.4985063410051668, 0.5086353941279288, 0.5390216294881766, 0.5348506572007176, 0.5437879709553474, 0.5533208848916985, 0.556300040810355, 0.5491502206069193, 0.5509375601567733, 0.5491502206069193, 0.5199554166121244, 0.5354464883844489, 0.5116142420439057, 0.4871860875189614, 0.4937399225373261, 0.49076061261732973, 0.49195265998814197, 0.4961230162702416, 0.5056560072072628, 0.4996980033726294, 0.5288928843680939, 0.5324674864671323, 0.526509405631829, 0.5402130608536294, 0.5503418059737119, 0.5545125472591611, 0.5414046462204222, 0.5443838021390787, 0.5414046462204222, 0.5205513247965258, 0.4853985169670977, 0.4794404361317942, 0.4877818417020229, 0.4764613572138078, 0.49254833717053337, 0.4812279296829881, 0.4573955293411053, 0.45203320268886327, 0.44726663021968294, 0.4484584465884852, 0.46037445425775203, 0.45203320268886327, 0.49910232619023776, 0.4806320984992568, 0.4818236068653797, 0.47288652411275967, 0.4871860875189614, 0.49791066382277516, 0.4764613572138078, 0.47109910756223583, 0.45799128352416674, 0.4466709530372913, 0.44011696401758693, 0.40436847900576733, 0.4144972241258499, 0.3990062293541954, 0.3984102441691243, 0.3996020605379267, 0.4180721342275677, 0.422242875513017, 0.4282009563483202, 0.422242875513017, 0.4317756354480283, 0.4121139763915945, 0.39245231733516084, 0.39364382570128353, 0.38768582186665024, 0.37755699974589774, 0.36087434260678064, 0.36504492989089, 0.3346586175299725, 0.36027851142304934, 0.3340627863462412, 0.3531287682202835, 0.3567034473199916, 0.3382334506310205, 0.35074552048602825, 0.3567034473199916, 0.350149612301627, 0.368619762991938, 0.3763652603777653, 0.34121252954900705, 0.36027851142304934, 0.368619762991938, 0.34657485620124895, 0.3596826032386481, 0.36564083807529124, 0.3972185818016617, 0.4282009563483202, 0.3972185818016617, 0.40615581855562144, 0.4460750448528902, 0.40794331210681534, 0.3823234182137384, 0.40317681663830474, 0.40436847900576733, 0.3984102441691243, 0.3966229046192702, 0.40377264782203603, 0.44011696401758693, 0.44011696401758693, 0.42522180042966373, 0.4228383986940686, 0.4430960429355736, 0.44488330548475774, 0.4407127182006484, 0.45799128352416674, 0.47050327637850453, 0.4770571883975391, 0.44905412377087683, 0.4639495953614795, 0.4818236068653797, 0.4466709530372913, 0.44011696401758693, 0.4567997751580438, 0.475269771847015, 0.4639495953614795, 0.4967190784559826, 0.4812279296829881, 0.4633534561750686, 0.4852973380868414, 0.500242013105514, 0.5080133827164296, 0.49844874450407717, 0.5038289353117372, 0.49127520809431047, 0.49844874450407717, 0.4829060052822459, 0.48230840308310674, 0.5110024717215039, 0.5169804187296428, 0.5008397693059928, 0.5074154725146108, 0.5062201911156626, 0.5092089721180574, 0.5211649431350053, 0.516382662529164, 0.5139913297245685, 0.5193713665308889, 0.5289362357452511, 0.5032310251099185, 0.49426406609737505, 0.5110024717215039, 0.5199692767327077, 0.500242013105514, 0.5139913297245685, 0.49127520809431047, 0.49247079749593825, 0.4972531551024494, 0.49007938769067294, 0.488883875289715, 0.500242013105514, 0.5074154725146108, 0.49605748870015176, 0.5175782519307918, 0.5385008739576035, 0.55643494598403, 0.5480655891706258, 0.5516523573755091, 0.5612171495892014, 0.5695863524012658, 0.55643494598403, 0.5486632683704348, 0.53491418275339, 0.54567448736804, 0.5301317481462088, 0.5307296583480275, 0.5181760851319407, 0.5151870731275362, 0.5199692767327077, 0.5151870731275362, 0.5211649431350053, 0.5307296583480275, 0.5385008739576035, 0.5426853213622959, 0.5438812187666032, 0.55105483217704, 0.5713795440020327, 0.5624128929921689, 0.5677927757971494, 0.5492612555729234, 0.5725752104043306, 0.5863247580253949, 0.5988783312414817, 0.5893135390277896, 0.553445702977616, 0.5600217911895834, 0.55105483217704, 0.5301317481462088, 0.527142967143814, 0.5056223579145139, 0.5044266915122161, 0.5145890859250476, 0.5008397693059928, 0.5181760851319407, 0.5211649431350053, 0.5014379105098213, 0.488883875289715, 0.523556044937591, 0.4972531551024494, 0.4954598095003425, 0.5133936505247595, 0.5390987071587522, 0.5594237269864247, 0.5630104181906382, 0.5630104181906382, 0.5630104181906382, 0.5803467340165859, 0.5988783312414817, 0.6281700790796879, 0.6150185186611122, 0.6580599681217226, 0.672407271943266, 0.7005035073805143, 0.6706136953391494, 0.6371371150929014, 0.6251814520786331, 0.5821400026180227, 0.5689885192001171, 0.5701842626030845, 0.5749662352062462, 0.5355120159545387, 0.5558371127828813, 0.5701842626030845, 0.5701842626030845, 0.5139913297245685, 0.5438812187666032, 0.5157849063286851, 0.523556044937591, 0.5301317481462088, 0.4852973380868414, 0.5121980611231317, 0.4708011919703702, 0.4851384087041556, 0.4383869899668127, 0.4782814990490417, 0.5287727633230409, 0.6004581539859396, 0.592978000908608, 0.5711605540968206, 0.5624338371743834, 0.5156825724383801, 0.5381231856717154, 0.5337597887101618, 0.5106957010525991, 0.47391817908815803, 0.5187994055548283, 0.5150591750148227, 0.46768443585459185, 0.47578814035682104, 0.4022327114245894, 0.4302835934672631, 0.45584080881503664, 0.5300196351708261, 0.5100723036290414, 0.5580705172134998, 0.5892380783712817, 0.5562004019434968, 0.5667973881372769, 0.5275259684759258, 0.4870083699728188, 0.5237859689379297, 0.5019687531281521, 0.4988520740130439, 0.5050856632452702, 0.48015161431904463, 0.44337409235460357, 0.435893631274592, 0.45210065527570087, 0.5113190984761568, 0.5537069662506063, 0.5318897504408288, 0.4926184847808176, 0.5406166213646059, 0.5611869653265983, 0.5362533014037222, 0.4639443593159259, 0.4545943219706011, 0.43963370781325783, 0.43527023385103447, 0.43963370781325783, 0.41469973588770215, 0.3922590456536972, 0.4022327114245894, 0.3854023670005928, 0.3579748823814767, 0.3610916384972549, 0.33304083345525104, 0.3935059945021522, 0.3754287012297006, 0.40534969854237723, 0.40597286496392515, 0.4196864532721435, 0.41781649200348037, 0.42654351692859727, 0.3997392757316989, 0.3567283185363712, 0.33054747476303037, 0.34363781964903095, 0.41158297977192404, 0.42280328638859155, 0.4084662236561458, 0.399116032309481, 0.4209332481192586, 0.44025718223748533, 0.4471139378912595, 0.48015161431904463, 0.4489841301619323, 0.45023069400703786, 0.47391817908815803, 0.447737412315487, 0.45210065527570087, 0.4240500042350368, 0.45210065527570087, 0.4776581786261541, 0.4645678337401534, 0.3916358022314794, 0.41407641546481455, 0.4508540914305955, 0.4458673740461542, 0.4539708475463736, 0.43215363173659604, 0.43215363173659604, 0.4103363389261486, 0.4047263011188197, 0.41407641546481455, 0.45833424450792715, 0.4720481408188252, 0.4645678337401534, 0.47391817908815803, 0.4789048194719293, 0.486385049549931, 0.4776581786261541, 0.465814397585259, 0.4782814990490417, 0.43963370781325783, 0.42155664554281624, 0.3860256104228107, 0.4041028266945922, 0.37729866249836375, 0.31745705287635995, 0.350494652303475, 0.3554815236892561, 0.3579748823814767, 0.3149636941841394, 0.3635850741901454, 0.38851896911503125, 0.43464691342814676, 0.40534969854237723, 0.45023069400703786, 0.47391817908815803, 0.47703478120259646, 0.47703478120259646, 0.4489841301619323, 0.4489841301619323, 0.4714245893939276, 0.45521748839214904, 0.47329470466393053, 0.4614510776243753, 0.46269779547082057, 0.4483606557377048, 0.4545943219706011, 0.47391817908815803, 0.4838916138570405, 0.4664378720094865, 0.4408804256597033, 0.4670611924323741, 0.483268139432813, 0.4399273113676089, 0.4518114407595345, 0.45306223964148484, 0.4743286696594261, 0.44805850510899436, 0.43304699350884346, 0.4686994586852905, 0.4468076292263742, 0.4774561288683211, 0.4605681879432352, 0.4712012874512007, 0.4593171580592751, 0.45118588731721954, 0.43805088204267373, 0.40239849386689663, 0.3936415926818563, 0.3905140564722913, 0.4274176285333682, 0.40927865772432215, 0.40364944675018666, 0.406776751957742, 0.3905140564722913, 0.39864548121568655, 0.3967690518907514, 0.386761197822421, 0.38863778114869596, 0.40239849386689663, 0.4305450877422633, 0.40490016863146705, 0.4305450877422633, 0.4493094579922846, 0.45431326952544493, 0.41240603993254743, 0.4192862807906429, 0.3992708806566617, 0.40865318128267714, 0.40239849386689663, 0.40239849386689663, 0.3898887340319861, 0.3711242097806251, 0.3461049981134836, 0.36236746259692454, 0.3711242097806251, 0.3836338926148657, 0.35673825162278905, 0.36236746259692454, 0.3679968275723998, 0.40239849386689663, 0.3861358753821158, 0.3717496862222701, 0.38551032193980084, 0.39426714612417124, 0.3948925455651464, 0.38551032193980084, 0.3892631035890012, 0.3898887340319861, 0.4105296106076123, 0.39614349844843644, 0.4130315933748623, 0.4161588985824176, 0.42366484688416783, 0.40865318128267714, 0.40052183353995174, 0.424290246325143, 0.424290246325143, 0.38050643340597057, 0.34360309234690334, 0.3492323803217088, 0.3404754791366684, 0.3448541222308634, 0.3629930160392395, 0.3911396869152761, 0.3717496862222701, 0.3723751626639151, 0.350483179203659, 0.30232118519431117, 0.29293903856963555, 0.33547174460417806, 0.35861460394705436, 0.34360309234690334, 0.3448541222308634, 0.31670737435415686, 0.33296991583826774, 0.31670737435415686, 0.32483872209688225, 0.3536107154132241, 0.3529853159722489, 0.3110780093786816, 0.33359523827857296, 0.35924008038869937, 0.3992708806566617, 0.39989635709830673, 0.36987325689733497, 0.3223365083276224, 0.32859158074675243, 0.34735595099677363, 0.3179583272374469, 0.2585376032771485, 0.2491552256504631, 0.24352593767565778, 0.24290046123401265, 0.24978070209210812, 0.26291586136799383, 0.2666687200178641, 0.24540228999992297, 0.22100847777375654, 0.17222093032209373, 0.16283870669674827, 0.12718631852097106, 0.1415724306801469, 0.14970370142220235, 0.15095465430549238, 0.17472291308934385, 0.2003676781988003, 0.16471521302235326, 0.2084990259415257, 0.2161538935388737, 0.2063844335445718, 0.22592335353317572, 0.2441596531889827, 0.2663038908438503, 0.2689089005074343, 0.24676489385457645, 0.2741191508366122, 0.29040171249489866, 0.2956121938260863, 0.26956024917416777, 0.25848816884706893, 0.2702115978409012, 0.2754219251707489, 0.25262649285048777, 0.2402519461919318, 0.24285703285618576, 0.21159476087441953, 0.22852859419876947, 0.2474160885199701, 0.25653435384887846, 0.2845401904996573, 0.2715141411730282, 0.26369849617691665, 0.27802724283701263, 0.30212514148873093, 0.2988686291570737, 0.29040171249489866, 0.2917043328276956, 0.3014737928219975, 0.3249205738089921, 0.35422887679122805, 0.3379464691342814, 0.3503210927935073, 0.3190588978124109, 0.30668419715251516, 0.29691473715821326, 0.2734681871732284, 0.29756616282561654, 0.300822521155934, 0.3268744658078525, 0.3131971448151598, 0.31124332981696934, 0.29691473715821326, 0.33013082413816996, 0.32752566047324605, 0.3079868174853121, 0.32296668181013166, 0.300822521155934, 0.31840747214500764, 0.3418543301326721, 0.2791281984153262, 0.2791281984153262, 0.2712841401720194, 0.2889333097197945, 0.2882795740322941, 0.2817429101633184, 0.25951797580638947, 0.23337093532713726, 0.2536348936235745, 0.2425223879447751, 0.19415049010926388, 0.19088211967444113, 0.18238432574363395, 0.2039555244130623, 0.20134088966574004, 0.2006872309789095, 0.17780863793515, 0.16473515619585888, 0.19415049010926388, 0.16212044444786666, 0.15689094395121228, 0.1673497139425113, 0.15819826132487347, 0.19611154317042556, 0.22356590102333884, 0.27455251060684227, 0.26605463967536513, 0.22748793014499225, 0.2562496053715667, 0.26932308711085784, 0.2889333097197945, 0.27455251060684227, 0.23990775319745283, 0.23010264189298446, 0.25951797580638947, 0.26017171149388996, 0.25821058143205844, 0.2523275762499133, 0.2712841401720194, 0.28305015053630966, 0.26082529318005065, 0.25886431711955893, 0.25821058143205844, 0.24448336400526682, 0.26474747630304385, 0.2850112805981412, 0.29154794446711685, 0.3771794654613495, 0.3706427245917039, 0.36737435415688113, 0.38829174013813916, 0.3686816715305423, 0.40659472237408467, 0.38567718239148674, 0.38175515326983345, 0.3503786892945968, 0.3492572515380884, 0.3979648722943889, 0.3999667357106006, 0.4119769921998321, 0.38662205761190116, 0.37261032270980754, 0.3719429579037338, 0.38328600358823117, 0.39062555344231487, 0.39596331688085684, 0.37527916592874355, 0.3952960290754529, 0.37394466731860565, 0.38128421717268934, 0.31522857648861546, 0.31656307509875337, 0.3532607473685021, 0.3639363512462558, 0.3946288952713888, 0.4299919919303298, 0.42799020551478795, 0.4353298323695416, 0.4533449861013791, 0.4400005390046894, 0.449341721272975, 0.44333659302835937, 0.4333281229546697, 0.4746964248588962, 0.480701476102842, 0.4920443677859997, 0.5187335699820589, 0.5007184162502213, 0.5000510514441475, 0.5060561796887634, 0.510726809323241, 0.4880411029575956, 0.49804934202927564, 0.5194007037861229, 0.54408819656731, 0.5667739799336254, 0.5467572707882559, 0.5434209087619063, 0.5287421170564183, 0.5053888918833594, 0.486706527346788, 0.4947132110049358, 0.46668974120074835, 0.47803247888256617, 0.4620191885669406, 0.4600173251507288, 0.4533449861013791, 0.45668119412638897, 0.4766980572730982, 0.4706930060291524, 0.49070994617653174, 0.49738213122454156, 0.482703108517044, 0.5060561796887634, 0.5053888918833594, 0.4853721827379899, 0.45868274953992094, 0.4560140603223247, 0.45000900907837893, 0.49004273537179766, 0.4800342652981081, 0.5254057550300687, 0.5367488777152362, 0.5160646497624529, 0.5534295328369357, 0.5307435954692806, 0.5127285187381131, 0.5200680685921967, 0.5661068461295612, 0.5601017178849456, 0.5661068461295612, 0.5654394813234874, 0.5267402536402067, 0.5027199716637535, 0.5167319375678568, 0.5467572707882559, 0.5514278234220636, 0.5334125156888864, 0.514062940347581, 0.5167319375678568, 0.5614362934957534, 0.5594346610815514, 0.5881254186911425, 0.6221540937406155, 0.6441726663021968, 0.6321626408149751, 0.6308280652041672, 0.6268245693737536, 0.6268245693737536, 0.6521794269610145, 0.6888770222300934, 0.6842064695962854, 0.6675256604732461, 0.697551070694315, 0.7068923299632707, 0.7169005690349505, 0.6608533214238964, 0.6388346718616452, 0.6094768574486599, 0.6401690934711132, 0.6148146208872017, 0.6081424358391917, 0.6154817546912658, 0.6268245693737536, 0.6401690934711132, 0.634831484033911, 0.6014700197891721, 0.6094768574486599, 0.6268245693737536, 0.6168161763007337, 0.6074751480337878, 0.6101439912527239, 0.6068078602283841, 0.5774498918140588, 0.6268245693737536, 0.6735306347165221, 0.6701947346941918, 0.6768669197422018, 0.6555157119866942, 0.6021372305939062, 0.6261575125703592, 0.5641052137153594, 0.5621034272998174, 0.5634380029106253, 0.5567655098599357, 0.5587673732761474, 0.544755561373384, 0.5380831453233642, 0.5734462419823053, 0.5667739799336254, 0.5467572707882559, 0.5534295328369357, 0.5887924754945367, 0.5594346610815514, 0.5694429771539012, 0.5861237092762707, 0.5927958943242807, 0.598134042766172, 0.5787841594221869, 0.59613241035197, 0.5867909200810048, 0.5914614727148125, 0.5647724245200932, 0.5634380029106253, 0.6068078602283841, 0.6334969854237732, 0.6188178857156058, 0.6068078602283841, 0.6161490424966697, 0.604138863008108, 0.603471729204044, 0.6028044413986401, 0.5914614727148125, 0.600802808984438, 0.5967995441560342, 0.5494260370065219, 0.5173990713719209, 0.550093247811256, 0.5834547890566647, 0.5867909200810048, 0.5540965896403299, 0.49691527616290265, 0.40996681271127056, 0.438036713919411, 0.4784302643432997, 0.46473754321662597, 0.4524141250028876, 0.4661068461295613, 0.49349213438156914, 0.45583734378489094, 0.4661068461295613, 0.4633682403036906, 0.4640529302604933, 0.4209210820134135, 0.44625237739568335, 0.3661501975067183, 0.3750504739391233, 0.3860045892399263, 0.4024358391918009, 0.45994502152168726, 0.43392895918194485, 0.45378335091515287, 0.4394060168323465, 0.4613143244346226, 0.44625237739568335, 0.4455677644395505, 0.4394060168323465, 0.4298212044444787, 0.4311904303567441, 0.4743224326051637, 0.48869968968730026, 0.4859611608620994, 0.4948614372945045, 0.48664577381823226, 0.49554605025063714, 0.5318316149350498, 0.5201928096774441, 0.5612709730574655, 0.5688018695762652, 0.5667477997058573, 0.5503167037553226, 0.5619555860135982, 0.5640093478813265, 0.5243006414155803, 0.5455243360617238, 0.5441549561481184, 0.527723706196244, 0.5174542038515736, 0.47979949025556523, 0.49896919203197065, 0.5037615597255697, 0.5304623120221145, 0.49623058620609994, 0.5222466485458422, 0.5003385719455758, 0.4852764709052969, 0.5010230309003688, 0.5010230309003688, 0.5414164273229177, 0.5441549561481184, 0.5379932855415842, 0.54963209079919, 0.5694865595330679, 0.5770176100532075, 0.6222032971686854, 0.6680737512416358, 0.6783432535863062, 0.6920358207116403, 0.7023054000569805, 0.7091517606203174, 0.7057286958396537, 0.7091517606203174, 0.7351677459593898, 0.6714968930229693, 0.6776584096281638, 0.7146288182707189, 0.679027789541769, 0.685189768150983, 0.6714968930229693, 0.6598580877653636, 0.6372651672069546, 0.6276805088204268, 0.6762893377172382, 0.670127590110034, 0.6406881549869484, 0.654380953114292, 0.6687582101964288, 0.654380953114292, 0.654380953114292, 0.630418652642278, 0.6249417489932162, 0.6331573354688186, 0.6591733978085609, 0.6714968930229693, 0.6591733978085609, 0.6776584096281638, 0.6872432990167013, 0.6749199578036328, 0.676973873672701, 0.6646503784582926, 0.6612274676789688, 0.6441114507696216, 0.6605427777221661, 0.6612274676789688, 0.642742378858696, 0.6626856293649755, 0.6266790381076316, 0.6509143829551317, 0.6356808014229723, 0.6169851157705072, 0.6246020220375917, 0.6329109333251198, 0.6266790381076316, 0.6294491372074936, 0.6301412962292773, 0.6647631074390347, 0.6869208972118058, 0.665455420462158, 0.6467598118103627, 0.6412203066166676, 0.6509143829551317, 0.6855359631628796, 0.6993848416481224, 0.695922352524467, 0.7229274114684797, 0.7547793545803848, 0.7568566786531042, 0.7236197244916031, 0.5401248950865872, 0.588595353779578, 0.5442796202326959, 0.5692072011026496, 0.6100607535285557, 0.588595353779578, 0.6169851157705072, 0.6169851157705072, 0.6093683635047625, 0.5872104967313215, 0.5671299540306, 0.5865179527061885, 0.5643601629334175, 0.5740542392718816, 0.5989818201418352, 0.5782088874173205, 0.5906727548529672, 0.5636677729096243, 0.576131563344601, 0.5989818201418352, 0.5844408596354788, 0.6121380006006053, 0.5664375640068068, 0.588595353779578, 0.5851330956579323, 0.58028613448937, 0.5830557715852128, 0.5712846791767089, 0.5816711455389662, 0.5816711455389662, 0.6093683635047625, 0.6079835064565061, 0.6093683635047625, 0.6065985724075799, 0.5941347049719333, 0.5962121060453226, 0.6093683635047625, 0.6162928027473838, 0.6342958673740461, 0.6716873156796465, 0.6730722497285727, 0.6723797057034396, 0.6696100686075969, 0.6606084592935958, 0.6509143829551317, 0.6613007723167191, 0.6578385141950734, 0.6336037083522627, 0.6162928027473838, 0.6197548298670198, 0.6204471428901431, 0.6218322309404091, 0.6412203066166676, 0.6336037083522627, 0.6211396099146062, 0.6162928027473838, 0.6218322309404091, 0.6149077146971179, 0.6065985724075799, 0.588595353779578, 0.5747465522950049, 0.6059062593844565, 0.6017516112390177, 0.6252941810593752, 0.6211396099146062, 0.6315261532775335, 0.6225246209642025, 0.6280640491572277, 0.6585311352208764, 0.6682252885600105, 0.6640704864132317, 0.6716873156796465, 0.6647631074390347, 0.6398353725677414, 0.6481447458592889, 0.6543764870754375, 0.6509143829551317, 0.6592235252446695, 0.659915761267123, 0.6966148965496001, 0.7229274114684797, 0.7166953622496516, 0.7201575433706272, 0.7333137238293973, 0.7700128591118743, 0.7443928882181275, 0.7443928882181275, 0.7270819056125789, 0.7118484010810894, 0.693845413455097, 0.6806892329963271, 0.6578385141950734, 0.6377581254956918, 0.6446823337363036, 0.665455420462158, 0.6529916300271813, 0.6716873156796465, 0.6924602484041612, 0.6779192878978048, 0.6522992400033879, 0.6502217619293288, 0.6668402775104144, 0.6931528694299641, 0.7111559340566264, 0.7270819056125789, 0.7305440097328847, 0.7506248604362858, 0.751317250460079, 0.7434216017679353, 0.7086886015908339, 0.7186122169262873, 0.759016239441283, 0.7313713049303529, 0.7540543162725516, 0.7186122169262873, 0.7292450854322433, 0.7093972387559772, 0.7015999969199732, 0.7015999969199732, 0.6349691612317027, 0.6541077547374662, 0.6434751172335199, 0.61370396322448, 0.6094510622242414, 0.5938565015515634, 0.5938565015515634, 0.637804556899645, 0.6491458315687347, 0.6491458315687347, 0.6477283262364383, 0.6300071610623011, 0.6193746005590249, 0.6087421170564183, 0.6002359300525913, 0.5733001717114939, 0.5612497978732415, 0.6051979302219929, 0.61370396322448, 0.5974006883859889, 0.6023625345540505, 0.5733001717114939, 0.5711736442107046, 0.5626674572068776, 0.5945652157173767, 0.5697558308757286, 0.5385669405323826, 0.558414479205969, 0.5626674572068776, 0.5378581493658995, 0.5449465230347504, 0.5697558308757286, 0.5662115670406332, 0.5782620178795556, 0.5832237870469473, 0.5839326552141003, 0.5839326552141003, 0.612995095057327, 0.6044891390555097, 0.6087421170564183, 0.61370396322448, 0.5974006883859889, 0.5981095565531419, 0.5697558308757286, 0.5697558308757286, 0.5775530727117325, 0.5789708860467085, 0.5711736442107046, 0.5761355673794363, 0.5662115670406332, 0.5733001717114939, 0.5541614242043905, 0.5463641823683866, 0.5697558308757286, 0.5697558308757286, 0.5733001717114939, 0.5513259515357783, 0.5534526330379074, 0.5499082922021422, 0.5435287867004442, 0.5102132918556391, 0.49391009401781794, 0.5052513686869075, 0.47193602784344224, 0.4825685883467187, 0.4825685883467187, 0.477606665177987, 0.47831545634447015, 0.4917835665170286, 0.4946189621849709, 0.5201371381931023, 0.4811508520124125, 0.48327730251253176, 0.3188265097906351, 0.34788894963386174, 0.3393828396307047, 0.3308768066282176, 0.3322945429625237, 0.3244972241258499, 0.2975613117834125, 0.30890281745451187, 0.31457345478905663, 0.3244972241258499, 0.3252060922930029, 0.34221823529864703, 0.3358387297969492, 0.2989790481177186, 0.30394097128645015, 0.2996879162848717, 0.2897641469480784, 0.30394097128645015, 0.3074851581208756, 0.29401720194965697, 0.27913158644480207, 0.2918906744488676, 0.2982701799505655, 0.3252060922930029, 0.2996879162848717, 0.2989790481177186, 0.29047293811456154, 0.3067762129530527, 0.29685252061692935, 0.2918906744488676, 0.30464968545226345, 0.3074851581208756, 0.33867404846422156, 0.32875035612809833, 0.30464968545226345, 0.3039090160084392, 0.2939448213199455, 0.29607981889442436, 0.28682741839854, 0.3017737874319506, 0.2875391355904796, 0.26761066921282206, 0.2811335268616837, 0.2925213099353964, 0.2903861583595777, 0.28326883243884216, 0.2668990290215525, 0.2782866580939254, 0.26618731182961286, 0.2733046377503484, 0.2697458977893107, 0.2889626469750286, 0.3010620702400111, 0.3039090160084392, 0.28326883243884216, 0.2925213099353964, 0.2498173544109833, 0.2512408657955324, 0.25052914860359277, 0.24910579122038357, 0.2227717161139302, 0.20711362988857995, 0.19359077223971843, 0.1594276540205899, 0.15658070825216175, 0.1722387944775119, 0.1722387944775119, 0.1722387944775119, 0.13522880749062516, 0.14732815375493757, 0.12241774403437311, 0.14448136198784922, 0.1786444032063078, 0.1857616521263734, 0.20782534708051958, 0.18647344631898288, 0.18291478335861522, 0.1928790550477789, 0.18647344631898288, 0.16512146855677645, 0.13665231887517415, 0.13949918764293245, 0.14519307917978885, 0.15302204529179397, 0.133805373106746, 0.14875174214015663, 0.1594276540205899, 0.13309365591480637, 0.14448136198784922, 0.15159868790858477, 0.15373383948440345, 0.15444555667634308, 0.16654497994132544, 0.16654497994132544, 0.18220298916600575, 0.17935612039824744, 0.18006783759018696, 0.18291478335861522, 0.16939200271042354, 0.17295058867012136, 0.20711362988857995, 0.24056495391509902, 0.23487113937891257, 0.22348335630519978, 0.19857286958396536, 0.2085370642724591, 0.20141973835172367, 0.1886086748954715, 0.17722089182175882, 0.16583318574871597, 0.20782534708051958, 0.19786115239202573, 0.1857616521263734, 0.15444555667634308, 0.1750856632452702, 0.15444555667634308, 0.16156280559640868, 0.1786444032063078, 0.16156280559640868, 0.1437694907945699, 0.1252646128021313, 0.11672377549684676, 0.10747129800029254, 0.11316518953714894, 0.08825462581524457, 0.09323664615882155, 0.11957072126527502, 0.09821889750440826, 0.09964225488761747, 0.08683119143136542, 0.10533606942380391, 0.09679538611985916, 0.08611939723875595, 0.0804255827025695, 0.10604786361641338, 0.08611939723875595, 0.07829031562574595, 0.0725965010895594, 0.05693841486420925, 0.058361887748423324, 0.06547913666848892, 0.08398424566293727, 0.06192058920912602, 0.04626242598310604, 0.039145138562705406, 0.03345143952752383, 0.03487475841039811, 0.0, 0.015658086225350143, 0.04128032863885911, 0.04555078579183636, 0.09323664615882155, 0.10462442923253423, 0.10818301519223217, 0.10177756046477604, 0.162274676789688, 0.15302204529179397, 0.14590479637172837, 0.14305785060330023, 0.14163441621942108, 0.17010356590102327, 0.173662305862061, 0.16725662013259512, 0.20782534708051958, 0.20497840131209133, 0.21138401004088736, 0.19262402882905072, 0.19557877553534708, 0.1889305376956779, 0.20592058150905912, 0.23694569142751543, 0.2495035766811171, 0.26279989835911566, 0.262061307933379, 0.23620702400110882, 0.24063925956155818, 0.204443092654906, 0.21109140749524513, 0.19484010810894048, 0.19262402882905072, 0.20518176008131261, 0.24285518484010804, 0.22734270688154978, 0.2435939292671846, 0.26797087834664157, 0.28348343330586967, 0.2517195789603369, 0.2842221007322764, 0.2856994355850896, 0.38025233119528135, 0.3987196328608058, 0.39207139502113664, 0.347749809423342, 0.36991060222223926, 0.35661404954223097, 0.3440563182899691, 0.3270664284779278, 0.3366694130238933, 0.3329759218905204, 0.3418402390100793, 0.3292824307571476, 0.31007638466454657, 0.3056441491040972, 0.31007638466454657, 0.2967799089852081, 0.2960411645581317, 0.2827446888787932, 0.2753577066120475, 0.2664933894924886, 0.3255890166244446, 0.35439804726301116, 0.3440563182899691, 0.31820195735702894, 0.3433175738628925, 0.37729750748831514, 0.3928101394482132, 0.4290060753528555, 0.4733277379513202, 0.43343831091330487, 0.4326995664862284, 0.443779962885677, 0.4363929806189314, 0.43565439019319463, 0.4290060753528555, 0.43860921390016094, 0.4940111188967343, 0.5235589709630474, 0.5952121753459255, 0.5619710631482494, 0.538332858495869, 0.5324232880826062, 0.5353780347889027, 0.5316845436555299, 0.4637247534053547, 0.4733277379513202, 0.48588554620425184, 0.4844081343507688, 0.48736288105706527, 0.4548603592851258, 0.48219205507087903, 0.4733277379513202, 0.48884036991121815, 0.4962272751772939, 0.4696342468179472, 0.47849864093817607, 0.47997605279165934, 0.47037299124502374, 0.4733277379513202, 0.4962272751772939, 0.49031770476403136, 0.4696342468179472, 0.37729750748831514, 0.3839457453279843, 0.39059406016832343, 0.4120161855408142, 0.4304835642070086, 0.42531266122015254, 0.40462912627339853, 0.39650355358091616, 0.366955855515943, 0.35513671468941777, 0.347749809423342, 0.3026894793984707, 0.3026894793984707, 0.3071216379582502, 0.2738803717592343, 0.31007638466454657, 0.30638289353117365, 0.30638289353117365, 0.31303113137084293, 0.3019508119720641, 0.34922706727548525, 0.34922706727548525, 0.36917193479583266, 0.36769444594167966, 0.35883012882212073, 0.38099099862168795, 0.3536593028359346, 0.3292824307571476, 0.31820195735702894, 0.2938250852782419, 0.3241115277702916, 0.3122923869437664, 0.3241115277702916, 0.31303113137084293, 0.3122923869437664, 0.32485027219736806, 0.2923477504254287, 0.3026894793984707, 0.31303113137084293, 0.3241115277702916, 0.3470109879955955, 0.34036282715659627, 0.3598232834625661, 0.35679469311383005, 0.37420862561504287, 0.3583089112875282, 0.3643660149843303, 0.3514948140048818, 0.3408950557869853, 0.3302952975690888, 0.3681516759195804, 0.4082794200309542, 0.39086541052907153, 0.3893511923553734, 0.4082794200309542, 0.43477881557569553, 0.43477881557569553, 0.4325075268154832, 0.4385643995102757, 0.4514356004897243, 0.4355358861622096, 0.4378073289237616, 0.4272075707058651, 0.43705025833724753, 0.470363828165305, 0.4771780024486213, 0.515034380799113, 0.5059488407549145, 0.5127630150382309, 0.4991346664715982, 0.4855063179049658, 0.4991346664715982, 0.5014060322324804, 0.538505339996458, 0.5180628171465093, 0.4953490055363482, 0.4908062740145839, 0.4779350730351354, 0.47339234151337106, 0.4688495329909369, 0.48323495214408363, 0.48626354249281956, 0.4961061531235321, 0.5104915722766789, 0.540019558170156, 0.563490517367501, 0.5483479506271703, 0.5786330841078317, 0.5415337763438542, 0.5581905612578829, 0.5650047355411992, 0.5627333697803171, 0.5498622458015384, 0.559704856432251, 0.5445622896919203, 0.5566763430841849, 0.5604620040194349, 0.5740903525860676, 0.5922613556737942, 0.586961476564846, 0.5710617622373314, 0.6081609159999691, 0.5930184262603085, 0.563490517367501, 0.5786330841078317, 0.5922613556737942, 0.5990754529564407, 0.6089181405878231, 0.5733331279982136, 0.6096753651756771, 0.5793902316950158, 0.5786330841078317, 0.6036182614788749, 0.5983183823699266, 0.6505601798735648, 0.6732739144830561, 0.653588770222301, 0.6255750025025218, 0.62708914367555, 0.6399603446549985, 0.6407174922421824, 0.6808451593528863, 0.6694883305484757, 0.6732739144830561, 0.6732739144830561, 0.7073447858996372, 0.7520153385334453, 0.695987803093887, 0.6816023839407402, 0.7149161077701375, 0.7012876822028352, 0.7300585975097983, 0.6884165582240566, 0.7005305346156511, 0.7308155910956425, 0.742172496900723, 0.7497439727725631, 0.7391440605533267, 0.7338441044437086, 0.6952306555067028, 0.723244423226482, 0.7035592019650571, 0.7187016917047179, 0.7452012412507988, 0.7262728595738782, 0.7126445880079156, 0.7255157119866943, 0.7247586414001802, 0.6922021421586367, 0.7050732661374154, 0.7111302158328777, 0.7126445880079156, 0.770186418621842, 0.7588294358160915, 0.786843049534531, 0.791385935057635, 0.770186418621842, 0.7959286665793993, 0.7862390562797895, 0.7916803856193549, 0.7807978809415642, 0.7916803856193549, 0.7590331795886623, 0.7520372067236986, 0.7224994417451432, 0.7372684782357607, 0.7170584204082576, 0.742709653573986, 0.7621424666394597, 0.7434868983360156, 0.751259961961669, 0.8212183045992499, 0.7885710985685576, 0.8235500388853384, 0.7776885938907668, 0.7800206361795347, 0.7994532952436687, 0.7792433914175053, 0.7605878231140611, 0.7761341043667079, 0.7660288444509468, 0.7784658386527962, 0.7800206361795347, 0.7745794608413094, 0.7994532952436687, 0.7753568596046786, 0.7668063972156557, 0.7450413878600745, 0.7434868983360156, 0.7528146054870678, 0.7613650678760905, 0.7932348751434138, 0.7722474185525413, 0.7839071679923616, 0.7823525244669628, 0.8025627362958058, 0.820440751834541, 0.8188862623104821, 0.8546426013906322, 0.8561972449160308, 0.9036133334360009, 0.9339284971779255, 0.9549159537687978, 0.9284873218397, 0.9144956841124517, 0.9160503276378505, 0.8997268016231742, 0.8624156650162856, 0.8942854722836088, 0.8841805203705272, 0.8492012720510668, 0.8515334683411745, 0.8616382662529164, 0.9090545087742262, 0.8779619462689324, 0.898949402859805, 0.9183823699266184, 0.9510295759573107, 0.9502520231926018, 0.9393696725161508, 0.9999999999999999, 0.9797897881711571, 0.948697379667203, 0.9510295759573107, 0.9160503276378505, 0.9005040463852035, 0.8569744896780601, 0.8732981696940764, 0.8460922930029492, 0.865524952067083, 0.8227727941233088, 0.7823525244669628, 0.7807978809415642, 0.8352097883251585, 0.8507560695778053, 0.8383190753759558, 0.8305458577489625, 0.8336552988010996, 0.8476469365283478, 0.8973949133357461, 0.870188882643279, 0.849978670814436, 0.670419499649647, 0.708507804017895, 0.7326045476595645, 0.7170584204082576, 0.7256087287959404, 0.6323311952813989, 0.5592637965950303, 0.4263433151868421, 0.5973521009632784, 0.53594437471606, 0.3618263788894963, 0.5662596154586544, 0.36415826717692446, 0.3758180166167445, 0.2693261671376541, 0.2568891729358045, 0.24445210173328502, 0.21025040617853374, 0.3626037006521956, 0.46520894131778945, 0.5134022745997889, 0.42867520347427024, 0.39447350791951885, 0.35094395121237554, 0.343170887586722, 0.32840185109610454, 0.3136329686068269, 0.37504069485404523, 0.38203651371766933, 0.40302397030854165, 0.4348937775758649, 0.4338615835957772, 0.46728372436840193, 0.4553472345209403, 0.41476326144037445, 0.44898105013513623, 0.4847905196775212, 0.496726932524313, 0.48081166406147735, 0.3972564661312553, 0.4187421170564184, 0.4609176169832677, 0.4800159391386706, 0.4219251707489855, 0.40839715405524024, 0.4338615835957772, 0.41715051320946495, 0.34791905689579494, 0.34791905689579494, 0.33359523827857296, 0.31370119120036344, 0.3073350838152291, 0.35110211058836205, 0.31210966435407983, 0.38054539574494295, 0.4036225735163895, 0.44977685205861284, 0.5675499926849364, 0.5110507511415349, 0.5770991537626377, 0.6081339657655022, 0.6089296906883089, 0.6152957980734431, 0.6089296906883089, 0.6001763315340843, 0.5930144222254733, 0.644739083230024, 0.6081339657655022, 0.600972133457561, 0.6280280128437118, 0.5914228953791897, 0.5810780093786815, 0.5818737343014885, 0.5707330463775034, 0.5516346472214307, 0.558000831607235, 0.601767858380368, 0.6328026703832322, 0.6081339657655022, 0.6049509120729349, 0.5850567879940555, 0.688506110003157, 0.6168874019203966, 0.6089296906883089, 0.5930144222254733, 0.6312110665362788, 0.6224577073820542, 0.6168874019203966, 0.6646332073089035, 0.6335984723067091, 0.6503094656923515, 0.5906271704563829, 0.5930144222254733, 0.5715287713003102, 0.5747119019935473, 0.5810780093786815, 0.5834652611477719, 0.6129085463043528, 0.6328026703832322, 0.6248449591511446, 0.6145001501513062, 0.600972133457561, 0.6041551871501282, 0.6137043482278296, 0.5890356436100993, 0.6065424389192186, 0.619274653689487, 0.6296196166906652, 0.5993805296106075, 0.5683457176077432, 0.572324573223787, 0.6073382408426954, 0.5906271704563829, 0.5810780093786815, 0.5627754121460856, 0.5412897612209225, 0.5253744157574171, 0.5134380029106252, 0.4760370835226265, 0.5205999122192363, 0.5229871639883267, 0.5277618215278473, 0.5094591472945814, 0.5102549492180583, 0.5134380029106252, 0.4975227344477896, 0.4720582279065827, 0.5086634223717746, 0.49990998621688, 0.557205106684428, 0.561979610222609, 0.5373109826055485, 0.5850567879940555, 0.5938102241489501, 0.6168874019203966, 0.5810780093786815, 0.5715287713003102, 0.6200704556129638, 0.5969932778415171, 0.5627754121460856, 0.5683457176077432, 0.5404940362981158, 0.5015015900638334, 0.5221913620648498, 0.5245787678352801, 0.5365151806820719, 0.5309448752204143, 0.48081166406147735, 0.4481854022129993, 0.44738960028952246, 0.4585302882135075, 0.44276755807775514, 0.4564935434938283, 0.4443823391263503, 0.41693036829420416, 0.4637601737135112, 0.45810832454242345, 0.46295282168954877, 0.5081677690595908, 0.5089751980842233, 0.5041307009370982, 0.4758713780809892, 0.4904047925216949, 0.467797241836004, 0.467797241836004, 0.43792306093063005, 0.4298490016863147, 0.39997474378027087, 0.370100562874897, 0.36202650363058153, 0.34022638196952315, 0.34345602106738327, 0.3547597964102287, 0.4355008508574024, 0.4355008508574024, 0.44276755807775514, 0.4484194072488431, 0.44115270002849016, 0.38382654829097007, 0.3878636164134628, 0.4282341436370496, 0.45891575356705594, 0.45810832454242345, 0.4645676027381439, 0.4322712117595423, 0.47506394905635674, 0.4718343099584966, 0.46295282168954877, 0.4823306562767097, 0.49201957357029, 0.5428864471120899, 0.5574198615527955, 0.5889088235067644, 0.5751828380906913, 0.5453086571853175, 0.5485382962831776, 0.5009010618392379, 0.5388493789895973, 0.5436938761367224, 0.523508612524929, 0.5380419499649646, 0.5493457253078101, 0.5307753197452817, 0.5130122662067159, 0.5049381299617307, 0.5049381299617307, 0.5243159645488916, 0.5259308225981566, 0.5509605833570751, 0.5267382516227891, 0.5105900561334883, 0.4928270025949225, 0.46214539266491605, 0.45891575356705594, 0.49201957357029, 0.48313808530134217, 0.4968640707174151, 0.49201957357029, 0.5380419499649646, 0.4968640707174151, 0.5009010618392379, 0.4895973634970624, 0.4807157982274445, 0.4532639043959682, 0.4492268362734756, 0.42016000739206427, 0.4484194072488431, 0.4637601737135112, 0.41773779731883665, 0.4250045045391895, 0.44115270002849016, 0.45730089551779096, 0.4435749101017178, 0.4298490016863147, 0.424197075514557, 0.42177486544132936, 0.4120859481477489, 0.43388599280813744, 0.445189768150983, 0.4250045045391895, 0.42177486544132936, 0.3531449383609637, 0.371715420924162, 0.37978948016847747, 0.3660634947524043, 0.34749308918987587, 0.32084854738236224, 0.317618908284502, 0.3297300356513101, 0.3668709237770368]}, {\"name\": \"Predictions\", \"type\": \"scatter\", \"x\": [\"2013-01-03T00:00:00\", \"2013-01-04T00:00:00\", \"2013-01-07T00:00:00\", \"2013-01-08T00:00:00\", \"2013-01-09T00:00:00\", \"2013-01-10T00:00:00\", \"2013-01-11T00:00:00\", \"2013-01-14T00:00:00\", \"2013-01-15T00:00:00\", \"2013-01-16T00:00:00\", \"2013-01-17T00:00:00\", \"2013-01-18T00:00:00\", \"2013-01-21T00:00:00\", \"2013-01-22T00:00:00\", \"2013-01-23T00:00:00\", \"2013-01-24T00:00:00\", \"2013-01-28T00:00:00\", \"2013-01-29T00:00:00\", \"2013-01-30T00:00:00\", \"2013-01-31T00:00:00\", \"2013-02-01T00:00:00\", \"2013-02-04T00:00:00\", \"2013-02-05T00:00:00\", \"2013-02-06T00:00:00\", \"2013-02-07T00:00:00\", \"2013-02-08T00:00:00\", \"2013-02-13T00:00:00\", \"2013-02-14T00:00:00\", \"2013-02-15T00:00:00\", \"2013-02-18T00:00:00\", \"2013-02-19T00:00:00\", \"2013-02-20T00:00:00\", \"2013-02-21T00:00:00\", \"2013-02-22T00:00:00\", \"2013-02-25T00:00:00\", \"2013-02-26T00:00:00\", \"2013-02-27T00:00:00\", \"2013-02-28T00:00:00\", \"2013-03-01T00:00:00\", \"2013-03-04T00:00:00\", \"2013-03-05T00:00:00\", \"2013-03-06T00:00:00\", \"2013-03-07T00:00:00\", \"2013-03-08T00:00:00\", \"2013-03-11T00:00:00\", \"2013-03-12T00:00:00\", \"2013-03-13T00:00:00\", \"2013-03-14T00:00:00\", \"2013-03-15T00:00:00\", \"2013-03-18T00:00:00\", \"2013-03-19T00:00:00\", \"2013-03-20T00:00:00\", \"2013-03-21T00:00:00\", \"2013-03-22T00:00:00\", \"2013-03-25T00:00:00\", \"2013-03-26T00:00:00\", \"2013-03-27T00:00:00\", \"2013-03-28T00:00:00\", \"2013-04-01T00:00:00\", \"2013-04-02T00:00:00\", \"2013-04-03T00:00:00\", \"2013-04-04T00:00:00\", \"2013-04-05T00:00:00\", \"2013-04-08T00:00:00\", \"2013-04-09T00:00:00\", \"2013-04-10T00:00:00\", \"2013-04-11T00:00:00\", \"2013-04-12T00:00:00\", \"2013-04-15T00:00:00\", \"2013-04-16T00:00:00\", \"2013-04-17T00:00:00\", \"2013-04-18T00:00:00\", \"2013-04-19T00:00:00\", \"2013-04-22T00:00:00\", \"2013-04-23T00:00:00\", \"2013-04-24T00:00:00\", \"2013-04-25T00:00:00\", \"2013-04-26T00:00:00\", \"2013-04-29T00:00:00\", \"2013-04-30T00:00:00\", \"2013-05-02T00:00:00\", \"2013-05-03T00:00:00\", \"2013-05-06T00:00:00\", \"2013-05-07T00:00:00\", \"2013-05-08T00:00:00\", \"2013-05-09T00:00:00\", \"2013-05-10T00:00:00\", \"2013-05-13T00:00:00\", \"2013-05-14T00:00:00\", \"2013-05-15T00:00:00\", \"2013-05-16T00:00:00\", \"2013-05-17T00:00:00\", \"2013-05-20T00:00:00\", \"2013-05-21T00:00:00\", \"2013-05-22T00:00:00\", \"2013-05-23T00:00:00\", \"2013-05-24T00:00:00\", \"2013-05-27T00:00:00\", \"2013-05-28T00:00:00\", \"2013-05-29T00:00:00\", \"2013-05-31T00:00:00\", \"2013-06-03T00:00:00\", \"2013-06-04T00:00:00\", \"2013-06-05T00:00:00\", \"2013-06-06T00:00:00\", \"2013-06-07T00:00:00\", \"2013-06-10T00:00:00\", \"2013-06-11T00:00:00\", \"2013-06-12T00:00:00\", \"2013-06-13T00:00:00\", \"2013-06-14T00:00:00\", \"2013-06-17T00:00:00\", \"2013-06-18T00:00:00\", \"2013-06-19T00:00:00\", \"2013-06-20T00:00:00\", \"2013-06-21T00:00:00\", \"2013-06-24T00:00:00\", \"2013-06-25T00:00:00\", \"2013-06-26T00:00:00\", \"2013-06-27T00:00:00\", \"2013-06-28T00:00:00\", \"2013-07-01T00:00:00\", \"2013-07-02T00:00:00\", \"2013-07-03T00:00:00\", \"2013-07-04T00:00:00\", \"2013-07-05T00:00:00\", \"2013-07-08T00:00:00\", \"2013-07-10T00:00:00\", \"2013-07-11T00:00:00\", \"2013-07-12T00:00:00\", \"2013-07-15T00:00:00\", \"2013-07-16T00:00:00\", \"2013-07-17T00:00:00\", \"2013-07-18T00:00:00\", \"2013-07-19T00:00:00\", \"2013-07-22T00:00:00\", \"2013-07-23T00:00:00\", \"2013-07-24T00:00:00\", \"2013-07-25T00:00:00\", \"2013-07-26T00:00:00\", \"2013-07-29T00:00:00\", \"2013-07-30T00:00:00\", \"2013-07-31T00:00:00\", \"2013-08-01T00:00:00\", \"2013-08-02T00:00:00\", \"2013-08-05T00:00:00\", \"2013-08-06T00:00:00\", \"2013-08-07T00:00:00\", \"2013-08-08T00:00:00\", \"2013-08-09T00:00:00\", \"2013-08-12T00:00:00\", \"2013-08-13T00:00:00\", \"2013-08-14T00:00:00\", \"2013-08-15T00:00:00\", \"2013-08-16T00:00:00\", \"2013-08-19T00:00:00\", \"2013-08-20T00:00:00\", \"2013-08-21T00:00:00\", \"2013-08-22T00:00:00\", \"2013-08-23T00:00:00\", \"2013-08-26T00:00:00\", \"2013-08-27T00:00:00\", \"2013-08-28T00:00:00\", \"2013-08-29T00:00:00\", \"2013-08-30T00:00:00\", \"2013-09-02T00:00:00\", \"2013-09-03T00:00:00\", \"2013-09-04T00:00:00\", \"2013-09-05T00:00:00\", \"2013-09-06T00:00:00\", \"2013-09-09T00:00:00\", \"2013-09-10T00:00:00\", \"2013-09-11T00:00:00\", \"2013-09-12T00:00:00\", \"2013-09-13T00:00:00\", \"2013-09-16T00:00:00\", \"2013-09-17T00:00:00\", \"2013-09-18T00:00:00\", \"2013-09-19T00:00:00\", \"2013-09-20T00:00:00\", \"2013-09-23T00:00:00\", \"2013-09-24T00:00:00\", \"2013-09-25T00:00:00\", \"2013-09-26T00:00:00\", \"2013-09-27T00:00:00\", \"2013-09-30T00:00:00\", \"2013-10-01T00:00:00\", \"2013-10-02T00:00:00\", \"2013-10-03T00:00:00\", \"2013-10-04T00:00:00\", \"2013-10-07T00:00:00\", \"2013-10-08T00:00:00\", \"2013-10-09T00:00:00\", \"2013-10-10T00:00:00\", \"2013-10-11T00:00:00\", \"2013-10-14T00:00:00\", \"2013-10-15T00:00:00\", \"2013-10-16T00:00:00\", \"2013-10-17T00:00:00\", \"2013-10-18T00:00:00\", \"2013-10-21T00:00:00\", \"2013-10-22T00:00:00\", \"2013-10-23T00:00:00\", \"2013-10-24T00:00:00\", \"2013-10-25T00:00:00\", \"2013-10-28T00:00:00\", \"2013-10-29T00:00:00\", \"2013-10-30T00:00:00\", \"2013-10-31T00:00:00\", \"2013-11-01T00:00:00\", \"2013-11-04T00:00:00\", \"2013-11-05T00:00:00\", \"2013-11-06T00:00:00\", \"2013-11-07T00:00:00\", \"2013-11-08T00:00:00\", \"2013-11-11T00:00:00\", \"2013-11-12T00:00:00\", \"2013-11-13T00:00:00\", \"2013-11-14T00:00:00\", \"2013-11-18T00:00:00\", \"2013-11-19T00:00:00\", \"2013-11-21T00:00:00\", \"2013-11-22T00:00:00\", \"2013-11-25T00:00:00\", \"2013-11-26T00:00:00\", \"2013-11-27T00:00:00\", \"2013-11-28T00:00:00\", \"2013-11-29T00:00:00\", \"2013-12-02T00:00:00\", \"2013-12-03T00:00:00\", \"2013-12-04T00:00:00\", \"2013-12-05T00:00:00\", \"2013-12-06T00:00:00\", \"2013-12-09T00:00:00\", \"2013-12-10T00:00:00\", \"2013-12-11T00:00:00\", \"2013-12-12T00:00:00\", \"2013-12-13T00:00:00\", \"2013-12-16T00:00:00\", \"2013-12-17T00:00:00\", \"2013-12-18T00:00:00\", \"2013-12-19T00:00:00\", \"2013-12-20T00:00:00\", \"2013-12-23T00:00:00\", \"2013-12-26T00:00:00\", \"2013-12-27T00:00:00\", \"2013-12-30T00:00:00\", \"2014-01-02T00:00:00\", \"2014-01-03T00:00:00\", \"2014-01-06T00:00:00\", \"2014-01-07T00:00:00\", \"2014-01-08T00:00:00\", \"2014-01-09T00:00:00\", \"2014-01-10T00:00:00\", \"2014-01-13T00:00:00\", \"2014-01-14T00:00:00\", \"2014-01-15T00:00:00\", \"2014-01-16T00:00:00\", \"2014-01-17T00:00:00\", \"2014-01-20T00:00:00\", \"2014-01-21T00:00:00\", \"2014-01-22T00:00:00\", \"2014-01-23T00:00:00\", \"2014-01-24T00:00:00\", \"2014-01-27T00:00:00\", \"2014-01-28T00:00:00\", \"2014-01-29T00:00:00\", \"2014-01-30T00:00:00\", \"2014-01-31T00:00:00\", \"2014-02-03T00:00:00\", \"2014-02-04T00:00:00\", \"2014-02-05T00:00:00\", \"2014-02-06T00:00:00\", \"2014-02-07T00:00:00\", \"2014-02-10T00:00:00\", \"2014-02-11T00:00:00\", \"2014-02-12T00:00:00\", \"2014-02-13T00:00:00\", \"2014-02-14T00:00:00\", \"2014-02-17T00:00:00\", \"2014-02-18T00:00:00\", \"2014-02-19T00:00:00\", \"2014-02-20T00:00:00\", \"2014-02-21T00:00:00\", \"2014-02-24T00:00:00\", \"2014-02-25T00:00:00\", \"2014-02-26T00:00:00\", \"2014-02-27T00:00:00\", \"2014-02-28T00:00:00\", \"2014-03-05T00:00:00\", \"2014-03-06T00:00:00\", \"2014-03-07T00:00:00\", \"2014-03-10T00:00:00\", \"2014-03-11T00:00:00\", \"2014-03-12T00:00:00\", \"2014-03-13T00:00:00\", \"2014-03-14T00:00:00\", \"2014-03-17T00:00:00\", \"2014-03-18T00:00:00\", \"2014-03-19T00:00:00\", \"2014-03-20T00:00:00\", \"2014-03-21T00:00:00\", \"2014-03-24T00:00:00\", \"2014-03-25T00:00:00\", \"2014-03-26T00:00:00\", \"2014-03-27T00:00:00\", \"2014-03-28T00:00:00\", \"2014-03-31T00:00:00\", \"2014-04-01T00:00:00\", \"2014-04-02T00:00:00\", \"2014-04-03T00:00:00\", \"2014-04-04T00:00:00\", \"2014-04-07T00:00:00\", \"2014-04-08T00:00:00\", \"2014-04-09T00:00:00\", \"2014-04-10T00:00:00\", \"2014-04-11T00:00:00\", \"2014-04-14T00:00:00\", \"2014-04-15T00:00:00\", \"2014-04-16T00:00:00\", \"2014-04-17T00:00:00\", \"2014-04-22T00:00:00\", \"2014-04-23T00:00:00\", \"2014-04-24T00:00:00\", \"2014-04-25T00:00:00\", \"2014-04-28T00:00:00\", \"2014-04-29T00:00:00\", \"2014-04-30T00:00:00\", \"2014-05-02T00:00:00\", \"2014-05-05T00:00:00\", \"2014-05-06T00:00:00\", \"2014-05-07T00:00:00\", \"2014-05-08T00:00:00\", \"2014-05-09T00:00:00\", \"2014-05-12T00:00:00\", \"2014-05-13T00:00:00\", \"2014-05-14T00:00:00\", \"2014-05-15T00:00:00\", \"2014-05-16T00:00:00\", \"2014-05-19T00:00:00\", \"2014-05-20T00:00:00\", \"2014-05-21T00:00:00\", \"2014-05-22T00:00:00\", \"2014-05-23T00:00:00\", \"2014-05-26T00:00:00\", \"2014-05-27T00:00:00\", \"2014-05-28T00:00:00\", \"2014-05-29T00:00:00\", \"2014-05-30T00:00:00\", \"2014-06-02T00:00:00\", \"2014-06-03T00:00:00\", \"2014-06-04T00:00:00\", \"2014-06-05T00:00:00\", \"2014-06-06T00:00:00\", \"2014-06-09T00:00:00\", \"2014-06-10T00:00:00\", \"2014-06-11T00:00:00\", \"2014-06-13T00:00:00\", \"2014-06-16T00:00:00\", \"2014-06-17T00:00:00\", \"2014-06-18T00:00:00\", \"2014-06-20T00:00:00\", \"2014-06-23T00:00:00\", \"2014-06-24T00:00:00\", \"2014-06-25T00:00:00\", \"2014-06-26T00:00:00\", \"2014-06-27T00:00:00\", \"2014-06-30T00:00:00\", \"2014-07-01T00:00:00\", \"2014-07-02T00:00:00\", \"2014-07-03T00:00:00\", \"2014-07-04T00:00:00\", \"2014-07-07T00:00:00\", \"2014-07-08T00:00:00\", \"2014-07-10T00:00:00\", \"2014-07-11T00:00:00\", \"2014-07-14T00:00:00\", \"2014-07-15T00:00:00\", \"2014-07-16T00:00:00\", \"2014-07-17T00:00:00\", \"2014-07-18T00:00:00\", \"2014-07-21T00:00:00\", \"2014-07-22T00:00:00\", \"2014-07-23T00:00:00\", \"2014-07-24T00:00:00\", \"2014-07-25T00:00:00\", \"2014-07-28T00:00:00\", \"2014-07-29T00:00:00\", \"2014-07-30T00:00:00\", \"2014-07-31T00:00:00\", \"2014-08-01T00:00:00\", \"2014-08-04T00:00:00\", \"2014-08-05T00:00:00\", \"2014-08-06T00:00:00\", \"2014-08-07T00:00:00\", \"2014-08-08T00:00:00\", \"2014-08-11T00:00:00\", \"2014-08-12T00:00:00\", \"2014-08-13T00:00:00\", \"2014-08-14T00:00:00\", \"2014-08-15T00:00:00\", \"2014-08-18T00:00:00\", \"2014-08-19T00:00:00\", \"2014-08-20T00:00:00\", \"2014-08-21T00:00:00\", \"2014-08-22T00:00:00\", \"2014-08-25T00:00:00\", \"2014-08-26T00:00:00\", \"2014-08-27T00:00:00\", \"2014-08-28T00:00:00\", \"2014-08-29T00:00:00\", \"2014-09-01T00:00:00\", \"2014-09-02T00:00:00\", \"2014-09-03T00:00:00\", \"2014-09-04T00:00:00\", \"2014-09-05T00:00:00\", \"2014-09-08T00:00:00\", \"2014-09-09T00:00:00\", \"2014-09-10T00:00:00\", \"2014-09-11T00:00:00\", \"2014-09-12T00:00:00\", \"2014-09-15T00:00:00\", \"2014-09-16T00:00:00\", \"2014-09-17T00:00:00\", \"2014-09-18T00:00:00\", \"2014-09-19T00:00:00\", \"2014-09-22T00:00:00\", \"2014-09-23T00:00:00\", \"2014-09-24T00:00:00\", \"2014-09-25T00:00:00\", \"2014-09-26T00:00:00\", \"2014-09-29T00:00:00\", \"2014-09-30T00:00:00\", \"2014-10-01T00:00:00\", \"2014-10-02T00:00:00\", \"2014-10-03T00:00:00\", \"2014-10-06T00:00:00\", \"2014-10-07T00:00:00\", \"2014-10-08T00:00:00\", \"2014-10-09T00:00:00\", \"2014-10-10T00:00:00\", \"2014-10-13T00:00:00\", \"2014-10-14T00:00:00\", \"2014-10-15T00:00:00\", \"2014-10-16T00:00:00\", \"2014-10-17T00:00:00\", \"2014-10-20T00:00:00\", \"2014-10-21T00:00:00\", \"2014-10-22T00:00:00\", \"2014-10-23T00:00:00\", \"2014-10-24T00:00:00\", \"2014-10-27T00:00:00\", \"2014-10-28T00:00:00\", \"2014-10-29T00:00:00\", \"2014-10-30T00:00:00\", \"2014-10-31T00:00:00\", \"2014-11-03T00:00:00\", \"2014-11-04T00:00:00\", \"2014-11-05T00:00:00\", \"2014-11-06T00:00:00\", \"2014-11-07T00:00:00\", \"2014-11-10T00:00:00\", \"2014-11-11T00:00:00\", \"2014-11-12T00:00:00\", \"2014-11-13T00:00:00\", \"2014-11-14T00:00:00\", \"2014-11-17T00:00:00\", \"2014-11-18T00:00:00\", \"2014-11-19T00:00:00\", \"2014-11-21T00:00:00\", \"2014-11-24T00:00:00\", \"2014-11-25T00:00:00\", \"2014-11-26T00:00:00\", \"2014-11-27T00:00:00\", \"2014-11-28T00:00:00\", \"2014-12-01T00:00:00\", \"2014-12-02T00:00:00\", \"2014-12-03T00:00:00\", \"2014-12-04T00:00:00\", \"2014-12-05T00:00:00\", \"2014-12-08T00:00:00\", \"2014-12-09T00:00:00\", \"2014-12-10T00:00:00\", \"2014-12-11T00:00:00\", \"2014-12-12T00:00:00\", \"2014-12-15T00:00:00\", \"2014-12-16T00:00:00\", \"2014-12-17T00:00:00\", \"2014-12-18T00:00:00\", \"2014-12-19T00:00:00\", \"2014-12-22T00:00:00\", \"2014-12-23T00:00:00\", \"2014-12-26T00:00:00\", \"2014-12-29T00:00:00\", \"2014-12-30T00:00:00\", \"2015-01-02T00:00:00\", \"2015-01-05T00:00:00\", \"2015-01-06T00:00:00\", \"2015-01-07T00:00:00\", \"2015-01-08T00:00:00\", \"2015-01-09T00:00:00\", \"2015-01-12T00:00:00\", \"2015-01-13T00:00:00\", \"2015-01-14T00:00:00\", \"2015-01-15T00:00:00\", \"2015-01-16T00:00:00\", \"2015-01-19T00:00:00\", \"2015-01-20T00:00:00\", \"2015-01-21T00:00:00\", \"2015-01-22T00:00:00\", \"2015-01-23T00:00:00\", \"2015-01-26T00:00:00\", \"2015-01-27T00:00:00\", \"2015-01-28T00:00:00\", \"2015-01-29T00:00:00\", \"2015-01-30T00:00:00\", \"2015-02-02T00:00:00\", \"2015-02-03T00:00:00\", \"2015-02-04T00:00:00\", \"2015-02-05T00:00:00\", \"2015-02-06T00:00:00\", \"2015-02-09T00:00:00\", \"2015-02-10T00:00:00\", \"2015-02-11T00:00:00\", \"2015-02-12T00:00:00\", \"2015-02-13T00:00:00\", \"2015-02-18T00:00:00\", \"2015-02-19T00:00:00\", \"2015-02-20T00:00:00\", \"2015-02-23T00:00:00\", \"2015-02-24T00:00:00\", \"2015-02-25T00:00:00\", \"2015-02-26T00:00:00\", \"2015-02-27T00:00:00\", \"2015-03-02T00:00:00\", \"2015-03-03T00:00:00\", \"2015-03-04T00:00:00\", \"2015-03-05T00:00:00\", \"2015-03-06T00:00:00\", \"2015-03-09T00:00:00\", \"2015-03-10T00:00:00\", \"2015-03-11T00:00:00\", \"2015-03-12T00:00:00\", \"2015-03-13T00:00:00\", \"2015-03-16T00:00:00\", \"2015-03-17T00:00:00\", \"2015-03-18T00:00:00\", \"2015-03-19T00:00:00\", \"2015-03-20T00:00:00\", \"2015-03-23T00:00:00\", \"2015-03-24T00:00:00\", \"2015-03-25T00:00:00\", \"2015-03-26T00:00:00\", \"2015-03-27T00:00:00\", \"2015-03-30T00:00:00\", \"2015-03-31T00:00:00\", \"2015-04-01T00:00:00\", \"2015-04-02T00:00:00\", \"2015-04-06T00:00:00\", \"2015-04-07T00:00:00\", \"2015-04-08T00:00:00\", \"2015-04-09T00:00:00\", \"2015-04-10T00:00:00\", \"2015-04-13T00:00:00\", \"2015-04-14T00:00:00\", \"2015-04-15T00:00:00\", \"2015-04-16T00:00:00\", \"2015-04-17T00:00:00\", \"2015-04-20T00:00:00\", \"2015-04-22T00:00:00\", \"2015-04-23T00:00:00\", \"2015-04-24T00:00:00\", \"2015-04-27T00:00:00\", \"2015-04-28T00:00:00\", \"2015-04-29T00:00:00\", \"2015-04-30T00:00:00\", \"2015-05-04T00:00:00\", \"2015-05-05T00:00:00\", \"2015-05-06T00:00:00\", \"2015-05-07T00:00:00\", \"2015-05-08T00:00:00\", \"2015-05-11T00:00:00\", \"2015-05-12T00:00:00\", \"2015-05-13T00:00:00\", \"2015-05-14T00:00:00\", \"2015-05-15T00:00:00\", \"2015-05-18T00:00:00\", \"2015-05-19T00:00:00\", \"2015-05-20T00:00:00\", \"2015-05-21T00:00:00\", \"2015-05-22T00:00:00\", \"2015-05-25T00:00:00\", \"2015-05-26T00:00:00\", \"2015-05-27T00:00:00\", \"2015-05-28T00:00:00\", \"2015-05-29T00:00:00\", \"2015-06-01T00:00:00\", \"2015-06-02T00:00:00\", \"2015-06-03T00:00:00\", \"2015-06-05T00:00:00\", \"2015-06-08T00:00:00\", \"2015-06-09T00:00:00\", \"2015-06-10T00:00:00\", \"2015-06-11T00:00:00\", \"2015-06-12T00:00:00\", \"2015-06-15T00:00:00\", \"2015-06-16T00:00:00\", \"2015-06-17T00:00:00\", \"2015-06-18T00:00:00\", \"2015-06-19T00:00:00\", \"2015-06-22T00:00:00\", \"2015-06-23T00:00:00\", \"2015-06-24T00:00:00\", \"2015-06-25T00:00:00\", \"2015-06-26T00:00:00\", \"2015-06-29T00:00:00\", \"2015-06-30T00:00:00\", \"2015-07-01T00:00:00\", \"2015-07-02T00:00:00\", \"2015-07-03T00:00:00\", \"2015-07-06T00:00:00\", \"2015-07-07T00:00:00\", \"2015-07-08T00:00:00\", \"2015-07-10T00:00:00\", \"2015-07-13T00:00:00\", \"2015-07-14T00:00:00\", \"2015-07-15T00:00:00\", \"2015-07-16T00:00:00\", \"2015-07-17T00:00:00\", \"2015-07-20T00:00:00\", \"2015-07-21T00:00:00\", \"2015-07-22T00:00:00\", \"2015-07-23T00:00:00\", \"2015-07-24T00:00:00\", \"2015-07-27T00:00:00\", \"2015-07-28T00:00:00\", \"2015-07-29T00:00:00\", \"2015-07-30T00:00:00\", \"2015-07-31T00:00:00\", \"2015-08-03T00:00:00\", \"2015-08-04T00:00:00\", \"2015-08-05T00:00:00\", \"2015-08-06T00:00:00\", \"2015-08-07T00:00:00\", \"2015-08-10T00:00:00\", \"2015-08-11T00:00:00\", \"2015-08-12T00:00:00\", \"2015-08-13T00:00:00\", \"2015-08-14T00:00:00\", \"2015-08-17T00:00:00\", \"2015-08-18T00:00:00\", \"2015-08-19T00:00:00\", \"2015-08-20T00:00:00\", \"2015-08-21T00:00:00\", \"2015-08-24T00:00:00\", \"2015-08-25T00:00:00\", \"2015-08-26T00:00:00\", \"2015-08-27T00:00:00\", \"2015-08-28T00:00:00\", \"2015-08-31T00:00:00\", \"2015-09-01T00:00:00\", \"2015-09-02T00:00:00\", \"2015-09-03T00:00:00\", \"2015-09-04T00:00:00\", \"2015-09-08T00:00:00\", \"2015-09-09T00:00:00\", \"2015-09-10T00:00:00\", \"2015-09-11T00:00:00\", \"2015-09-14T00:00:00\", \"2015-09-15T00:00:00\", \"2015-09-16T00:00:00\", \"2015-09-17T00:00:00\", \"2015-09-18T00:00:00\", \"2015-09-21T00:00:00\", \"2015-09-22T00:00:00\", \"2015-09-23T00:00:00\", \"2015-09-24T00:00:00\", \"2015-09-25T00:00:00\", \"2015-09-28T00:00:00\", \"2015-09-29T00:00:00\", \"2015-09-30T00:00:00\", \"2015-10-01T00:00:00\", \"2015-10-02T00:00:00\", \"2015-10-05T00:00:00\", \"2015-10-06T00:00:00\", \"2015-10-07T00:00:00\", \"2015-10-08T00:00:00\", \"2015-10-09T00:00:00\", \"2015-10-13T00:00:00\", \"2015-10-14T00:00:00\", \"2015-10-15T00:00:00\", \"2015-10-16T00:00:00\", \"2015-10-19T00:00:00\", \"2015-10-20T00:00:00\", \"2015-10-21T00:00:00\", \"2015-10-22T00:00:00\", \"2015-10-23T00:00:00\", \"2015-10-26T00:00:00\", \"2015-10-27T00:00:00\", \"2015-10-28T00:00:00\", \"2015-10-29T00:00:00\", \"2015-10-30T00:00:00\", \"2015-11-03T00:00:00\", \"2015-11-04T00:00:00\", \"2015-11-05T00:00:00\", \"2015-11-06T00:00:00\", \"2015-11-09T00:00:00\", \"2015-11-10T00:00:00\", \"2015-11-11T00:00:00\", \"2015-11-12T00:00:00\", \"2015-11-13T00:00:00\", \"2015-11-16T00:00:00\", \"2015-11-17T00:00:00\", \"2015-11-18T00:00:00\", \"2015-11-19T00:00:00\", \"2015-11-23T00:00:00\", \"2015-11-24T00:00:00\", \"2015-11-25T00:00:00\", \"2015-11-26T00:00:00\", \"2015-11-27T00:00:00\", \"2015-11-30T00:00:00\", \"2015-12-01T00:00:00\", \"2015-12-02T00:00:00\", \"2015-12-03T00:00:00\", \"2015-12-04T00:00:00\", \"2015-12-07T00:00:00\", \"2015-12-08T00:00:00\", \"2015-12-09T00:00:00\", \"2015-12-10T00:00:00\", \"2015-12-11T00:00:00\", \"2015-12-14T00:00:00\", \"2015-12-15T00:00:00\", \"2015-12-16T00:00:00\", \"2015-12-17T00:00:00\", \"2015-12-18T00:00:00\", \"2015-12-21T00:00:00\", \"2015-12-22T00:00:00\", \"2015-12-23T00:00:00\", \"2015-12-28T00:00:00\", \"2015-12-29T00:00:00\", \"2015-12-30T00:00:00\", \"2016-01-04T00:00:00\", \"2016-01-05T00:00:00\", \"2016-01-06T00:00:00\", \"2016-01-07T00:00:00\", \"2016-01-08T00:00:00\", \"2016-01-11T00:00:00\", \"2016-01-12T00:00:00\", \"2016-01-13T00:00:00\", \"2016-01-14T00:00:00\", \"2016-01-15T00:00:00\", \"2016-01-18T00:00:00\", \"2016-01-19T00:00:00\", \"2016-01-20T00:00:00\", \"2016-01-21T00:00:00\", \"2016-01-22T00:00:00\", \"2016-01-26T00:00:00\", \"2016-01-27T00:00:00\", \"2016-01-28T00:00:00\", \"2016-01-29T00:00:00\", \"2016-02-01T00:00:00\", \"2016-02-02T00:00:00\", \"2016-02-03T00:00:00\", \"2016-02-04T00:00:00\", \"2016-02-05T00:00:00\", \"2016-02-10T00:00:00\", \"2016-02-11T00:00:00\", \"2016-02-12T00:00:00\", \"2016-02-15T00:00:00\", \"2016-02-16T00:00:00\", \"2016-02-17T00:00:00\", \"2016-02-18T00:00:00\", \"2016-02-19T00:00:00\", \"2016-02-22T00:00:00\", \"2016-02-23T00:00:00\", \"2016-02-24T00:00:00\", \"2016-02-25T00:00:00\", \"2016-02-26T00:00:00\", \"2016-02-29T00:00:00\", \"2016-03-01T00:00:00\", \"2016-03-02T00:00:00\", \"2016-03-03T00:00:00\", \"2016-03-04T00:00:00\", \"2016-03-07T00:00:00\", \"2016-03-08T00:00:00\", \"2016-03-09T00:00:00\", \"2016-03-10T00:00:00\", \"2016-03-11T00:00:00\", \"2016-03-14T00:00:00\", \"2016-03-15T00:00:00\", \"2016-03-16T00:00:00\", \"2016-03-17T00:00:00\", \"2016-03-18T00:00:00\", \"2016-03-21T00:00:00\", \"2016-03-22T00:00:00\", \"2016-03-23T00:00:00\", \"2016-03-24T00:00:00\", \"2016-03-28T00:00:00\", \"2016-03-29T00:00:00\", \"2016-03-30T00:00:00\", \"2016-03-31T00:00:00\", \"2016-04-01T00:00:00\", \"2016-04-04T00:00:00\", \"2016-04-05T00:00:00\", \"2016-04-06T00:00:00\", \"2016-04-07T00:00:00\", \"2016-04-08T00:00:00\", \"2016-04-11T00:00:00\", \"2016-04-12T00:00:00\", \"2016-04-13T00:00:00\", \"2016-04-14T00:00:00\", \"2016-04-15T00:00:00\", \"2016-04-18T00:00:00\", \"2016-04-19T00:00:00\", \"2016-04-20T00:00:00\", \"2016-04-22T00:00:00\", \"2016-04-25T00:00:00\", \"2016-04-26T00:00:00\", \"2016-04-27T00:00:00\", \"2016-04-28T00:00:00\", \"2016-04-29T00:00:00\", \"2016-05-02T00:00:00\", \"2016-05-03T00:00:00\", \"2016-05-04T00:00:00\", \"2016-05-05T00:00:00\", \"2016-05-06T00:00:00\", \"2016-05-09T00:00:00\", \"2016-05-10T00:00:00\", \"2016-05-11T00:00:00\", \"2016-05-12T00:00:00\", \"2016-05-13T00:00:00\", \"2016-05-16T00:00:00\", \"2016-05-17T00:00:00\", \"2016-05-18T00:00:00\", \"2016-05-19T00:00:00\", \"2016-05-20T00:00:00\", \"2016-05-23T00:00:00\", \"2016-05-24T00:00:00\", \"2016-05-25T00:00:00\", \"2016-05-27T00:00:00\", \"2016-05-30T00:00:00\", \"2016-05-31T00:00:00\", \"2016-06-01T00:00:00\", \"2016-06-02T00:00:00\", \"2016-06-03T00:00:00\", \"2016-06-06T00:00:00\", \"2016-06-07T00:00:00\", \"2016-06-08T00:00:00\", \"2016-06-09T00:00:00\", \"2016-06-10T00:00:00\", \"2016-06-13T00:00:00\", \"2016-06-14T00:00:00\", \"2016-06-15T00:00:00\", \"2016-06-16T00:00:00\", \"2016-06-17T00:00:00\", \"2016-06-20T00:00:00\", \"2016-06-21T00:00:00\", \"2016-06-22T00:00:00\", \"2016-06-23T00:00:00\", \"2016-06-24T00:00:00\", \"2016-06-27T00:00:00\", \"2016-06-28T00:00:00\", \"2016-06-29T00:00:00\", \"2016-06-30T00:00:00\", \"2016-07-01T00:00:00\", \"2016-07-04T00:00:00\", \"2016-07-05T00:00:00\", \"2016-07-06T00:00:00\", \"2016-07-07T00:00:00\", \"2016-07-08T00:00:00\", \"2016-07-11T00:00:00\", \"2016-07-12T00:00:00\", \"2016-07-13T00:00:00\", \"2016-07-14T00:00:00\", \"2016-07-15T00:00:00\", \"2016-07-18T00:00:00\", \"2016-07-19T00:00:00\", \"2016-07-20T00:00:00\", \"2016-07-21T00:00:00\", \"2016-07-22T00:00:00\", \"2016-07-25T00:00:00\", \"2016-07-26T00:00:00\", \"2016-07-27T00:00:00\", \"2016-07-28T00:00:00\", \"2016-07-29T00:00:00\", \"2016-08-01T00:00:00\", \"2016-08-02T00:00:00\", \"2016-08-03T00:00:00\", \"2016-08-04T00:00:00\", \"2016-08-05T00:00:00\", \"2016-08-08T00:00:00\", \"2016-08-09T00:00:00\", \"2016-08-10T00:00:00\", \"2016-08-11T00:00:00\", \"2016-08-12T00:00:00\", \"2016-08-15T00:00:00\", \"2016-08-16T00:00:00\", \"2016-08-17T00:00:00\", \"2016-08-18T00:00:00\", \"2016-08-19T00:00:00\", \"2016-08-22T00:00:00\", \"2016-08-23T00:00:00\", \"2016-08-24T00:00:00\", \"2016-08-25T00:00:00\", \"2016-08-26T00:00:00\", \"2016-08-29T00:00:00\", \"2016-08-30T00:00:00\", \"2016-08-31T00:00:00\", \"2016-09-01T00:00:00\", \"2016-09-02T00:00:00\", \"2016-09-05T00:00:00\", \"2016-09-06T00:00:00\", \"2016-09-08T00:00:00\", \"2016-09-09T00:00:00\", \"2016-09-12T00:00:00\", \"2016-09-13T00:00:00\", \"2016-09-14T00:00:00\", \"2016-09-15T00:00:00\", \"2016-09-16T00:00:00\", \"2016-09-19T00:00:00\", \"2016-09-20T00:00:00\", \"2016-09-21T00:00:00\", \"2016-09-22T00:00:00\", \"2016-09-23T00:00:00\", \"2016-09-26T00:00:00\", \"2016-09-27T00:00:00\", \"2016-09-28T00:00:00\", \"2016-09-29T00:00:00\", \"2016-09-30T00:00:00\", \"2016-10-03T00:00:00\", \"2016-10-04T00:00:00\", \"2016-10-05T00:00:00\", \"2016-10-06T00:00:00\", \"2016-10-07T00:00:00\", \"2016-10-10T00:00:00\", \"2016-10-11T00:00:00\", \"2016-10-13T00:00:00\", \"2016-10-14T00:00:00\", \"2016-10-17T00:00:00\", \"2016-10-18T00:00:00\", \"2016-10-19T00:00:00\", \"2016-10-20T00:00:00\", \"2016-10-21T00:00:00\", \"2016-10-24T00:00:00\", \"2016-10-25T00:00:00\", \"2016-10-26T00:00:00\", \"2016-10-27T00:00:00\", \"2016-10-28T00:00:00\", \"2016-10-31T00:00:00\", \"2016-11-01T00:00:00\", \"2016-11-03T00:00:00\", \"2016-11-04T00:00:00\", \"2016-11-07T00:00:00\", \"2016-11-08T00:00:00\", \"2016-11-09T00:00:00\", \"2016-11-10T00:00:00\", \"2016-11-11T00:00:00\", \"2016-11-14T00:00:00\", \"2016-11-16T00:00:00\", \"2016-11-17T00:00:00\", \"2016-11-18T00:00:00\", \"2016-11-21T00:00:00\", \"2016-11-22T00:00:00\", \"2016-11-23T00:00:00\", \"2016-11-24T00:00:00\", \"2016-11-25T00:00:00\", \"2016-11-28T00:00:00\", \"2016-11-29T00:00:00\", \"2016-11-30T00:00:00\", \"2016-12-01T00:00:00\", \"2016-12-02T00:00:00\", \"2016-12-05T00:00:00\", \"2016-12-06T00:00:00\", \"2016-12-07T00:00:00\", \"2016-12-08T00:00:00\", \"2016-12-09T00:00:00\", \"2016-12-12T00:00:00\", \"2016-12-13T00:00:00\", \"2016-12-14T00:00:00\", \"2016-12-15T00:00:00\", \"2016-12-16T00:00:00\", \"2016-12-19T00:00:00\", \"2016-12-20T00:00:00\", \"2016-12-21T00:00:00\", \"2016-12-22T00:00:00\", \"2016-12-23T00:00:00\", \"2016-12-26T00:00:00\", \"2016-12-27T00:00:00\", \"2016-12-28T00:00:00\", \"2016-12-29T00:00:00\", \"2017-01-02T00:00:00\", \"2017-01-03T00:00:00\", \"2017-01-04T00:00:00\", \"2017-01-05T00:00:00\", \"2017-01-06T00:00:00\", \"2017-01-09T00:00:00\", \"2017-01-10T00:00:00\", \"2017-01-11T00:00:00\", \"2017-01-12T00:00:00\", \"2017-01-13T00:00:00\", \"2017-01-16T00:00:00\", \"2017-01-17T00:00:00\", \"2017-01-18T00:00:00\", \"2017-01-19T00:00:00\", \"2017-01-20T00:00:00\", \"2017-01-23T00:00:00\", \"2017-01-24T00:00:00\", \"2017-01-26T00:00:00\", \"2017-01-27T00:00:00\", \"2017-01-30T00:00:00\", \"2017-01-31T00:00:00\", \"2017-02-01T00:00:00\", \"2017-02-02T00:00:00\", \"2017-02-03T00:00:00\", \"2017-02-06T00:00:00\", \"2017-02-07T00:00:00\", \"2017-02-08T00:00:00\", \"2017-02-09T00:00:00\", \"2017-02-10T00:00:00\", \"2017-02-13T00:00:00\", \"2017-02-14T00:00:00\", \"2017-02-15T00:00:00\", \"2017-02-16T00:00:00\", \"2017-02-17T00:00:00\", \"2017-02-20T00:00:00\", \"2017-02-21T00:00:00\", \"2017-02-22T00:00:00\", \"2017-02-23T00:00:00\", \"2017-02-24T00:00:00\", \"2017-03-01T00:00:00\", \"2017-03-02T00:00:00\", \"2017-03-03T00:00:00\", \"2017-03-06T00:00:00\", \"2017-03-07T00:00:00\", \"2017-03-08T00:00:00\", \"2017-03-09T00:00:00\", \"2017-03-10T00:00:00\", \"2017-03-13T00:00:00\", \"2017-03-14T00:00:00\", \"2017-03-15T00:00:00\", \"2017-03-16T00:00:00\", \"2017-03-17T00:00:00\", \"2017-03-20T00:00:00\", \"2017-03-21T00:00:00\", \"2017-03-22T00:00:00\", \"2017-03-23T00:00:00\", \"2017-03-24T00:00:00\", \"2017-03-27T00:00:00\", \"2017-03-28T00:00:00\", \"2017-03-29T00:00:00\", \"2017-03-30T00:00:00\", \"2017-03-31T00:00:00\", \"2017-04-03T00:00:00\", \"2017-04-04T00:00:00\", \"2017-04-05T00:00:00\", \"2017-04-06T00:00:00\", \"2017-04-07T00:00:00\", \"2017-04-10T00:00:00\", \"2017-04-11T00:00:00\", \"2017-04-12T00:00:00\", \"2017-04-13T00:00:00\", \"2017-04-17T00:00:00\", \"2017-04-18T00:00:00\", \"2017-04-19T00:00:00\", \"2017-04-20T00:00:00\", \"2017-04-24T00:00:00\", \"2017-04-25T00:00:00\", \"2017-04-26T00:00:00\", \"2017-04-27T00:00:00\", \"2017-04-28T00:00:00\", \"2017-05-02T00:00:00\", \"2017-05-03T00:00:00\", \"2017-05-04T00:00:00\", \"2017-05-05T00:00:00\", \"2017-05-08T00:00:00\", \"2017-05-09T00:00:00\", \"2017-05-10T00:00:00\", \"2017-05-11T00:00:00\", \"2017-05-12T00:00:00\", \"2017-05-15T00:00:00\", \"2017-05-16T00:00:00\", \"2017-05-17T00:00:00\", \"2017-05-18T00:00:00\", \"2017-05-19T00:00:00\", \"2017-05-22T00:00:00\", \"2017-05-23T00:00:00\", \"2017-05-24T00:00:00\", \"2017-05-25T00:00:00\", \"2017-05-26T00:00:00\", \"2017-05-29T00:00:00\", \"2017-05-30T00:00:00\", \"2017-05-31T00:00:00\", \"2017-06-01T00:00:00\", \"2017-06-02T00:00:00\", \"2017-06-05T00:00:00\", \"2017-06-06T00:00:00\", \"2017-06-07T00:00:00\", \"2017-06-08T00:00:00\", \"2017-06-09T00:00:00\", \"2017-06-12T00:00:00\", \"2017-06-13T00:00:00\", \"2017-06-14T00:00:00\", \"2017-06-16T00:00:00\", \"2017-06-19T00:00:00\", \"2017-06-20T00:00:00\", \"2017-06-21T00:00:00\", \"2017-06-22T00:00:00\", \"2017-06-23T00:00:00\", \"2017-06-26T00:00:00\", \"2017-06-27T00:00:00\", \"2017-06-28T00:00:00\", \"2017-06-29T00:00:00\", \"2017-06-30T00:00:00\", \"2017-07-03T00:00:00\", \"2017-07-04T00:00:00\", \"2017-07-05T00:00:00\", \"2017-07-06T00:00:00\", \"2017-07-07T00:00:00\", \"2017-07-10T00:00:00\", \"2017-07-11T00:00:00\", \"2017-07-12T00:00:00\", \"2017-07-13T00:00:00\", \"2017-07-14T00:00:00\", \"2017-07-17T00:00:00\", \"2017-07-18T00:00:00\", \"2017-07-19T00:00:00\", \"2017-07-20T00:00:00\", \"2017-07-21T00:00:00\", \"2017-07-24T00:00:00\", \"2017-07-25T00:00:00\", \"2017-07-26T00:00:00\", \"2017-07-27T00:00:00\", \"2017-07-28T00:00:00\", \"2017-07-31T00:00:00\", \"2017-08-01T00:00:00\", \"2017-08-02T00:00:00\", \"2017-08-03T00:00:00\", \"2017-08-04T00:00:00\", \"2017-08-07T00:00:00\", \"2017-08-08T00:00:00\", \"2017-08-09T00:00:00\", \"2017-08-10T00:00:00\", \"2017-08-11T00:00:00\", \"2017-08-14T00:00:00\", \"2017-08-15T00:00:00\", \"2017-08-16T00:00:00\", \"2017-08-17T00:00:00\", \"2017-08-18T00:00:00\", \"2017-08-21T00:00:00\", \"2017-08-22T00:00:00\", \"2017-08-23T00:00:00\", \"2017-08-24T00:00:00\", \"2017-08-25T00:00:00\", \"2017-08-28T00:00:00\", \"2017-08-29T00:00:00\", \"2017-08-30T00:00:00\", \"2017-08-31T00:00:00\", \"2017-09-01T00:00:00\", \"2017-09-04T00:00:00\", \"2017-09-05T00:00:00\", \"2017-09-06T00:00:00\", \"2017-09-08T00:00:00\", \"2017-09-11T00:00:00\", \"2017-09-12T00:00:00\", \"2017-09-13T00:00:00\", \"2017-09-14T00:00:00\", \"2017-09-15T00:00:00\", \"2017-09-18T00:00:00\", \"2017-09-19T00:00:00\", \"2017-09-20T00:00:00\", \"2017-09-21T00:00:00\", \"2017-09-22T00:00:00\", \"2017-09-25T00:00:00\", \"2017-09-26T00:00:00\", \"2017-09-27T00:00:00\", \"2017-09-28T00:00:00\", \"2017-09-29T00:00:00\", \"2017-10-02T00:00:00\", \"2017-10-03T00:00:00\", \"2017-10-04T00:00:00\", \"2017-10-05T00:00:00\", \"2017-10-06T00:00:00\", \"2017-10-09T00:00:00\", \"2017-10-10T00:00:00\", \"2017-10-11T00:00:00\", \"2017-10-13T00:00:00\", \"2017-10-16T00:00:00\", \"2017-10-17T00:00:00\", \"2017-10-18T00:00:00\", \"2017-10-19T00:00:00\", \"2017-10-20T00:00:00\", \"2017-10-23T00:00:00\", \"2017-10-24T00:00:00\", \"2017-10-25T00:00:00\", \"2017-10-26T00:00:00\", \"2017-10-27T00:00:00\", \"2017-10-30T00:00:00\", \"2017-10-31T00:00:00\", \"2017-11-01T00:00:00\", \"2017-11-03T00:00:00\", \"2017-11-06T00:00:00\", \"2017-11-07T00:00:00\", \"2017-11-08T00:00:00\", \"2017-11-09T00:00:00\", \"2017-11-10T00:00:00\", \"2017-11-13T00:00:00\", \"2017-11-14T00:00:00\", \"2017-11-15T00:00:00\", \"2017-11-16T00:00:00\", \"2017-11-17T00:00:00\", \"2017-11-21T00:00:00\", \"2017-11-22T00:00:00\", \"2017-11-23T00:00:00\", \"2017-11-24T00:00:00\", \"2017-11-27T00:00:00\", \"2017-11-28T00:00:00\", \"2017-11-29T00:00:00\", \"2017-11-30T00:00:00\", \"2017-12-01T00:00:00\", \"2017-12-04T00:00:00\", \"2017-12-05T00:00:00\", \"2017-12-06T00:00:00\", \"2017-12-07T00:00:00\", \"2017-12-08T00:00:00\", \"2017-12-11T00:00:00\", \"2017-12-12T00:00:00\", \"2017-12-13T00:00:00\", \"2017-12-14T00:00:00\", \"2017-12-15T00:00:00\", \"2017-12-18T00:00:00\", \"2017-12-19T00:00:00\", \"2017-12-20T00:00:00\", \"2017-12-21T00:00:00\", \"2017-12-22T00:00:00\", \"2017-12-26T00:00:00\", \"2017-12-27T00:00:00\", \"2017-12-28T00:00:00\", \"2017-12-29T00:00:00\", \"2018-01-02T00:00:00\", \"2018-01-03T00:00:00\", \"2018-01-04T00:00:00\", \"2018-01-05T00:00:00\", \"2018-01-08T00:00:00\", \"2018-01-09T00:00:00\", \"2018-01-10T00:00:00\", \"2018-01-11T00:00:00\", \"2018-01-12T00:00:00\", \"2018-01-15T00:00:00\", \"2018-01-16T00:00:00\", \"2018-01-17T00:00:00\", \"2018-01-18T00:00:00\", \"2018-01-19T00:00:00\", \"2018-01-22T00:00:00\", \"2018-01-23T00:00:00\", \"2018-01-24T00:00:00\", \"2018-01-25T00:00:00\", \"2018-01-26T00:00:00\", \"2018-01-29T00:00:00\", \"2018-01-30T00:00:00\", \"2018-01-31T00:00:00\", \"2018-02-01T00:00:00\", \"2018-02-02T00:00:00\", \"2018-02-05T00:00:00\", \"2018-02-06T00:00:00\", \"2018-02-07T00:00:00\", \"2018-02-08T00:00:00\", \"2018-02-09T00:00:00\", \"2018-02-15T00:00:00\", \"2018-02-16T00:00:00\", \"2018-02-19T00:00:00\", \"2018-02-20T00:00:00\", \"2018-02-21T00:00:00\", \"2018-02-22T00:00:00\", \"2018-02-23T00:00:00\", \"2018-02-26T00:00:00\", \"2018-02-27T00:00:00\", \"2018-02-28T00:00:00\", \"2018-03-01T00:00:00\", \"2018-03-02T00:00:00\", \"2018-03-05T00:00:00\", \"2018-03-06T00:00:00\", \"2018-03-07T00:00:00\", \"2018-03-08T00:00:00\", \"2018-03-09T00:00:00\", \"2018-03-12T00:00:00\", \"2018-03-13T00:00:00\", \"2018-03-14T00:00:00\", \"2018-03-15T00:00:00\", \"2018-03-16T00:00:00\", \"2018-03-19T00:00:00\", \"2018-03-20T00:00:00\", \"2018-03-21T00:00:00\", \"2018-03-22T00:00:00\", \"2018-03-23T00:00:00\", \"2018-03-26T00:00:00\", \"2018-03-27T00:00:00\", \"2018-03-28T00:00:00\", \"2018-03-29T00:00:00\", \"2018-04-02T00:00:00\", \"2018-04-03T00:00:00\", \"2018-04-04T00:00:00\", \"2018-04-05T00:00:00\", \"2018-04-06T00:00:00\", \"2018-04-09T00:00:00\", \"2018-04-10T00:00:00\", \"2018-04-11T00:00:00\", \"2018-04-12T00:00:00\", \"2018-04-13T00:00:00\", \"2018-04-16T00:00:00\", \"2018-04-17T00:00:00\", \"2018-04-18T00:00:00\", \"2018-04-19T00:00:00\", \"2018-04-20T00:00:00\", \"2018-04-23T00:00:00\", \"2018-04-24T00:00:00\", \"2018-04-25T00:00:00\", \"2018-04-26T00:00:00\", \"2018-04-27T00:00:00\", \"2018-04-30T00:00:00\", \"2018-05-02T00:00:00\", \"2018-05-03T00:00:00\", \"2018-05-04T00:00:00\", \"2018-05-07T00:00:00\", \"2018-05-08T00:00:00\", \"2018-05-09T00:00:00\", \"2018-05-10T00:00:00\", \"2018-05-11T00:00:00\", \"2018-05-14T00:00:00\", \"2018-05-15T00:00:00\", \"2018-05-16T00:00:00\", \"2018-05-17T00:00:00\", \"2018-05-18T00:00:00\", \"2018-05-21T00:00:00\", \"2018-05-22T00:00:00\", \"2018-05-23T00:00:00\", \"2018-05-24T00:00:00\", \"2018-05-25T00:00:00\", \"2018-05-28T00:00:00\", \"2018-05-29T00:00:00\", \"2018-05-30T00:00:00\", \"2018-06-01T00:00:00\", \"2018-06-04T00:00:00\", \"2018-06-05T00:00:00\", \"2018-06-06T00:00:00\", \"2018-06-07T00:00:00\", \"2018-06-08T00:00:00\", \"2018-06-11T00:00:00\", \"2018-06-12T00:00:00\", \"2018-06-13T00:00:00\", \"2018-06-14T00:00:00\", \"2018-06-15T00:00:00\", \"2018-06-18T00:00:00\", \"2018-06-19T00:00:00\", \"2018-06-20T00:00:00\", \"2018-06-21T00:00:00\", \"2018-06-22T00:00:00\", \"2018-06-25T00:00:00\", \"2018-06-26T00:00:00\", \"2018-06-27T00:00:00\", \"2018-06-28T00:00:00\", \"2018-06-29T00:00:00\", \"2018-07-02T00:00:00\", \"2018-07-03T00:00:00\", \"2018-07-04T00:00:00\", \"2018-07-05T00:00:00\", \"2018-07-06T00:00:00\", \"2018-07-10T00:00:00\", \"2018-07-11T00:00:00\", \"2018-07-12T00:00:00\", \"2018-07-13T00:00:00\", \"2018-07-16T00:00:00\", \"2018-07-17T00:00:00\", \"2018-07-18T00:00:00\", \"2018-07-19T00:00:00\", \"2018-07-20T00:00:00\", \"2018-07-23T00:00:00\", \"2018-07-24T00:00:00\", \"2018-07-25T00:00:00\", \"2018-07-26T00:00:00\", \"2018-07-27T00:00:00\", \"2018-07-30T00:00:00\", \"2018-07-31T00:00:00\", \"2018-08-01T00:00:00\", \"2018-08-02T00:00:00\", \"2018-08-03T00:00:00\", \"2018-08-06T00:00:00\", \"2018-08-07T00:00:00\", \"2018-08-08T00:00:00\", \"2018-08-09T00:00:00\", \"2018-08-10T00:00:00\", \"2018-08-13T00:00:00\", \"2018-08-14T00:00:00\", \"2018-08-15T00:00:00\", \"2018-08-16T00:00:00\", \"2018-08-17T00:00:00\", \"2018-08-20T00:00:00\", \"2018-08-21T00:00:00\", \"2018-08-22T00:00:00\", \"2018-08-23T00:00:00\", \"2018-08-24T00:00:00\", \"2018-08-27T00:00:00\", \"2018-08-28T00:00:00\", \"2018-08-29T00:00:00\", \"2018-08-30T00:00:00\", \"2018-08-31T00:00:00\", \"2018-09-03T00:00:00\", \"2018-09-04T00:00:00\", \"2018-09-05T00:00:00\", \"2018-09-06T00:00:00\", \"2018-09-10T00:00:00\", \"2018-09-11T00:00:00\", \"2018-09-12T00:00:00\", \"2018-09-13T00:00:00\", \"2018-09-14T00:00:00\", \"2018-09-17T00:00:00\", \"2018-09-18T00:00:00\", \"2018-09-19T00:00:00\", \"2018-09-20T00:00:00\", \"2018-09-21T00:00:00\", \"2018-09-24T00:00:00\", \"2018-09-25T00:00:00\", \"2018-09-26T00:00:00\", \"2018-09-27T00:00:00\", \"2018-09-28T00:00:00\", \"2018-10-01T00:00:00\", \"2018-10-02T00:00:00\", \"2018-10-03T00:00:00\", \"2018-10-04T00:00:00\", \"2018-10-05T00:00:00\", \"2018-10-08T00:00:00\", \"2018-10-09T00:00:00\", \"2018-10-10T00:00:00\", \"2018-10-11T00:00:00\", \"2018-10-15T00:00:00\", \"2018-10-16T00:00:00\", \"2018-10-17T00:00:00\", \"2018-10-18T00:00:00\", \"2018-10-19T00:00:00\", \"2018-10-22T00:00:00\", \"2018-10-23T00:00:00\", \"2018-10-24T00:00:00\", \"2018-10-25T00:00:00\", \"2018-10-26T00:00:00\", \"2018-10-29T00:00:00\", \"2018-10-30T00:00:00\", \"2018-10-31T00:00:00\", \"2018-11-01T00:00:00\", \"2018-11-05T00:00:00\", \"2018-11-06T00:00:00\", \"2018-11-07T00:00:00\", \"2018-11-08T00:00:00\", \"2018-11-09T00:00:00\", \"2018-11-12T00:00:00\", \"2018-11-13T00:00:00\", \"2018-11-14T00:00:00\", \"2018-11-16T00:00:00\", \"2018-11-19T00:00:00\", \"2018-11-21T00:00:00\", \"2018-11-22T00:00:00\", \"2018-11-23T00:00:00\", \"2018-11-26T00:00:00\", \"2018-11-27T00:00:00\", \"2018-11-28T00:00:00\", \"2018-11-29T00:00:00\", \"2018-11-30T00:00:00\", \"2018-12-03T00:00:00\", \"2018-12-04T00:00:00\", \"2018-12-05T00:00:00\", \"2018-12-06T00:00:00\", \"2018-12-07T00:00:00\", \"2018-12-10T00:00:00\", \"2018-12-11T00:00:00\", \"2018-12-12T00:00:00\", \"2018-12-13T00:00:00\", \"2018-12-14T00:00:00\", \"2018-12-17T00:00:00\", \"2018-12-18T00:00:00\", \"2018-12-19T00:00:00\", \"2018-12-20T00:00:00\", \"2018-12-21T00:00:00\", \"2018-12-26T00:00:00\", \"2018-12-27T00:00:00\", \"2018-12-28T00:00:00\", \"2019-01-02T00:00:00\", \"2019-01-03T00:00:00\", \"2019-01-04T00:00:00\", \"2019-01-07T00:00:00\", \"2019-01-08T00:00:00\", \"2019-01-09T00:00:00\", \"2019-01-10T00:00:00\", \"2019-01-11T00:00:00\", \"2019-01-14T00:00:00\", \"2019-01-15T00:00:00\", \"2019-01-16T00:00:00\", \"2019-01-17T00:00:00\", \"2019-01-18T00:00:00\", \"2019-01-21T00:00:00\", \"2019-01-22T00:00:00\", \"2019-01-23T00:00:00\", \"2019-01-24T00:00:00\", \"2019-01-28T00:00:00\", \"2019-01-29T00:00:00\", \"2019-01-30T00:00:00\", \"2019-01-31T00:00:00\", \"2019-02-01T00:00:00\", \"2019-02-04T00:00:00\", \"2019-02-05T00:00:00\", \"2019-02-06T00:00:00\", \"2019-02-07T00:00:00\", \"2019-02-08T00:00:00\", \"2019-02-11T00:00:00\", \"2019-02-12T00:00:00\", \"2019-02-13T00:00:00\", \"2019-02-14T00:00:00\", \"2019-02-15T00:00:00\", \"2019-02-18T00:00:00\", \"2019-02-19T00:00:00\", \"2019-02-20T00:00:00\", \"2019-02-21T00:00:00\", \"2019-02-22T00:00:00\", \"2019-02-25T00:00:00\", \"2019-02-26T00:00:00\", \"2019-02-27T00:00:00\", \"2019-02-28T00:00:00\", \"2019-03-01T00:00:00\", \"2019-03-07T00:00:00\", \"2019-03-08T00:00:00\", \"2019-03-11T00:00:00\", \"2019-03-12T00:00:00\", \"2019-03-13T00:00:00\", \"2019-03-14T00:00:00\", \"2019-03-15T00:00:00\", \"2019-03-18T00:00:00\", \"2019-03-19T00:00:00\", \"2019-03-20T00:00:00\", \"2019-03-21T00:00:00\", \"2019-03-22T00:00:00\", \"2019-03-25T00:00:00\", \"2019-03-26T00:00:00\", \"2019-03-27T00:00:00\", \"2019-03-28T00:00:00\", \"2019-03-29T00:00:00\", \"2019-04-01T00:00:00\", \"2019-04-02T00:00:00\", \"2019-04-03T00:00:00\", \"2019-04-04T00:00:00\", \"2019-04-05T00:00:00\", \"2019-04-08T00:00:00\", \"2019-04-09T00:00:00\", \"2019-04-10T00:00:00\", \"2019-04-11T00:00:00\", \"2019-04-12T00:00:00\", \"2019-04-15T00:00:00\", \"2019-04-16T00:00:00\", \"2019-04-17T00:00:00\", \"2019-04-18T00:00:00\", \"2019-04-22T00:00:00\", \"2019-04-23T00:00:00\", \"2019-04-24T00:00:00\", \"2019-04-25T00:00:00\", \"2019-04-26T00:00:00\", \"2019-04-29T00:00:00\", \"2019-04-30T00:00:00\", \"2019-05-02T00:00:00\", \"2019-05-03T00:00:00\", \"2019-05-06T00:00:00\", \"2019-05-07T00:00:00\", \"2019-05-08T00:00:00\", \"2019-05-09T00:00:00\", \"2019-05-10T00:00:00\", \"2019-05-13T00:00:00\", \"2019-05-14T00:00:00\", \"2019-05-15T00:00:00\", \"2019-05-16T00:00:00\", \"2019-05-17T00:00:00\", \"2019-05-20T00:00:00\", \"2019-05-21T00:00:00\", \"2019-05-22T00:00:00\", \"2019-05-23T00:00:00\", \"2019-05-24T00:00:00\", \"2019-05-27T00:00:00\", \"2019-05-28T00:00:00\", \"2019-05-29T00:00:00\", \"2019-05-30T00:00:00\", \"2019-05-31T00:00:00\", \"2019-06-03T00:00:00\", \"2019-06-04T00:00:00\", \"2019-06-05T00:00:00\", \"2019-06-06T00:00:00\", \"2019-06-07T00:00:00\", \"2019-06-10T00:00:00\", \"2019-06-11T00:00:00\", \"2019-06-12T00:00:00\", \"2019-06-13T00:00:00\", \"2019-06-14T00:00:00\", \"2019-06-17T00:00:00\", \"2019-06-18T00:00:00\", \"2019-06-19T00:00:00\", \"2019-06-21T00:00:00\", \"2019-06-24T00:00:00\", \"2019-06-25T00:00:00\", \"2019-06-26T00:00:00\", \"2019-06-27T00:00:00\", \"2019-06-28T00:00:00\", \"2019-07-01T00:00:00\", \"2019-07-02T00:00:00\", \"2019-07-03T00:00:00\", \"2019-07-04T00:00:00\", \"2019-07-05T00:00:00\", \"2019-07-08T00:00:00\", \"2019-07-10T00:00:00\", \"2019-07-11T00:00:00\", \"2019-07-12T00:00:00\", \"2019-07-15T00:00:00\", \"2019-07-16T00:00:00\", \"2019-07-17T00:00:00\", \"2019-07-18T00:00:00\", \"2019-07-19T00:00:00\", \"2019-07-22T00:00:00\", \"2019-07-23T00:00:00\", \"2019-07-24T00:00:00\", \"2019-07-25T00:00:00\", \"2019-07-26T00:00:00\", \"2019-07-29T00:00:00\", \"2019-07-30T00:00:00\", \"2019-07-31T00:00:00\", \"2019-08-01T00:00:00\", \"2019-08-02T00:00:00\", \"2019-08-05T00:00:00\", \"2019-08-06T00:00:00\", \"2019-08-07T00:00:00\", \"2019-08-08T00:00:00\", \"2019-08-09T00:00:00\", \"2019-08-12T00:00:00\", \"2019-08-13T00:00:00\", \"2019-08-14T00:00:00\", \"2019-08-15T00:00:00\", \"2019-08-16T00:00:00\", \"2019-08-19T00:00:00\", \"2019-08-20T00:00:00\", \"2019-08-21T00:00:00\", \"2019-08-22T00:00:00\", \"2019-08-23T00:00:00\", \"2019-08-26T00:00:00\", \"2019-08-27T00:00:00\", \"2019-08-28T00:00:00\", \"2019-08-29T00:00:00\", \"2019-08-30T00:00:00\", \"2019-09-02T00:00:00\", \"2019-09-03T00:00:00\", \"2019-09-04T00:00:00\", \"2019-09-05T00:00:00\", \"2019-09-06T00:00:00\", \"2019-09-09T00:00:00\", \"2019-09-10T00:00:00\", \"2019-09-11T00:00:00\", \"2019-09-12T00:00:00\", \"2019-09-13T00:00:00\", \"2019-09-16T00:00:00\", \"2019-09-17T00:00:00\", \"2019-09-18T00:00:00\", \"2019-09-19T00:00:00\", \"2019-09-20T00:00:00\", \"2019-09-23T00:00:00\", \"2019-09-24T00:00:00\", \"2019-09-25T00:00:00\", \"2019-09-26T00:00:00\", \"2019-09-27T00:00:00\", \"2019-09-30T00:00:00\", \"2019-10-01T00:00:00\", \"2019-10-02T00:00:00\", \"2019-10-03T00:00:00\", \"2019-10-04T00:00:00\", \"2019-10-07T00:00:00\", \"2019-10-08T00:00:00\", \"2019-10-09T00:00:00\", \"2019-10-10T00:00:00\", \"2019-10-11T00:00:00\", \"2019-10-14T00:00:00\", \"2019-10-15T00:00:00\", \"2019-10-16T00:00:00\", \"2019-10-17T00:00:00\", \"2019-10-18T00:00:00\", \"2019-10-21T00:00:00\", \"2019-10-22T00:00:00\", \"2019-10-23T00:00:00\", \"2019-10-24T00:00:00\", \"2019-10-25T00:00:00\", \"2019-10-28T00:00:00\", \"2019-10-29T00:00:00\", \"2019-10-30T00:00:00\", \"2019-10-31T00:00:00\", \"2019-11-01T00:00:00\", \"2019-11-04T00:00:00\", \"2019-11-05T00:00:00\", \"2019-11-06T00:00:00\", \"2019-11-07T00:00:00\", \"2019-11-08T00:00:00\", \"2019-11-11T00:00:00\", \"2019-11-12T00:00:00\", \"2019-11-13T00:00:00\", \"2019-11-14T00:00:00\", \"2019-11-18T00:00:00\", \"2019-11-19T00:00:00\", \"2019-11-21T00:00:00\", \"2019-11-22T00:00:00\", \"2019-11-25T00:00:00\", \"2019-11-26T00:00:00\", \"2019-11-27T00:00:00\", \"2019-11-28T00:00:00\", \"2019-11-29T00:00:00\", \"2019-12-02T00:00:00\", \"2019-12-03T00:00:00\", \"2019-12-04T00:00:00\", \"2019-12-05T00:00:00\", \"2019-12-06T00:00:00\", \"2019-12-09T00:00:00\", \"2019-12-10T00:00:00\", \"2019-12-11T00:00:00\", \"2019-12-12T00:00:00\", \"2019-12-13T00:00:00\", \"2019-12-16T00:00:00\", \"2019-12-17T00:00:00\", \"2019-12-18T00:00:00\", \"2019-12-19T00:00:00\", \"2019-12-20T00:00:00\", \"2019-12-23T00:00:00\", \"2019-12-26T00:00:00\", \"2019-12-27T00:00:00\", \"2019-12-30T00:00:00\", \"2020-01-02T00:00:00\", \"2020-01-03T00:00:00\", \"2020-01-06T00:00:00\", \"2020-01-07T00:00:00\", \"2020-01-08T00:00:00\", \"2020-01-09T00:00:00\", \"2020-01-10T00:00:00\", \"2020-01-13T00:00:00\", \"2020-01-14T00:00:00\", \"2020-01-15T00:00:00\", \"2020-01-16T00:00:00\", \"2020-01-17T00:00:00\", \"2020-01-20T00:00:00\", \"2020-01-21T00:00:00\", \"2020-01-22T00:00:00\", \"2020-01-23T00:00:00\", \"2020-01-24T00:00:00\", \"2020-01-27T00:00:00\", \"2020-01-28T00:00:00\", \"2020-01-29T00:00:00\", \"2020-01-30T00:00:00\", \"2020-01-31T00:00:00\", \"2020-02-03T00:00:00\", \"2020-02-04T00:00:00\", \"2020-02-05T00:00:00\", \"2020-02-06T00:00:00\", \"2020-02-07T00:00:00\", \"2020-02-10T00:00:00\", \"2020-02-11T00:00:00\", \"2020-02-12T00:00:00\", \"2020-02-13T00:00:00\", \"2020-02-14T00:00:00\", \"2020-02-17T00:00:00\", \"2020-02-18T00:00:00\", \"2020-02-19T00:00:00\", \"2020-02-20T00:00:00\", \"2020-02-21T00:00:00\", \"2020-02-27T00:00:00\", \"2020-02-28T00:00:00\", \"2020-03-02T00:00:00\", \"2020-03-03T00:00:00\", \"2020-03-04T00:00:00\", \"2020-03-05T00:00:00\", \"2020-03-06T00:00:00\", \"2020-03-09T00:00:00\", \"2020-03-10T00:00:00\", \"2020-03-11T00:00:00\", \"2020-03-12T00:00:00\", \"2020-03-13T00:00:00\", \"2020-03-16T00:00:00\", \"2020-03-17T00:00:00\", \"2020-03-18T00:00:00\", \"2020-03-19T00:00:00\", \"2020-03-20T00:00:00\", \"2020-03-23T00:00:00\", \"2020-03-24T00:00:00\", \"2020-03-25T00:00:00\", \"2020-03-26T00:00:00\", \"2020-03-27T00:00:00\", \"2020-03-30T00:00:00\", \"2020-03-31T00:00:00\", \"2020-04-01T00:00:00\", \"2020-04-02T00:00:00\", \"2020-04-03T00:00:00\", \"2020-04-06T00:00:00\", \"2020-04-07T00:00:00\", \"2020-04-08T00:00:00\", \"2020-04-09T00:00:00\", \"2020-04-13T00:00:00\", \"2020-04-14T00:00:00\", \"2020-04-15T00:00:00\", \"2020-04-16T00:00:00\", \"2020-04-17T00:00:00\", \"2020-04-20T00:00:00\", \"2020-04-22T00:00:00\", \"2020-04-23T00:00:00\", \"2020-04-24T00:00:00\", \"2020-04-27T00:00:00\", \"2020-04-28T00:00:00\", \"2020-04-29T00:00:00\", \"2020-04-30T00:00:00\", \"2020-05-04T00:00:00\", \"2020-05-05T00:00:00\", \"2020-05-06T00:00:00\", \"2020-05-07T00:00:00\", \"2020-05-08T00:00:00\", \"2020-05-11T00:00:00\", \"2020-05-12T00:00:00\", \"2020-05-13T00:00:00\", \"2020-05-14T00:00:00\", \"2020-05-15T00:00:00\", \"2020-05-18T00:00:00\", \"2020-05-19T00:00:00\", \"2020-05-20T00:00:00\", \"2020-05-21T00:00:00\", \"2020-05-22T00:00:00\", \"2020-05-25T00:00:00\", \"2020-05-26T00:00:00\", \"2020-05-27T00:00:00\", \"2020-05-28T00:00:00\", \"2020-05-29T00:00:00\", \"2020-06-01T00:00:00\", \"2020-06-02T00:00:00\", \"2020-06-03T00:00:00\", \"2020-06-04T00:00:00\", \"2020-06-05T00:00:00\", \"2020-06-08T00:00:00\", \"2020-06-09T00:00:00\", \"2020-06-10T00:00:00\", \"2020-06-12T00:00:00\", \"2020-06-15T00:00:00\", \"2020-06-16T00:00:00\", \"2020-06-17T00:00:00\", \"2020-06-18T00:00:00\", \"2020-06-19T00:00:00\", \"2020-06-22T00:00:00\", \"2020-06-23T00:00:00\", \"2020-06-24T00:00:00\", \"2020-06-25T00:00:00\", \"2020-06-26T00:00:00\", \"2020-06-29T00:00:00\", \"2020-06-30T00:00:00\", \"2020-07-01T00:00:00\", \"2020-07-02T00:00:00\", \"2020-07-03T00:00:00\", \"2020-07-06T00:00:00\", \"2020-07-07T00:00:00\", \"2020-07-08T00:00:00\", \"2020-07-09T00:00:00\", \"2020-07-10T00:00:00\", \"2020-07-13T00:00:00\", \"2020-07-14T00:00:00\", \"2020-07-15T00:00:00\", \"2020-07-16T00:00:00\", \"2020-07-17T00:00:00\", \"2020-07-20T00:00:00\", \"2020-07-21T00:00:00\", \"2020-07-22T00:00:00\", \"2020-07-23T00:00:00\", \"2020-07-24T00:00:00\", \"2020-07-27T00:00:00\", \"2020-07-28T00:00:00\", \"2020-07-29T00:00:00\", \"2020-07-30T00:00:00\", \"2020-07-31T00:00:00\", \"2020-08-03T00:00:00\", \"2020-08-04T00:00:00\", \"2020-08-05T00:00:00\", \"2020-08-06T00:00:00\", \"2020-08-07T00:00:00\", \"2020-08-10T00:00:00\", \"2020-08-11T00:00:00\", \"2020-08-12T00:00:00\", \"2020-08-13T00:00:00\", \"2020-08-14T00:00:00\", \"2020-08-17T00:00:00\", \"2020-08-18T00:00:00\", \"2020-08-19T00:00:00\", \"2020-08-20T00:00:00\", \"2020-08-21T00:00:00\", \"2020-08-24T00:00:00\", \"2020-08-25T00:00:00\", \"2020-08-26T00:00:00\", \"2020-08-27T00:00:00\", \"2020-08-28T00:00:00\", \"2020-08-31T00:00:00\", \"2020-09-01T00:00:00\", \"2020-09-02T00:00:00\", \"2020-09-03T00:00:00\", \"2020-09-04T00:00:00\", \"2020-09-08T00:00:00\", \"2020-09-09T00:00:00\", \"2020-09-10T00:00:00\", \"2020-09-11T00:00:00\", \"2020-09-14T00:00:00\", \"2020-09-15T00:00:00\", \"2020-09-16T00:00:00\", \"2020-09-17T00:00:00\", \"2020-09-18T00:00:00\", \"2020-09-21T00:00:00\", \"2020-09-22T00:00:00\", \"2020-09-23T00:00:00\", \"2020-09-24T00:00:00\", \"2020-09-25T00:00:00\", \"2020-09-28T00:00:00\", \"2020-09-29T00:00:00\", \"2020-09-30T00:00:00\", \"2020-10-01T00:00:00\", \"2020-10-02T00:00:00\", \"2020-10-05T00:00:00\", \"2020-10-06T00:00:00\", \"2020-10-07T00:00:00\", \"2020-10-08T00:00:00\", \"2020-10-09T00:00:00\", \"2020-10-13T00:00:00\", \"2020-10-14T00:00:00\", \"2020-10-15T00:00:00\", \"2020-10-16T00:00:00\", \"2020-10-19T00:00:00\", \"2020-10-20T00:00:00\", \"2020-10-21T00:00:00\", \"2020-10-22T00:00:00\", \"2020-10-23T00:00:00\", \"2020-10-26T00:00:00\", \"2020-10-27T00:00:00\", \"2020-10-28T00:00:00\", \"2020-10-29T00:00:00\", \"2020-10-30T00:00:00\", \"2020-11-03T00:00:00\", \"2020-11-04T00:00:00\", \"2020-11-05T00:00:00\", \"2020-11-06T00:00:00\", \"2020-11-09T00:00:00\", \"2020-11-10T00:00:00\", \"2020-11-11T00:00:00\", \"2020-11-12T00:00:00\", \"2020-11-13T00:00:00\", \"2020-11-16T00:00:00\", \"2020-11-17T00:00:00\", \"2020-11-18T00:00:00\", \"2020-11-19T00:00:00\", \"2020-11-23T00:00:00\", \"2020-11-24T00:00:00\", \"2020-11-25T00:00:00\", \"2020-11-26T00:00:00\", \"2020-11-27T00:00:00\", \"2020-11-30T00:00:00\", \"2020-12-01T00:00:00\", \"2020-12-02T00:00:00\", \"2020-12-03T00:00:00\", \"2020-12-04T00:00:00\", \"2020-12-07T00:00:00\", \"2020-12-08T00:00:00\", \"2020-12-09T00:00:00\", \"2020-12-10T00:00:00\", \"2020-12-11T00:00:00\", \"2020-12-14T00:00:00\", \"2020-12-15T00:00:00\", \"2020-12-16T00:00:00\", \"2020-12-17T00:00:00\", \"2020-12-18T00:00:00\", \"2020-12-21T00:00:00\", \"2020-12-22T00:00:00\", \"2020-12-23T00:00:00\", \"2020-12-28T00:00:00\", \"2020-12-29T00:00:00\", \"2020-12-30T00:00:00\", \"2021-01-04T00:00:00\", \"2021-01-05T00:00:00\", \"2021-01-06T00:00:00\", \"2021-01-07T00:00:00\", \"2021-01-08T00:00:00\", \"2021-01-11T00:00:00\", \"2021-01-12T00:00:00\", \"2021-01-13T00:00:00\", \"2021-01-14T00:00:00\", \"2021-01-15T00:00:00\", \"2021-01-18T00:00:00\", \"2021-01-19T00:00:00\", \"2021-01-20T00:00:00\", \"2021-01-21T00:00:00\", \"2021-01-22T00:00:00\", \"2021-01-26T00:00:00\", \"2021-01-27T00:00:00\", \"2021-01-28T00:00:00\", \"2021-01-29T00:00:00\", \"2021-02-01T00:00:00\", \"2021-02-02T00:00:00\", \"2021-02-03T00:00:00\", \"2021-02-04T00:00:00\", \"2021-02-05T00:00:00\", \"2021-02-08T00:00:00\", \"2021-02-09T00:00:00\", \"2021-02-10T00:00:00\", \"2021-02-11T00:00:00\", \"2021-02-12T00:00:00\", \"2021-02-18T00:00:00\", \"2021-02-19T00:00:00\", \"2021-02-22T00:00:00\", \"2021-02-23T00:00:00\", \"2021-02-24T00:00:00\", \"2021-02-25T00:00:00\", \"2021-02-26T00:00:00\", \"2021-03-01T00:00:00\", \"2021-03-02T00:00:00\", \"2021-03-03T00:00:00\", \"2021-03-04T00:00:00\"], \"y\": [0.5302227735519409, 0.550070583820343, 0.5700874328613281, 0.5689052939414978, 0.5683143734931946, 0.5700874328613281, 0.5724536180496216, 0.5730457901954651, 0.576599657535553, 0.5771926641464233, 0.6004295945167542, 0.5926594734191895, 0.5855089426040649, 0.5920629501342773, 0.5920629501342773, 0.6469606757164001, 0.6022263765335083, 0.6016276478767395, 0.6160449385643005, 0.6160449385643005, 0.6190589070320129, 0.6341846585273743, 0.6647090315818787, 0.646350622177124, 0.6893905401229858, 0.6862926483154297, 0.6690114140510559, 0.6739372611045837, 0.6739372611045837, 0.6076245307922363, 0.5950475335121155, 0.5980363488197327, 0.6070241332054138, 0.5801595449447632, 0.5801595449447632, 0.5801595449447632, 0.586103618144989, 0.5849134922027588, 0.5771926641464233, 0.5825355052947998, 0.5801595449447632, 0.5724536180496216, 0.5647724270820618, 0.5577040910720825, 0.5694964528083801, 0.5694964528083801, 0.5630034804344177, 0.5624142289161682, 0.5635928511619568, 0.5459703207015991, 0.5453851819038391, 0.5624142289161682, 0.5624142289161682, 0.5535908341407776, 0.5366257429122925, 0.5683143734931946, 0.576599657535553, 0.5896773338317871, 0.5896773338317871, 0.6076245307922363, 0.6040248274803162, 0.6396520137786865, 0.616044819355011, 0.6022263765335083, 0.6244935989379883, 0.6058239936828613, 0.613034188747406, 0.6004295945167542, 0.5730457901954651, 0.5494845509529114, 0.5677239894866943, 0.5565281510353088, 0.5582923293113708, 0.5598903894424438, 0.5640268325805664, 0.5955803394317627, 0.5901930928230286, 0.5764797925949097, 0.5764797925949097, 0.5522276163101196, 0.5741026401519775, 0.5758854746818542, 0.5699487924575806, 0.5770745277404785, 0.6166436672210693, 0.604585587978363, 0.6136237382888794, 0.6100046634674072, 0.5967795252799988, 0.597378671169281, 0.619667649269104, 0.6033830642700195, 0.6172483563423157, 0.6136237382888794, 0.6166436672210693, 0.600378692150116, 0.5931845903396606, 0.5746968984603882, 0.5776689648628235, 0.5723218321800232, 0.562253475189209, 0.562253475189209, 0.5598903894424438, 0.5776689648628235, 0.5658022165298462, 0.5363914966583252, 0.5160232186317444, 0.5056182146072388, 0.49411314725875854, 0.47810468077659607, 0.48838233947753906, 0.4678746163845062, 0.4872381389141083, 0.48209574818611145, 0.45318150520324707, 0.4419473707675934, 0.40639135241508484, 0.37577271461486816, 0.4030889868736267, 0.42353886365890503, 0.4543084502220154, 0.4554359018802643, 0.43579337000846863, 0.40034088492393494, 0.3943079710006714, 0.3964996933937073, 0.42353883385658264, 0.41080304980278015, 0.4091476798057556, 0.42576149106025696, 0.39485588669776917, 0.40584057569503784, 0.4091476798057556, 0.41965430974960327, 0.4335598945617676, 0.43300193548202515, 0.4363519251346588, 0.43300193548202515, 0.4447503387928009, 0.4667406976222992, 0.4667406976222992, 0.46560773253440857, 0.4729836881160736, 0.46730753779411316, 0.47014403343200684, 0.46390894055366516, 0.4588211476802826, 0.45036759972572327, 0.4291000962257385, 0.42798683047294617, 0.4543084502220154, 0.43579337000846863, 0.4554359018802643, 0.438029021024704, 0.41799190640449524, 0.4135652482509613, 0.44082701206207275, 0.4224282205104828, 0.41135507822036743, 0.41965430974960327, 0.42743009328842163, 0.42743009328842163, 0.41633084416389465, 0.42798683047294617, 0.4413870871067047, 0.4363519251346588, 0.4391477704048157, 0.43300193548202515, 0.43858832120895386, 0.45036759972572327, 0.46504148840904236, 0.4838087558746338, 0.4752582311630249, 0.48552268743515015, 0.49583491683006287, 0.49583491683006287, 0.4729836881160736, 0.46900904178619385, 0.5131281614303589, 0.5241488814353943, 0.4929657280445099, 0.491245836019516, 0.49813318252563477, 0.48438000679016113, 0.47924429178237915, 0.4940989017486572, 0.4745118319988251, 0.5096529126167297, 0.5102535486221313, 0.48992955684661865, 0.504855751991272, 0.5042567253112793, 0.5072528123855591, 0.515062153339386, 0.5186752676963806, 0.5210871696472168, 0.5126563310623169, 0.49767860770225525, 0.4875507056713104, 0.4982760548591614, 0.5000684261322021, 0.5102535486221313, 0.5410833954811096, 0.536827027797699, 0.5459568500518799, 0.5557345151901245, 0.5587984919548035, 0.5514518022537231, 0.5532861948013306, 0.5514518022537231, 0.5216904878616333, 0.5374346375465393, 0.513257622718811, 0.48873984813690186, 0.49529147148132324, 0.49231085181236267, 0.4935029447078705, 0.49767860770225525, 0.5072528123855591, 0.5012642741203308, 0.5307608842849731, 0.5343986749649048, 0.5283384919166565, 0.5423006415367126, 0.5526745915412903, 0.5569596290588379, 0.5435187220573425, 0.5465667843818665, 0.5435187220573425, 0.5222941040992737, 0.48695623874664307, 0.48102158308029175, 0.4893346428871155, 0.47806015610694885, 0.4940989017486572, 0.48280033469200134, 0.4592013657093048, 0.4539266526699066, 0.4492487609386444, 0.4504174292087555, 0.46213728189468384, 0.4539266526699066, 0.5006664395332336, 0.4822072684764862, 0.4833934009075165, 0.4745118319988251, 0.48873984813690186, 0.49947088956832886, 0.47806015610694885, 0.47273969650268555, 0.4597882926464081, 0.4486647844314575, 0.44225096702575684, 0.4076045751571655, 0.41736310720443726, 0.40245679020881653, 0.40188542008399963, 0.40302810072898865, 0.4208182990550995, 0.42485663294792175, 0.4306388795375824, 0.42485663294792175, 0.4341157376766205, 0.41506287455558777, 0.39618241786956787, 0.3973217010498047, 0.39163124561309814, 0.38199353218078613, 0.3662193715572357, 0.3701512813568115, 0.3416808545589447, 0.36565831303596497, 0.3411266803741455, 0.3589375615119934, 0.36229491233825684, 0.34500905871391296, 0.35670241713523865, 0.36229491233825684, 0.35614389181137085, 0.3735276162624359, 0.38086262345314026, 0.34778690338134766, 0.36565831303596497, 0.3735276162624359, 0.35279691219329834, 0.3650972545146942, 0.37071365118026733, 0.4007435142993927, 0.4306388795375824, 0.4007435142993927, 0.4093232750892639, 0.448080837726593, 0.41104352474212646, 0.38652318716049194, 0.40645939111709595, 0.4076045751571655, 0.40188542008399963, 0.4001728892326355, 0.4070318937301636, 0.44225096702575684, 0.44225096702575684, 0.42774564027786255, 0.42543384432792664, 0.4451639950275421, 0.446913480758667, 0.44283318519592285, 0.4597882926464081, 0.4721492826938629, 0.47865214943885803, 0.4510017931461334, 0.4656659960746765, 0.4833934009075165, 0.4486647844314575, 0.44225096702575684, 0.4586147367954254, 0.47687673568725586, 0.4656659960746765, 0.4982760548591614, 0.48280033469200134, 0.4650771915912628, 0.48685529828071594, 0.5018104314804077, 0.5096267461776733, 0.5000106692314148, 0.5054147839546204, 0.49282538890838623, 0.5000106692314148, 0.4844715893268585, 0.4838763475418091, 0.5126403570175171, 0.5186792016029358, 0.5024107098579407, 0.509024441242218, 0.5078207850456238, 0.5108316540718079, 0.5229159593582153, 0.518074631690979, 0.5156576633453369, 0.5210990905761719, 0.5308049917221069, 0.504813551902771, 0.49581629037857056, 0.5126403570175171, 0.5217045545578003, 0.5018104314804077, 0.5156576633453369, 0.49282538890838623, 0.49402129650115967, 0.49881142377853394, 0.49162977933883667, 0.49043524265289307, 0.5018104314804077, 0.509024441242218, 0.49761292338371277, 0.5192839503288269, 0.5405516028404236, 0.5589373111724854, 0.5503392219543457, 0.5540201663970947, 0.5638642311096191, 0.5725114345550537, 0.5589373111724854, 0.5509522557258606, 0.5368918776512146, 0.5478886365890503, 0.5320211052894592, 0.5326293110847473, 0.5198889970779419, 0.5168659090995789, 0.5217045545578003, 0.5168659090995789, 0.5229159593582153, 0.5326293110847473, 0.5405516028404236, 0.5448285937309265, 0.5460523962974548, 0.5534066557884216, 0.5743681192398071, 0.5650977492332458, 0.5706555843353271, 0.5515657067298889, 0.5756070613861084, 0.5898995995521545, 0.6030226945877075, 0.593017578125, 0.5558627247810364, 0.5626317858695984, 0.5534066557884216, 0.5320211052894592, 0.5289821028709412, 0.5072190761566162, 0.506015956401825, 0.5162615776062012, 0.5024107098579407, 0.5198889970779419, 0.5229159593582153, 0.5030115246772766, 0.49043524265289307, 0.5253404378890991, 0.49881142377853394, 0.49701398611068726, 0.5150539875030518, 0.5411621332168579, 0.5620154142379761, 0.565714418888092, 0.565714418888092, 0.565714418888092, 0.5836750864982605, 0.6030226945877075, 0.6339170932769775, 0.6199986338615417, 0.665836751461029, 0.6812995076179504, 0.7118450403213501, 0.6793614029884338, 0.6434512138366699, 0.6307473182678223, 0.5855407118797302, 0.5718926191329956, 0.5731303095817566, 0.5780865550041199, 0.5375015735626221, 0.5583220720291138, 0.5731303095817566, 0.5731303095817566, 0.5156576633453369, 0.5460523962974548, 0.5174703001976013, 0.5253404378890991, 0.5320211052894592, 0.48685529828071594, 0.5138468742370605, 0.4724445343017578, 0.4866967797279358, 0.4405611753463745, 0.4798690676689148, 0.5306387543678284, 0.6046792268753052, 0.5968459248542786, 0.5741413831710815, 0.5651194453239441, 0.5173667669296265, 0.540165901184082, 0.5357151627540588, 0.5123308300971985, 0.47553518414497375, 0.5205199718475342, 0.5167366862297058, 0.4693583846092224, 0.47739145159721375, 0.4055526852607727, 0.4326638877391815, 0.4576706886291504, 0.5319069623947144, 0.5117020606994629, 0.5606212615966797, 0.5929387807846069, 0.5586958527565002, 0.5696262717247009, 0.5293713808059692, 0.4885624945163727, 0.5255736112594604, 0.503544807434082, 0.5004153251647949, 0.5066788196563721, 0.481729120016098, 0.445436030626297, 0.43812811374664307, 0.45399293303489685, 0.5129597783088684, 0.5561312437057495, 0.5338103175163269, 0.4941690266132355, 0.5427131056785583, 0.5638331174850464, 0.5382575988769531, 0.46566078066825867, 0.4564443528652191, 0.4417787790298462, 0.43752026557922363, 0.4417787790298462, 0.4175587594509125, 0.39599767327308655, 0.4055526852607727, 0.38945454359054565, 0.36349037289619446, 0.3664240539073944, 0.3401765823364258, 0.3971898853778839, 0.37997427582740784, 0.40854787826538086, 0.4091472625732422, 0.4223804473876953, 0.42057105898857117, 0.4290287494659424, 0.4031597971916199, 0.3623183071613312, 0.3378604054450989, 0.35005128383636475, 0.41455069184303284, 0.4253998398780823, 0.4115470349788666, 0.40256208181381226, 0.42358773946762085, 0.44238799810409546, 0.44909897446632385, 0.481729120016098, 0.4509331285953522, 0.4521564841270447, 0.47553518414497375, 0.44971027970314026, 0.45399296283721924, 0.42660877108573914, 0.45399293303489685, 0.4792494475841522, 0.46627676486968994, 0.39540210366249084, 0.4169568419456482, 0.4527685046195984, 0.4478773772716522, 0.45583122968673706, 0.43448373675346375, 0.43448373675346375, 0.4133487939834595, 0.4079485237598419, 0.4169568419456482, 0.4601261019706726, 0.47368040680885315, 0.46627676486968994, 0.47553518414497375, 0.4804888367652893, 0.48794040083885193, 0.4792494475841522, 0.46750885248184204, 0.4798690676689148, 0.4417787790298462, 0.4241916835308075, 0.39004841446876526, 0.40734922885894775, 0.38174834847450256, 0.32574525475502014, 0.35646727681159973, 0.36114662885665894, 0.36349037289619446, 0.3234463036060333, 0.36877408623695374, 0.3924260437488556, 0.43691253662109375, 0.40854787826538086, 0.4521564841270447, 0.47553518414497375, 0.4786298871040344, 0.4786298871040344, 0.4509331285953522, 0.4509331285953522, 0.47306230664253235, 0.4570574164390564, 0.4749166667461395, 0.46319931745529175, 0.4644297957420349, 0.4503214657306671, 0.4564443528652191, 0.47553518414497375, 0.485453724861145, 0.4681253135204315, 0.4429970979690552, 0.4687418043613434, 0.48483243584632874, 0.44206559658050537, 0.45370879769325256, 0.4549379050731659, 0.47594258189201355, 0.45002514123916626, 0.43535372614860535, 0.47036299109458923, 0.4487987160682678, 0.47904855012893677, 0.46232840418815613, 0.4728410542011261, 0.46109485626220703, 0.45309436321258545, 0.440233051776886, 0.4057118594646454, 0.39731958508491516, 0.3943304717540741, 0.42987778782844543, 0.4123295843601227, 0.4069135785102844, 0.40992066264152527, 0.3943304717540741, 0.4021109342575073, 0.4003129005432129, 0.39074957370758057, 0.39253944158554077, 0.4057118594646454, 0.4329182207584381, 0.4081156849861145, 0.4329182207584381, 0.4512523114681244, 0.456167995929718, 0.41534462571144104, 0.4219931364059448, 0.40271055698394775, 0.41172707080841064, 0.4057118594646454, 0.4057118594646454, 0.3937334418296814, 0.3758964538574219, 0.35235750675201416, 0.3676261007785797, 0.3758964538574219, 0.38777032494544983, 0.36232760548591614, 0.3676261007785797, 0.372938871383667, 0.4057118594646454, 0.39015352725982666, 0.37648847699165344, 0.389557421207428, 0.3979179263114929, 0.39851638674736023, 0.389557421207428, 0.3931361436843872, 0.3937334418296814, 0.41353508830070496, 0.39971378445625305, 0.4159483313560486, 0.41896846890449524, 0.426235169172287, 0.41172707080841064, 0.40391048789024353, 0.42684176564216614, 0.42684176564216614, 0.38479524850845337, 0.35001882910728455, 0.3552846312522888, 0.347099244594574, 0.3511877954006195, 0.3682158291339874, 0.39492806792259216, 0.37648847699165344, 0.37708064913749695, 0.3564564883708954, 0.31183168292045593, 0.3032578229904175, 0.34243735671043396, 0.3640922009944916, 0.35001882910728455, 0.3511877954006195, 0.32505375146865845, 0.3401105999946594, 0.32505375146865845, 0.3325676918029785, 0.35938990116119385, 0.3588029742240906, 0.3198690116405487, 0.3406919240951538, 0.3646807074546814, 0.40271055698394775, 0.4033104479312897, 0.37471285462379456, 0.33025234937667847, 0.33604538440704346, 0.35352781414985657, 0.32620787620544434, 0.27215200662612915, 0.26375871896743774, 0.2587413489818573, 0.2581847012042999, 0.26431703567504883, 0.27608197927474976, 0.2794571816921234, 0.26041218638420105, 0.23881016671657562, 0.19638347625732422, 0.18834273517131805, 0.15813370048999786, 0.17025762796401978, 0.17714954912662506, 0.17821234464645386, 0.19853413105010986, 0.22073431313037872, 0.18994787335395813, 0.227833092212677, 0.23454216122627258, 0.22598423063755035, 0.24314163625240326, 0.259305477142334, 0.2791288495063782, 0.2814749777317047, 0.2616265118122101, 0.2861764430999756, 0.30094587802886963, 0.3056967258453369, 0.2820620536804199, 0.27210772037506104, 0.28264936804771423, 0.2873538136482239, 0.2668595314025879, 0.2558296024799347, 0.2581460773944855, 0.23054324090480804, 0.24544186890125275, 0.26220712065696716, 0.2703567147254944, 0.295615553855896, 0.28382429480552673, 0.27678534388542175, 0.28971067070961, 0.3116520941257477, 0.3086719810962677, 0.30094587802886963, 0.30213239789009094, 0.31105560064315796, 0.33264341950416565, 0.35997018218040466, 0.34474167227745056, 0.3563045561313629, 0.32722368836402893, 0.3158319294452667, 0.3068862557411194, 0.28558841347694397, 0.30748146772384644, 0.3104594945907593, 0.33445340394973755, 0.32181909680366516, 0.3200210928916931, 0.3068862557411194, 0.33747363090515137, 0.33505699038505554, 0.3170279562473297, 0.3308351933956146, 0.3104594945907593, 0.3266223669052124, 0.34838587045669556, 0.290707528591156, 0.290707528591156, 0.2836167514324188, 0.29960906505584717, 0.29901430010795593, 0.29307717084884644, 0.2730312943458557, 0.24972526729106903, 0.26776134967803955, 0.25784832239151, 0.21532602608203888, 0.21248961985111237, 0.20513662695884705, 0.22386299073696136, 0.22158241271972656, 0.22101277112960815, 0.2011902779340744, 0.18996495008468628, 0.21532602608203888, 0.18772873282432556, 0.18326504528522491, 0.19220401346683502, 0.18437980115413666, 0.2170301079750061, 0.2410627156496048, 0.2865680158138275, 0.2789044976234436, 0.24452270567417145, 0.2701016664505005, 0.28184831142425537, 0.29960906505584717, 0.2865680158138275, 0.25552377104759216, 0.24683314561843872, 0.2730312943458557, 0.27361783385276794, 0.2718588411808014, 0.2665922939777374, 0.2836167514324188, 0.29426300525665283, 0.27420443296432495, 0.2724449932575226, 0.2718588411808014, 0.2595936954021454, 0.27772849798202515, 0.29604342579841614, 0.30198997259140015, 0.38163521885871887, 0.3754408061504364, 0.3723507523536682, 0.3922092318534851, 0.37358617782592773, 0.40974554419517517, 0.38971641659736633, 0.3859826326370239, 0.3563585579395294, 0.3553078770637512, 0.4014585316181183, 0.4033779203891754, 0.4149307608604431, 0.39061692357063293, 0.3773033916950226, 0.3766714334487915, 0.38743913173675537, 0.39443695545196533, 0.39954131841659546, 0.3798324763774872, 0.3989025354385376, 0.3785674273967743, 0.38553473353385925, 0.3236904442310333, 0.3249207139015198, 0.35906144976615906, 0.36910539865493774, 0.39826399087905884, 0.4323802590370178, 0.43043407797813416, 0.4375782907009125, 0.45521584153175354, 0.4421371817588806, 0.45128393173217773, 0.4453994035720825, 0.4356275200843811, 0.47630757093429565, 0.4822763502597809, 0.4935946464538574, 0.5204532742500305, 0.5022888779640198, 0.5016187429428101, 0.5076557397842407, 0.5123623013496399, 0.4895934462547302, 0.49960994720458984, 0.52112877368927, 0.5462641716003418, 0.5696020126342773, 0.5489981174468994, 0.5455812811851501, 0.5306075811386108, 0.5069841146469116, 0.48826122283935547, 0.49626612663269043, 0.4683744013309479, 0.47962144017219543, 0.4637599289417267, 0.46178510785102844, 0.45521584153175354, 0.4584980309009552, 0.47829532623291016, 0.4723373353481293, 0.4922601282596588, 0.4989408254623413, 0.484269380569458, 0.5076557397842407, 0.5069841146469116, 0.4869299530982971, 0.4604695737361908, 0.45784127712249756, 0.45193883776664734, 0.4915931820869446, 0.48161235451698303, 0.5272176265716553, 0.5387632846832275, 0.5177530646324158, 0.5558462142944336, 0.5326436161994934, 0.5143823623657227, 0.5218046307563782, 0.5689124464988708, 0.562714159488678, 0.5689124464988708, 0.5682228207588196, 0.5285729765892029, 0.5042997598648071, 0.518427848815918, 0.5489980578422546, 0.5537896156311035, 0.5353613495826721, 0.5157299637794495, 0.518427848815918, 0.5640902519226074, 0.5620265603065491, 0.5917775630950928, 0.6275407075881958, 0.650956928730011, 0.6381577253341675, 0.6367394328117371, 0.6324894428253174, 0.6324894428253174, 0.6595252752304077, 0.6991626024246216, 0.6940847039222717, 0.6760280728340149, 0.7086187601089478, 0.7188394665718079, 0.7298329472541809, 0.6688401103019714, 0.6452601552009583, 0.6141568422317505, 0.6466830372810364, 0.6197834014892578, 0.6127521395683289, 0.6204874515533447, 0.6324894428253174, 0.6466830372810364, 0.6409963369369507, 0.6057406663894653, 0.6141568422317505, 0.6324894428253174, 0.6218964457511902, 0.6120501756668091, 0.614859402179718, 0.6113482713699341, 0.5806646347045898, 0.6324894428253174, 0.6825140714645386, 0.6789090037345886, 0.6861245036125183, 0.663104236125946, 0.6064409613609314, 0.6317821741104126, 0.566844642162323, 0.5647785663604736, 0.5661556720733643, 0.5592775344848633, 0.5613391399383545, 0.5469474792480469, 0.5401249527931213, 0.5765100121498108, 0.5696020722389221, 0.5489980578422546, 0.5558461546897888, 0.5924736261367798, 0.5620265603065491, 0.5723628997802734, 0.5896899104118347, 0.5966554880142212, 0.6022425889968872, 0.5820506811141968, 0.6001461744308472, 0.5903856158256531, 0.5952608585357666, 0.5675337314605713, 0.5661556720733643, 0.6113482713699341, 0.6395766139030457, 0.6240115165710449, 0.6113482713699341, 0.6211920976638794, 0.608542799949646, 0.6078420877456665, 0.607141375541687, 0.5952608585357666, 0.6050406694412231, 0.6008448004722595, 0.5517346858978271, 0.5191026926040649, 0.5524193644523621, 0.586909294128418, 0.5903856158256531, 0.5565319061279297, 0.4984727203845978, 0.4129926562309265, 0.4402191936969757, 0.48001694679260254, 0.4664444327354431, 0.45430099964141846, 0.4677979648113251, 0.49504342675209045, 0.45766738057136536, 0.4677979648113251, 0.4650917947292328, 0.4657680094242096, 0.4235759377479553, 0.4482545852661133, 0.3711945116519928, 0.3796156644821167, 0.3900284469127655, 0.40574774146080017, 0.46171388030052185, 0.4362129271030426, 0.4556468427181244, 0.4415563642978668, 0.46306443214416504, 0.4482545852661133, 0.4475838243961334, 0.4415563642978668, 0.43221408128738403, 0.43354618549346924, 0.4759363830089569, 0.4902512729167938, 0.48751750588417053, 0.49641457200050354, 0.4882006049156189, 0.49710044264793396, 0.5337511301040649, 0.521930992603302, 0.5639198422431946, 0.5716995000839233, 0.5695750713348389, 0.5526487231254578, 0.5646258592605591, 0.5667456984519958, 0.5260959267616272, 0.5477348566055298, 0.5463324189186096, 0.5295722484588623, 0.5191585421562195, 0.4813787341117859, 0.5005328059196472, 0.5053470134735107, 0.5323573350906372, 0.49778634309768677, 0.5240124464035034, 0.5019073486328125, 0.4868345260620117, 0.5025948286056519, 0.5025948286056519, 0.5435307621955872, 0.5463324189186096, 0.5400334596633911, 0.5519460439682007, 0.572408139705658, 0.580215573310852, 0.6275926828384399, 0.6766193509101868, 0.6877238154411316, 0.7026023268699646, 0.7138158082962036, 0.7213174700737, 0.7175642848014832, 0.7213174700737, 0.7500125765800476, 0.6803156137466431, 0.6869817972183228, 0.7273337841033936, 0.6884655952453613, 0.6951528191566467, 0.6803156137466431, 0.6677696704864502, 0.643587589263916, 0.6333975791931152, 0.6854990720748901, 0.678836464881897, 0.6472367644309998, 0.6618862748146057, 0.677358090877533, 0.6618862748146057, 0.6618862748146057, 0.6363045573234558, 0.6304933428764343, 0.6392152905464172, 0.6670334935188293, 0.6803156137466431, 0.6670334935188293, 0.6869817972183228, 0.6973851323127747, 0.6840169429779053, 0.6862404942512512, 0.6729280948638916, 0.6692425608634949, 0.6508914828300476, 0.6685059666633606, 0.6692425608634949, 0.6494292616844177, 0.6708119511604309, 0.6323351860046387, 0.6581696271896362, 0.6419003009796143, 0.6220749616622925, 0.6301333904266357, 0.6389532685279846, 0.6323351860046387, 0.6352748274803162, 0.6360097527503967, 0.6730495691299438, 0.6970345377922058, 0.6737956404685974, 0.6537224054336548, 0.6478046178817749, 0.6581696271896362, 0.6955291628837585, 0.7106220722198486, 0.7068405747413635, 0.7364745140075684, 0.7718408107757568, 0.7741629481315613, 0.7372384667396545, 0.5422105193138123, 0.5922679305076599, 0.5464601516723633, 0.5721189379692078, 0.6147717237472534, 0.5922679305076599, 0.6220749616622925, 0.6220749616622925, 0.6140425801277161, 0.590823233127594, 0.5699701309204102, 0.590100884437561, 0.5671079158782959, 0.5771404504776001, 0.6031311750411987, 0.5814530253410339, 0.5944369435310364, 0.5663929581642151, 0.5792957544326782, 0.6031311750411987, 0.587936282157898, 0.616960346698761, 0.5692542791366577, 0.5922679305076599, 0.5886573195457458, 0.5836120843887329, 0.5864937901496887, 0.5742699503898621, 0.5850526094436646, 0.5850526094436646, 0.6140425801277161, 0.6125850081443787, 0.6140425801277161, 0.6111281514167786, 0.5980555415153503, 0.6002296209335327, 0.6140426397323608, 0.6213437914848328, 0.6404264569282532, 0.6805213689804077, 0.6820183992385864, 0.6812697052955627, 0.6782777309417725, 0.6685765981674194, 0.6581696271896362, 0.6693214774131775, 0.6655987501144409, 0.639690101146698, 0.6213437914848328, 0.6250022053718567, 0.6257344484329224, 0.6272000074386597, 0.6478046178817749, 0.639690101146698, 0.6264669895172119, 0.6213437914848328, 0.6272000074386597, 0.6198816895484924, 0.6111281514167786, 0.5922679305076599, 0.577858567237854, 0.6104001998901367, 0.6060362458229065, 0.6308670043945312, 0.6264669895172119, 0.6374812722206116, 0.6279330253601074, 0.6338045001029968, 0.6663430333137512, 0.6767828464508057, 0.6723033785820007, 0.6805213689804077, 0.6730495691299438, 0.6463271975517273, 0.6552039980888367, 0.661881685256958, 0.6581696271896362, 0.6670872569084167, 0.667831540107727, 0.7075965404510498, 0.7364745140075684, 0.7296072244644165, 0.733420193195343, 0.7479577660560608, 0.7889128923416138, 0.7602592706680298, 0.7602592706680298, 0.7410620450973511, 0.7242778539657593, 0.704574704170227, 0.6902669668197632, 0.6655987501144409, 0.6441128253936768, 0.6515013575553894, 0.6737956404685974, 0.6603962182998657, 0.6805213689804077, 0.7030647993087769, 0.6872643828392029, 0.6596537232398987, 0.6574277281761169, 0.675288736820221, 0.7038196921348572, 0.7235174775123596, 0.7410620450973511, 0.7448908686637878, 0.7672026753425598, 0.7679751515388489, 0.7591786980628967, 0.7208093404769897, 0.7317176461219788, 0.7765787243843079, 0.7458064556121826, 0.7710307836532593, 0.7317176461219788, 0.7434536218643188, 0.7215868830680847, 0.7130441665649414, 0.7130441665649414, 0.6411428451538086, 0.6615932583808899, 0.650211751461029, 0.6186116337776184, 0.6141297221183777, 0.5977645516395569, 0.5977645516395569, 0.6441624164581299, 0.6562755703926086, 0.6562755703926086, 0.6547583937644958, 0.6358674168586731, 0.6245999932289124, 0.613383412361145, 0.6044460535049438, 0.5763584971427917, 0.5638979077339172, 0.609655499458313, 0.6186116337776184, 0.6014742851257324, 0.6066774725914001, 0.5763584971427917, 0.5741549134254456, 0.5653603672981262, 0.5985058546066284, 0.5726867914199829, 0.5406191349029541, 0.5609754920005798, 0.5653603672981262, 0.5398953557014465, 0.5471430420875549, 0.5726867914199829, 0.5690207481384277, 0.5815081596374512, 0.5866687297821045, 0.5874068737030029, 0.5874068737030029, 0.6178640127182007, 0.608910858631134, 0.6133834719657898, 0.6186116337776184, 0.6014742851257324, 0.6022170186042786, 0.5726867914199829, 0.5726868510246277, 0.580771803855896, 0.5822448134422302, 0.5741549134254456, 0.5792999267578125, 0.5690207481384277, 0.5763584971427917, 0.5565985441207886, 0.5485953688621521, 0.5726867914199829, 0.5726867914199829, 0.5763584971427917, 0.5536850690841675, 0.5558698773384094, 0.552229642868042, 0.5456916689872742, 0.5118443369865417, 0.4954618811607361, 0.5068456530570984, 0.47356927394866943, 0.4841354489326477, 0.4841354489326477, 0.4791981875896454, 0.4799027740955353, 0.49333375692367554, 0.4961716830730438, 0.5218746066093445, 0.4827236533164978, 0.4848414957523346, 0.3270091712474823, 0.3540266454219818, 0.34608033299446106, 0.33816614747047424, 0.33948299288749695, 0.3322514295578003, 0.30747702717781067, 0.3178694248199463, 0.32308679819107056, 0.3322514295578003, 0.3329078257083893, 0.3487255275249481, 0.34277892112731934, 0.3087730407714844, 0.31331580877304077, 0.3094213008880615, 0.30036529898643494, 0.31331580877304077, 0.3165672719478607, 0.3042411506175995, 0.29071059823036194, 0.3023022413253784, 0.3081248998641968, 0.3329078257083893, 0.3094213008880615, 0.3087730407714844, 0.3010106682777405, 0.31591641902923584, 0.30682942271232605, 0.3023022413253784, 0.31396549940109253, 0.3165672719478607, 0.34541961550712585, 0.33619266748428345, 0.31396549940109253, 0.3132864832878113, 0.30417516827583313, 0.3061237037181854, 0.2976936995983124, 0.31133031845092773, 0.2983407974243164, 0.2803053557872772, 0.29252466559410095, 0.3028770089149475, 0.3009316921234131, 0.2944614291191101, 0.279664546251297, 0.2899455726146698, 0.2790239155292511, 0.28544068336486816, 0.28222936391830444, 0.29963576793670654, 0.31067875027656555, 0.3132864832878113, 0.2944614291191101, 0.3028770089149475, 0.2643497884273529, 0.2656211853027344, 0.2649853527545929, 0.2637145519256592, 0.24036291241645813, 0.2266215682029724, 0.21483996510505676, 0.18542881309986115, 0.1830006241798401, 0.19639882445335388, 0.19639882445335388, 0.19639882445335388, 0.16490060091018677, 0.1751331388950348, 0.15413452684879303, 0.17271991074085236, 0.20191042125225067, 0.20805519819259644, 0.22724385559558868, 0.2086709886789322, 0.20559468865394592, 0.21422207355499268, 0.2086709886789322, 0.19029560685157776, 0.16610118746757507, 0.16850492358207703, 0.17332293093204498, 0.17997030913829803, 0.1637008786201477, 0.1763412058353424, 0.18542881309986115, 0.16310136020183563, 0.17271991074085236, 0.17875981330871582, 0.18057596683502197, 0.18118181824684143, 0.1915145367383957, 0.1915145367383957, 0.2049800455570221, 0.20252390205860138, 0.20313763618469238, 0.20559468865394592, 0.19395503401756287, 0.19701038300991058, 0.2266215682029724, 0.25610777735710144, 0.2510543465614319, 0.24098992347717285, 0.21917131543159485, 0.22786632180213928, 0.22165115177631378, 0.21051940321922302, 0.200684055685997, 0.1909049153327942, 0.22724385559558868, 0.2185518890619278, 0.20805519819259644, 0.18118181824684143, 0.19884617626667023, 0.18118181824684143, 0.18725216388702393, 0.20191042125225067, 0.18725216388702393, 0.17211700975894928, 0.15652090311050415, 0.14937207102775574, 0.14166274666786194, 0.14640267193317413, 0.12576769292354584, 0.12987348437309265, 0.1517515331506729, 0.13399001955986023, 0.13516800105571747, 0.12459652870893478, 0.13988883793354034, 0.13281278312206268, 0.12401121854782104, 0.11933687329292297, 0.14047996699810028, 0.12401121854782104, 0.11758748441934586, 0.11293203383684158, 0.10020013153553009, 0.10135329514741898, 0.10713192075490952, 0.12225677073001862, 0.10424000769853592, 0.09157853573560715, 0.08585743606090546, 0.08129600435495377, 0.0824350118637085, 0.05477035045623779, 0.06712847948074341, 0.08757153898477554, 0.09100554883480072, 0.12987348437309265, 0.13929805159568787, 0.14225447177886963, 0.13693679869174957, 0.18786053359508514, 0.17997030913829803, 0.17392611503601074, 0.17151449620723724, 0.17031005024909973, 0.1945655196905136, 0.19762210547924042, 0.19212423264980316, 0.22724385559558868, 0.22475598752498627, 0.23035860061645508, 0.21400071680545807, 0.21656696498394012, 0.21079814434051514, 0.2255789339542389, 0.25289395451545715, 0.26406964659690857, 0.27597776055336, 0.2753142714500427, 0.2522387206554413, 0.2561738193035126, 0.22428861260414124, 0.2301023006439209, 0.21592506766319275, 0.21400071680545807, 0.22493359446525574, 0.25814440846443176, 0.2443944662809372, 0.2588018476963043, 0.28062987327575684, 0.2946561872959137, 0.2660488784313202, 0.29532673954963684, 0.29666852951049805, 0.38455379009246826, 0.402182012796402, 0.395818293094635, 0.3538963496685028, 0.37474820017814636, 0.36221086978912354, 0.3504422605037689, 0.3346312344074249, 0.34355223178863525, 0.3401162624359131, 0.3483726382255554, 0.33668628334999084, 0.31894800066947937, 0.31487759947776794, 0.31894800066947937, 0.30676308274269104, 0.306088387966156, 0.2939858138561249, 0.28729575872421265, 0.27929943799972534, 0.3332623839378357, 0.3601290285587311, 0.3504422605037689, 0.3264326751232147, 0.3497520685195923, 0.3817472457885742, 0.39652445912361145, 0.4314214587211609, 0.4749494194984436, 0.43573489785194397, 0.43501535058021545, 0.4458332657814026, 0.4386151134967804, 0.4378948211669922, 0.4314214587211609, 0.4407781660556793, 0.4955630302429199, 0.5253433585166931, 0.5991828441619873, 0.5646418929100037, 0.5403800010681152, 0.5343536138534546, 0.5373647212982178, 0.5336013436317444, 0.4654439389705658, 0.4749494194984436, 0.4874420464038849, 0.48596858978271484, 0.48891639709472656, 0.45670607686042786, 0.48376041650772095, 0.4749494194984436, 0.4903917610645294, 0.49778303503990173, 0.4712885618209839, 0.48008495569229126, 0.48155438899993896, 0.47202029824256897, 0.4749494194984436, 0.49778303503990173, 0.4918680191040039, 0.4712885618209839, 0.3817472457885742, 0.38806718587875366, 0.39440691471099854, 0.4149685502052307, 0.43285834789276123, 0.4278338849544525, 0.4078551232814789, 0.4000586271286011, 0.37195536494255066, 0.36082273721694946, 0.3538963496685028, 0.31216901540756226, 0.31216901540756226, 0.3162335157394409, 0.28596067428588867, 0.31894800066947937, 0.3155554234981537, 0.3155554234981537, 0.32166627049446106, 0.3114924430847168, 0.3552795946598053, 0.3552795946598053, 0.37404966354370117, 0.37265312671661377, 0.36429494619369507, 0.38525599241256714, 0.359435498714447, 0.33668628334999084, 0.3264326751232147, 0.30406588315963745, 0.33189448714256287, 0.3209863603115082, 0.33189448714256287, 0.32166627049446106, 0.3209863603115082, 0.3325783610343933, 0.3027188181877136, 0.31216901540756226, 0.32166627049446106, 0.33189448714256287, 0.35320499539375305, 0.34699416160583496, 0.36522966623306274, 0.3623806834220886, 0.378817617893219, 0.36380457878112793, 0.3695107102394104, 0.357404887676239, 0.34749066829681396, 0.33762624859809875, 0.3730852007865906, 0.41136711835861206, 0.39466607570648193, 0.3932202160358429, 0.41136711835861206, 0.43704116344451904, 0.43704116344451904, 0.43482834100723267, 0.4407343566417694, 0.4533396065235138, 0.4377792179584503, 0.43999531865119934, 0.42967379093170166, 0.4392564296722412, 0.47201117873191833, 0.47877225279808044, 0.5167115330696106, 0.5075475573539734, 0.5144171118736267, 0.5006988644599915, 0.48706376552581787, 0.5006988644599915, 0.5029794573783875, 0.5405560731887817, 0.5197743773460388, 0.4969030022621155, 0.49235647916793823, 0.4795246422290802, 0.47501346468925476, 0.4705115258693695, 0.4847992956638336, 0.4878191649913788, 0.49766165018081665, 0.5121248364448547, 0.5421029329299927, 0.5662100315093994, 0.5506288409233093, 0.5818937420845032, 0.54365074634552, 0.5607448816299438, 0.567773699760437, 0.5654283761978149, 0.5521823763847351, 0.5623050928115845, 0.546749472618103, 0.5591857433319092, 0.5630855560302734, 0.5771779417991638, 0.5960967540740967, 0.5905633568763733, 0.5740390419960022, 0.6127716898918152, 0.5968881845474243, 0.5662100315093994, 0.5818937420845032, 0.5960967540740967, 0.6032294034957886, 0.6135686039924622, 0.5763927698135376, 0.614365816116333, 0.5826805830001831, 0.5818937420845032, 0.6079959869384766, 0.6024359464645386, 0.6577902436256409, 0.6822364926338196, 0.6610365509986877, 0.63116455078125, 0.6327701807022095, 0.6464604735374451, 0.6472679972648621, 0.6904361248016357, 0.6781461834907532, 0.6822364926338196, 0.6822364926338196, 0.7193356156349182, 0.7687541842460632, 0.7069120407104492, 0.6912575960159302, 0.7276496291160583, 0.7127026319503784, 0.7443536520004272, 0.6986614465713501, 0.7118744850158691, 0.7451913356781006, 0.7577896118164062, 0.766220211982727, 0.7544246315956116, 0.7485454678535461, 0.706085741519928, 0.7368243336677551, 0.7151881456375122, 0.7318162322044373, 0.7611589431762695, 0.7401681542396545, 0.7251526713371277, 0.7393317818641663, 0.7384956479072571, 0.702783465385437, 0.7168461680412292, 0.7234891057014465, 0.7251526713371277, 0.7891080379486084, 0.7763697504997253, 0.8078925013542175, 0.8130368590354919, 0.7891080379486084, 0.8181899785995483, 0.8072091937065125, 0.813370406627655, 0.8010609745979309, 0.813370406627655, 0.7765977382659912, 0.7687785625457764, 0.7360023856163025, 0.7523425817489624, 0.7300068140029907, 0.7583868503570557, 0.7800798416137695, 0.7592512369155884, 0.7679110765457153, 0.8470419049263, 0.8098483681678772, 0.8497161269187927, 0.797553539276123, 0.8001837730407715, 0.8221943974494934, 0.7993069291114807, 0.7783383131027222, 0.7958015203475952, 0.7844382524490356, 0.7984299063682556, 0.8001837730407715, 0.7940505146980286, 0.8221943974494934, 0.794926106929779, 0.7853110432624817, 0.760981023311615, 0.7592512965202332, 0.7696463465690613, 0.7792088389396667, 0.8151329159736633, 0.7914257049560547, 0.8045726418495178, 0.8028163313865662, 0.8257315158843994, 0.8461507558822632, 0.8443697690963745, 0.8855998516082764, 0.8874050378799438, 0.9429593086242676, 0.9789788722991943, 1.0041424036026, 0.9724852442741394, 0.9558446407318115, 0.9576895236968994, 0.938369631767273, 0.894635796546936, 0.9319546222686768, 0.9200748801231384, 0.8792899250984192, 0.8819928765296936, 0.8937310576438904, 0.9493957161903381, 0.9127858281135559, 0.9374521970748901, 0.9604588747024536, 0.9994689226150513, 0.9985345005989075, 0.9854849576950073, 1.0588184595108032, 1.0342040061950684, 0.996667206287384, 0.9994689226150513, 0.9576895236968994, 0.9392868876457214, 0.8883079290390015, 0.9073301553726196, 0.8756903409957886, 0.8982576131820679, 0.8488245606422424, 0.8028163313865662, 0.8010609745979309, 0.8631235957145691, 0.8810915350914001, 0.8667089343070984, 0.8577535152435303, 0.8613326549530029, 0.8774898648262024, 0.9356188774108887, 0.9036979675292969, 0.8801906108856201, 0.679151713848114, 0.7206109762191772, 0.7471721172332764, 0.7300068140029907, 0.739434540271759, 0.6383369565010071, 0.5618505477905273, 0.42883437871932983, 0.6014235019683838, 0.5379424691200256, 0.36711621284484863, 0.5690703988075256, 0.36931470036506653, 0.3803435266017914, 0.2818511128425598, 0.27067458629608154, 0.2595658600330353, 0.22936579585075378, 0.36784884333610535, 0.46691039204597473, 0.515062689781189, 0.4310998320579529, 0.398115336894989, 0.3568883538246155, 0.34961509704589844, 0.3358694612979889, 0.32222044467926025, 0.37960633635520935, 0.38625025749206543, 0.40631264448165894, 0.43715327978134155, 0.43614721298217773, 0.4689618945121765, 0.45718511939048767, 0.41762009263038635, 0.45093008875846863, 0.486349880695343, 0.49828389286994934, 0.4823860228061676, 0.4007797837257385, 0.42146652936935425, 0.46267303824424744, 0.4815940856933594, 0.4245486855506897, 0.41148054599761963, 0.43614721298217773, 0.41992706060409546, 0.35405483841896057, 0.35405483841896057, 0.3406919240951538, 0.3222832977771759, 0.3164294958114624, 0.35703667998313904, 0.3208181858062744, 0.38483235239982605, 0.4068876802921295, 0.4517109990119934, 0.5704045295715332, 0.5126890540122986, 0.5803003907203674, 0.6127433776855469, 0.6135808229446411, 0.6202912330627441, 0.6135808229446411, 0.6043835878372192, 0.59688401222229, 0.6515620946884155, 0.6127433776855469, 0.6052184104919434, 0.633766233921051, 0.5952205657958984, 0.5844356417655945, 0.5852634310722351, 0.5736985802650452, 0.554002046585083, 0.5605494379997253, 0.6060532927513123, 0.6388381123542786, 0.6127433776855469, 0.6093960404396057, 0.588577926158905, 0.6987589001655579, 0.6219717264175415, 0.6135808229446411, 0.59688401222229, 0.6371462345123291, 0.6278620958328247, 0.6219717264175415, 0.6729096174240112, 0.6396844387054443, 0.6575215458869934, 0.5943892598152161, 0.59688401222229, 0.5745229125022888, 0.5778226852416992, 0.5844356417655945, 0.5869202017784119, 0.6177728176116943, 0.6388381123542786, 0.6303907632827759, 0.6194515228271484, 0.6052184104919434, 0.6085598468780518, 0.6186119318008423, 0.5927274227142334, 0.6110691428184509, 0.6244944334030151, 0.6354559659957886, 0.6035491228103638, 0.571227490901947, 0.5753473043441772, 0.6119061708450317, 0.5943892598152161, 0.5844356417655945, 0.5654717683792114, 0.543401300907135, 0.52718585729599, 0.5150987505912781, 0.47763875126838684, 0.5223434567451477, 0.5247633457183838, 0.5296110510826111, 0.5110838413238525, 0.5118862986564636, 0.5150987505912781, 0.4990818202495575, 0.4736904501914978, 0.5102817416191101, 0.5014771223068237, 0.5597299933433533, 0.5646507143974304, 0.5393368005752563, 0.588577926158905, 0.5977160334587097, 0.6219717264175415, 0.5844356417655945, 0.5745229125022888, 0.6253359913825989, 0.6010476350784302, 0.5654717683792114, 0.571227490901947, 0.5425878763198853, 0.5030754804611206, 0.5239564180374146, 0.5263781547546387, 0.5385246276855469, 0.5328484177589417, 0.4823860228061676, 0.4501495659351349, 0.44936928153038025, 0.46031928062438965, 0.44484254717826843, 0.45831331610679626, 0.4464229345321655, 0.41971421241760254, 0.4654788374900818, 0.4599035978317261, 0.46468156576156616, 0.5097822546958923, 0.5105960369110107, 0.5057182908058167, 0.4774742126464844, 0.49195507168769836, 0.4694700241088867, 0.4694700241088867, 0.4401082694530487, 0.43224114179611206, 0.40338563919067383, 0.374927818775177, 0.36730480194091797, 0.3468669056892395, 0.34988147020339966, 0.36046871542930603, 0.437745064496994, 0.437745064496994, 0.44484254717826843, 0.4503791332244873, 0.4432632625102997, 0.3879537284374237, 0.3918008506298065, 0.43067121505737305, 0.4606991708278656, 0.4599035978317261, 0.4662765562534332, 0.4345981776714325, 0.4766724407672882, 0.47346848249435425, 0.46468156576156616, 0.483898401260376, 0.49356991052627563, 0.5450342893600464, 0.5599510669708252, 0.5925951600074768, 0.5783112049102783, 0.5475139617919922, 0.550823986530304, 0.5024722218513489, 0.5409075617790222, 0.5458606481552124, 0.5252923369407654, 0.5400829315185547, 0.5516523122787476, 0.5326758027076721, 0.5146688222885132, 0.5065304636955261, 0.5065304636955261, 0.526111364364624, 0.5277508497238159, 0.5533098578453064, 0.5285708904266357, 0.5122243165969849, 0.4943777322769165, 0.46388453245162964, 0.4606991708278656, 0.49356991052627563, 0.48470279574394226, 0.4984213411808014, 0.49356991052627563, 0.5400829315185547, 0.4984213411808014, 0.5024722218513489, 0.49114805459976196, 0.4822906255722046, 0.45513612031936646, 0.45117121934890747, 0.4228389263153076, 0.4503791332244873, 0.4654788374900818, 0.420494943857193, 0.427534818649292, 0.4432632625102997, 0.4591082036495209, 0.44563254714012146, 0.43224114179611206, 0.42675143480300903, 0.4244030714035034, 0.41503584384918213, 0.4361710250377655, 0.44721364974975586, 0.427534818649292, 0.4244030714035034, 0.35895276069641113, 0.37645605206489563, 0.3841138780117035, 0.3711126744747162, 0.3536560535430908, 0.3288768529891968, 0.32589462399482727, 0.33710166811943054]}],\n",
              "                        {\"legend\": {\"tracegroupgap\": 0}, \"template\": {\"data\": {\"bar\": [{\"error_x\": {\"color\": \"#2a3f5f\"}, \"error_y\": {\"color\": \"#2a3f5f\"}, \"marker\": {\"line\": {\"color\": \"#E5ECF6\", \"width\": 0.5}}, \"type\": \"bar\"}], \"barpolar\": [{\"marker\": {\"line\": {\"color\": \"#E5ECF6\", \"width\": 0.5}}, \"type\": \"barpolar\"}], \"carpet\": [{\"aaxis\": {\"endlinecolor\": \"#2a3f5f\", \"gridcolor\": \"white\", \"linecolor\": \"white\", \"minorgridcolor\": \"white\", \"startlinecolor\": \"#2a3f5f\"}, \"baxis\": {\"endlinecolor\": \"#2a3f5f\", \"gridcolor\": \"white\", \"linecolor\": \"white\", \"minorgridcolor\": \"white\", \"startlinecolor\": \"#2a3f5f\"}, \"type\": \"carpet\"}], \"choropleth\": [{\"colorbar\": {\"outlinewidth\": 0, \"ticks\": \"\"}, \"type\": \"choropleth\"}], \"contour\": [{\"colorbar\": {\"outlinewidth\": 0, \"ticks\": \"\"}, \"colorscale\": [[0.0, \"#0d0887\"], [0.1111111111111111, \"#46039f\"], [0.2222222222222222, \"#7201a8\"], [0.3333333333333333, \"#9c179e\"], [0.4444444444444444, \"#bd3786\"], [0.5555555555555556, \"#d8576b\"], [0.6666666666666666, \"#ed7953\"], [0.7777777777777778, \"#fb9f3a\"], [0.8888888888888888, \"#fdca26\"], [1.0, \"#f0f921\"]], \"type\": \"contour\"}], \"contourcarpet\": [{\"colorbar\": {\"outlinewidth\": 0, \"ticks\": \"\"}, \"type\": \"contourcarpet\"}], \"heatmap\": [{\"colorbar\": {\"outlinewidth\": 0, \"ticks\": \"\"}, \"colorscale\": [[0.0, \"#0d0887\"], [0.1111111111111111, \"#46039f\"], [0.2222222222222222, \"#7201a8\"], [0.3333333333333333, \"#9c179e\"], [0.4444444444444444, \"#bd3786\"], [0.5555555555555556, \"#d8576b\"], [0.6666666666666666, \"#ed7953\"], [0.7777777777777778, \"#fb9f3a\"], [0.8888888888888888, \"#fdca26\"], [1.0, \"#f0f921\"]], \"type\": \"heatmap\"}], \"heatmapgl\": [{\"colorbar\": {\"outlinewidth\": 0, \"ticks\": \"\"}, \"colorscale\": [[0.0, \"#0d0887\"], [0.1111111111111111, \"#46039f\"], [0.2222222222222222, \"#7201a8\"], [0.3333333333333333, \"#9c179e\"], [0.4444444444444444, \"#bd3786\"], [0.5555555555555556, \"#d8576b\"], [0.6666666666666666, \"#ed7953\"], [0.7777777777777778, \"#fb9f3a\"], [0.8888888888888888, \"#fdca26\"], [1.0, \"#f0f921\"]], \"type\": \"heatmapgl\"}], \"histogram\": [{\"marker\": {\"colorbar\": {\"outlinewidth\": 0, \"ticks\": \"\"}}, \"type\": \"histogram\"}], \"histogram2d\": [{\"colorbar\": {\"outlinewidth\": 0, \"ticks\": \"\"}, \"colorscale\": [[0.0, \"#0d0887\"], [0.1111111111111111, \"#46039f\"], [0.2222222222222222, \"#7201a8\"], [0.3333333333333333, \"#9c179e\"], [0.4444444444444444, \"#bd3786\"], [0.5555555555555556, \"#d8576b\"], [0.6666666666666666, \"#ed7953\"], [0.7777777777777778, \"#fb9f3a\"], [0.8888888888888888, \"#fdca26\"], [1.0, \"#f0f921\"]], \"type\": \"histogram2d\"}], \"histogram2dcontour\": [{\"colorbar\": {\"outlinewidth\": 0, \"ticks\": \"\"}, \"colorscale\": [[0.0, \"#0d0887\"], [0.1111111111111111, \"#46039f\"], [0.2222222222222222, \"#7201a8\"], [0.3333333333333333, \"#9c179e\"], [0.4444444444444444, \"#bd3786\"], [0.5555555555555556, \"#d8576b\"], [0.6666666666666666, \"#ed7953\"], [0.7777777777777778, \"#fb9f3a\"], [0.8888888888888888, \"#fdca26\"], [1.0, \"#f0f921\"]], \"type\": \"histogram2dcontour\"}], \"mesh3d\": [{\"colorbar\": {\"outlinewidth\": 0, \"ticks\": \"\"}, \"type\": \"mesh3d\"}], \"parcoords\": [{\"line\": {\"colorbar\": {\"outlinewidth\": 0, \"ticks\": \"\"}}, \"type\": \"parcoords\"}], \"pie\": [{\"automargin\": true, \"type\": \"pie\"}], \"scatter\": [{\"marker\": {\"colorbar\": {\"outlinewidth\": 0, \"ticks\": \"\"}}, \"type\": \"scatter\"}], \"scatter3d\": [{\"line\": {\"colorbar\": {\"outlinewidth\": 0, \"ticks\": \"\"}}, \"marker\": {\"colorbar\": {\"outlinewidth\": 0, \"ticks\": \"\"}}, \"type\": \"scatter3d\"}], \"scattercarpet\": [{\"marker\": {\"colorbar\": {\"outlinewidth\": 0, \"ticks\": \"\"}}, \"type\": \"scattercarpet\"}], \"scattergeo\": [{\"marker\": {\"colorbar\": {\"outlinewidth\": 0, \"ticks\": \"\"}}, \"type\": \"scattergeo\"}], \"scattergl\": [{\"marker\": {\"colorbar\": {\"outlinewidth\": 0, \"ticks\": \"\"}}, \"type\": \"scattergl\"}], \"scattermapbox\": [{\"marker\": {\"colorbar\": {\"outlinewidth\": 0, \"ticks\": \"\"}}, \"type\": \"scattermapbox\"}], \"scatterpolar\": [{\"marker\": {\"colorbar\": {\"outlinewidth\": 0, \"ticks\": \"\"}}, \"type\": \"scatterpolar\"}], \"scatterpolargl\": [{\"marker\": {\"colorbar\": {\"outlinewidth\": 0, \"ticks\": \"\"}}, \"type\": \"scatterpolargl\"}], \"scatterternary\": [{\"marker\": {\"colorbar\": {\"outlinewidth\": 0, \"ticks\": \"\"}}, \"type\": \"scatterternary\"}], \"surface\": [{\"colorbar\": {\"outlinewidth\": 0, \"ticks\": \"\"}, \"colorscale\": [[0.0, \"#0d0887\"], [0.1111111111111111, \"#46039f\"], [0.2222222222222222, \"#7201a8\"], [0.3333333333333333, \"#9c179e\"], [0.4444444444444444, \"#bd3786\"], [0.5555555555555556, \"#d8576b\"], [0.6666666666666666, \"#ed7953\"], [0.7777777777777778, \"#fb9f3a\"], [0.8888888888888888, \"#fdca26\"], [1.0, \"#f0f921\"]], \"type\": \"surface\"}], \"table\": [{\"cells\": {\"fill\": {\"color\": \"#EBF0F8\"}, \"line\": {\"color\": \"white\"}}, \"header\": {\"fill\": {\"color\": \"#C8D4E3\"}, \"line\": {\"color\": \"white\"}}, \"type\": \"table\"}]}, \"layout\": {\"annotationdefaults\": {\"arrowcolor\": \"#2a3f5f\", \"arrowhead\": 0, \"arrowwidth\": 1}, \"coloraxis\": {\"colorbar\": {\"outlinewidth\": 0, \"ticks\": \"\"}}, \"colorscale\": {\"diverging\": [[0, \"#8e0152\"], [0.1, \"#c51b7d\"], [0.2, \"#de77ae\"], [0.3, \"#f1b6da\"], [0.4, \"#fde0ef\"], [0.5, \"#f7f7f7\"], [0.6, \"#e6f5d0\"], [0.7, \"#b8e186\"], [0.8, \"#7fbc41\"], [0.9, \"#4d9221\"], [1, \"#276419\"]], \"sequential\": [[0.0, \"#0d0887\"], [0.1111111111111111, \"#46039f\"], [0.2222222222222222, \"#7201a8\"], [0.3333333333333333, \"#9c179e\"], [0.4444444444444444, \"#bd3786\"], [0.5555555555555556, \"#d8576b\"], [0.6666666666666666, \"#ed7953\"], [0.7777777777777778, \"#fb9f3a\"], [0.8888888888888888, \"#fdca26\"], [1.0, \"#f0f921\"]], \"sequentialminus\": [[0.0, \"#0d0887\"], [0.1111111111111111, \"#46039f\"], [0.2222222222222222, \"#7201a8\"], [0.3333333333333333, \"#9c179e\"], [0.4444444444444444, \"#bd3786\"], [0.5555555555555556, \"#d8576b\"], [0.6666666666666666, \"#ed7953\"], [0.7777777777777778, \"#fb9f3a\"], [0.8888888888888888, \"#fdca26\"], [1.0, \"#f0f921\"]]}, \"colorway\": [\"#636efa\", \"#EF553B\", \"#00cc96\", \"#ab63fa\", \"#FFA15A\", \"#19d3f3\", \"#FF6692\", \"#B6E880\", \"#FF97FF\", \"#FECB52\"], \"font\": {\"color\": \"#2a3f5f\"}, \"geo\": {\"bgcolor\": \"white\", \"lakecolor\": \"white\", \"landcolor\": \"#E5ECF6\", \"showlakes\": true, \"showland\": true, \"subunitcolor\": \"white\"}, \"hoverlabel\": {\"align\": \"left\"}, \"hovermode\": \"closest\", \"mapbox\": {\"style\": \"light\"}, \"paper_bgcolor\": \"white\", \"plot_bgcolor\": \"#E5ECF6\", \"polar\": {\"angularaxis\": {\"gridcolor\": \"white\", \"linecolor\": \"white\", \"ticks\": \"\"}, \"bgcolor\": \"#E5ECF6\", \"radialaxis\": {\"gridcolor\": \"white\", \"linecolor\": \"white\", \"ticks\": \"\"}}, \"scene\": {\"xaxis\": {\"backgroundcolor\": \"#E5ECF6\", \"gridcolor\": \"white\", \"gridwidth\": 2, \"linecolor\": \"white\", \"showbackground\": true, \"ticks\": \"\", \"zerolinecolor\": \"white\"}, \"yaxis\": {\"backgroundcolor\": \"#E5ECF6\", \"gridcolor\": \"white\", \"gridwidth\": 2, \"linecolor\": \"white\", \"showbackground\": true, \"ticks\": \"\", \"zerolinecolor\": \"white\"}, \"zaxis\": {\"backgroundcolor\": \"#E5ECF6\", \"gridcolor\": \"white\", \"gridwidth\": 2, \"linecolor\": \"white\", \"showbackground\": true, \"ticks\": \"\", \"zerolinecolor\": \"white\"}}, \"shapedefaults\": {\"line\": {\"color\": \"#2a3f5f\"}}, \"ternary\": {\"aaxis\": {\"gridcolor\": \"white\", \"linecolor\": \"white\", \"ticks\": \"\"}, \"baxis\": {\"gridcolor\": \"white\", \"linecolor\": \"white\", \"ticks\": \"\"}, \"bgcolor\": \"#E5ECF6\", \"caxis\": {\"gridcolor\": \"white\", \"linecolor\": \"white\", \"ticks\": \"\"}}, \"title\": {\"x\": 0.05}, \"xaxis\": {\"automargin\": true, \"gridcolor\": \"white\", \"linecolor\": \"white\", \"ticks\": \"\", \"title\": {\"standoff\": 15}, \"zerolinecolor\": \"white\", \"zerolinewidth\": 2}, \"yaxis\": {\"automargin\": true, \"gridcolor\": \"white\", \"linecolor\": \"white\", \"ticks\": \"\", \"title\": {\"standoff\": 15}, \"zerolinecolor\": \"white\", \"zerolinewidth\": 2}}}, \"title\": {\"text\": \"Original Price vs. LSTM Predictions\"}, \"xaxis\": {\"anchor\": \"y\", \"domain\": [0.0, 1.0]}, \"yaxis\": {\"anchor\": \"x\", \"domain\": [0.0, 1.0]}},\n",
              "                        {\"responsive\": true}\n",
              "                    ).then(function(){\n",
              "                            \n",
              "var gd = document.getElementById('0016b090-d4b7-4120-8f31-6656b5760555');\n",
              "var x = new MutationObserver(function (mutations, observer) {{\n",
              "        var display = window.getComputedStyle(gd).display;\n",
              "        if (!display || display === 'none') {{\n",
              "            console.log([gd, 'removed!']);\n",
              "            Plotly.purge(gd);\n",
              "            observer.disconnect();\n",
              "        }}\n",
              "}});\n",
              "\n",
              "// Listen for the removal of the full notebook cells\n",
              "var notebookContainer = gd.closest('#notebook-container');\n",
              "if (notebookContainer) {{\n",
              "    x.observe(notebookContainer, {childList: true});\n",
              "}}\n",
              "\n",
              "// Listen for the clearing of the current output cell\n",
              "var outputEl = gd.closest('.output');\n",
              "if (outputEl) {{\n",
              "    x.observe(outputEl, {childList: true});\n",
              "}}\n",
              "\n",
              "                        })\n",
              "                };\n",
              "                \n",
              "            </script>\n",
              "        </div>\n",
              "</body>\n",
              "</html>"
            ]
          },
          "metadata": {
            "tags": []
          }
        }
      ]
    }
  ]
}